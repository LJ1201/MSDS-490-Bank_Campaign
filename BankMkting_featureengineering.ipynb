{
  "nbformat": 4,
  "nbformat_minor": 0,
  "metadata": {
    "colab": {
      "name": "BankMkting_featureengineering.ipynb",
      "provenance": [],
      "collapsed_sections": [],
      "include_colab_link": true
    },
    "kernelspec": {
      "name": "python3",
      "display_name": "Python 3"
    },
    "language_info": {
      "name": "python"
    }
  },
  "cells": [
    {
      "cell_type": "markdown",
      "metadata": {
        "id": "view-in-github",
        "colab_type": "text"
      },
      "source": [
        "<a href=\"https://colab.research.google.com/github/LJ1201/MSDS-490-Bank_Campaign/blob/main/BankMkting_featureengineering.ipynb\" target=\"_parent\"><img src=\"https://colab.research.google.com/assets/colab-badge.svg\" alt=\"Open In Colab\"/></a>"
      ]
    },
    {
      "cell_type": "markdown",
      "source": [
        "##Import packages"
      ],
      "metadata": {
        "id": "K_BMC9DkZnvw"
      }
    },
    {
      "cell_type": "code",
      "execution_count": 200,
      "metadata": {
        "id": "fRRsWXUecCNl"
      },
      "outputs": [],
      "source": [
        "import pandas as pd\n",
        "from sklearn.feature_selection import RFE\n",
        "from sklearn.linear_model import LogisticRegression\n",
        "from sklearn.model_selection import train_test_split\n",
        "from imblearn.over_sampling import SMOTE\n",
        "from sklearn.metrics import confusion_matrix\n",
        "from sklearn.metrics import classification_report\n",
        "from sklearn.metrics import plot_confusion_matrix\n",
        "import statsmodels.api as sm\n",
        "import matplotlib.pyplot as plt"
      ]
    },
    {
      "cell_type": "markdown",
      "source": [
        "## Import dataset\n",
        "\n",
        "Data Source: http://archive.ics.uci.edu/ml/datasets/Bank+Marketing#\n",
        "\n",
        "[Moro et al., 2014] S. Moro, P. Cortez and P. Rita. A Data-Driven Approach to Predict the Success of Bank Telemarketing. Decision Support Systems, Elsevier, 62:22-31, June 2014\n",
        "\n",
        "Data Set Information:\n",
        "\n",
        "The data is related with direct marketing campaigns of a Portuguese banking institution. The marketing campaigns were based on phone calls. Often, more than one contact to the same client was required, in order to access if the product (bank term deposit) would be ('yes') or not ('no') subscribed.\n",
        "\n",
        "There are four datasets:\n",
        "1) bank-additional-full.csv with all examples (41188) and 20 inputs, ordered by date (from May 2008 to November 2010), very close to the data analyzed in [Moro et al., 2014]\n",
        "2) bank-additional.csv with 10% of the examples (4119), randomly selected from 1), and 20 inputs.\n",
        "3) bank-full.csv with all examples and 17 inputs, ordered by date (older version of this dataset with less inputs).\n",
        "4) bank.csv with 10% of the examples and 17 inputs, randomly selected from 3 (older version of this dataset with less inputs).\n",
        "The smallest datasets are provided to test more computationally demanding machine learning algorithms (e.g., SVM).\n",
        "\n",
        "The classification goal is to predict if the client will subscribe (yes/no) a term deposit (variable y).\n",
        "\n",
        "\n",
        "##Attribute Information:\n",
        "\n",
        "Input variables:\n",
        "\n",
        "#Bank client data:\n",
        "\n",
        "1 - age (numeric)\n",
        "\n",
        "2 - job : type of job (categorical: 'admin.','blue-collar','entrepreneur','housemaid','management','retired','self-employed','services','student','technician','unemployed','unknown')\n",
        "\n",
        "3 - marital : marital status (categorical: 'divorced','married','single','unknown'; note: 'divorced' means divorced or widowed)\n",
        "\n",
        "4 - education (categorical: 'basic.4y','basic.6y','basic.9y','high.school','illiterate','professional.course','university.degree','unknown')\n",
        "\n",
        "5 - default: has credit in default? (categorical: 'no','yes','unknown')\n",
        "\n",
        "6 - housing: has housing loan? (categorical: 'no','yes','unknown')\n",
        "\n",
        "7 - loan: has personal loan? (categorical: 'no','yes','unknown')\n",
        "\n",
        "\n",
        "\n",
        "Related with the last contact of the current campaign:\n",
        "\n",
        "8 - contact: contact communication type (categorical: 'cellular','telephone')\n",
        "\n",
        "9 - month: last contact month of year (categorical: 'jan', 'feb', 'mar', ..., 'nov', 'dec')\n",
        "\n",
        "10 - day_of_week: last contact day of the week (categorical: 'mon','tue','wed','thu','fri')\n",
        "\n",
        "11 - duration: last contact duration, in seconds (numeric). Important note: this attribute highly affects the output target (e.g., if duration=0 then y='no'). Yet, the duration is not known before a call is performed. Also, after the end of the call y is obviously known. Thus, this input should only be included for benchmark purposes and should be discarded if the intention is to have a realistic predictive model.\n",
        "\n",
        "#Other attributes:\n",
        "\n",
        "12 - campaign: number of contacts performed during this campaign and for this client (numeric, includes last contact)\n",
        "\n",
        "13 - pdays: number of days that passed by after the client was last contacted from a previous campaign (numeric; 999 means client was not previously contacted)\n",
        "\n",
        "14 - previous: number of contacts performed before this campaign and for this client (numeric)\n",
        "\n",
        "15 - poutcome: outcome of the previous marketing campaign (categorical: 'failure','nonexistent','success')\n",
        "# social and economic context attributes\n",
        "16 - emp.var.rate: employment variation rate - quarterly indicator (numeric)\n",
        "\n",
        "\n",
        "17 - cons.price.idx: consumer price index - monthly indicator (numeric)\n",
        "\n",
        "\n",
        "18 - cons.conf.idx: consumer confidence index - monthly indicator (numeric)\n",
        "\n",
        "\n",
        "19 - euribor3m: euribor 3 month rate - daily indicator (numeric)\n",
        "\n",
        "\n",
        "20 - nr.employed: number of employees - quarterly indicator (numeric)\n",
        "\n",
        "Output variable (desired target):\n",
        "\n",
        "\n",
        "21 - y - has the client subscribed a term deposit? (binary: 'yes','no')\n",
        "\n",
        "\n",
        "\n",
        "\n",
        "#Relevant Papers:\n",
        "\n",
        "S. Moro, P. Cortez and P. Rita. A Data-Driven Approach to Predict the Success of Bank Telemarketing. Decision Support Systems, Elsevier, 62:22-31, June 2014\n",
        "\n",
        "S. Moro, R. Laureano and P. Cortez. Using Data Mining for Bank Direct Marketing: An Application of the CRISP-DM Methodology. In P. Novais et al. (Eds.), Proceedings of the European Simulation and Modelling Conference - ESM'2011, pp. 117-121, Guimaraes, Portugal, October, 2011. EUROSIS. [bank.zip]\n",
        "\n"
      ],
      "metadata": {
        "id": "9iciYz4iZrPf"
      }
    },
    {
      "cell_type": "code",
      "source": [
        "url = 'https://raw.githubusercontent.com/LJ1201/MSDS-490-Bank_Campaign/main/bank-additional-full.csv'\n",
        "data = pd.read_csv(url, sep=';')"
      ],
      "metadata": {
        "id": "1FiIE4lzcJcW"
      },
      "execution_count": 201,
      "outputs": []
    },
    {
      "cell_type": "markdown",
      "source": [
        "##EDA"
      ],
      "metadata": {
        "id": "6hizuVcCiiF6"
      }
    },
    {
      "cell_type": "code",
      "source": [
        "data.info()"
      ],
      "metadata": {
        "id": "tjoUUH9Qij6r",
        "colab": {
          "base_uri": "https://localhost:8080/"
        },
        "outputId": "fc7f690c-4539-4812-de8d-075628d86987"
      },
      "execution_count": 202,
      "outputs": [
        {
          "output_type": "stream",
          "name": "stdout",
          "text": [
            "<class 'pandas.core.frame.DataFrame'>\n",
            "RangeIndex: 41188 entries, 0 to 41187\n",
            "Data columns (total 21 columns):\n",
            " #   Column          Non-Null Count  Dtype  \n",
            "---  ------          --------------  -----  \n",
            " 0   age             41188 non-null  int64  \n",
            " 1   job             41188 non-null  object \n",
            " 2   marital         41188 non-null  object \n",
            " 3   education       41188 non-null  object \n",
            " 4   default         41188 non-null  object \n",
            " 5   housing         41188 non-null  object \n",
            " 6   loan            41188 non-null  object \n",
            " 7   contact         41188 non-null  object \n",
            " 8   month           41188 non-null  object \n",
            " 9   day_of_week     41188 non-null  object \n",
            " 10  duration        41188 non-null  int64  \n",
            " 11  campaign        41188 non-null  int64  \n",
            " 12  pdays           41188 non-null  int64  \n",
            " 13  previous        41188 non-null  int64  \n",
            " 14  poutcome        41188 non-null  object \n",
            " 15  emp.var.rate    41188 non-null  float64\n",
            " 16  cons.price.idx  41188 non-null  float64\n",
            " 17  cons.conf.idx   41188 non-null  float64\n",
            " 18  euribor3m       41188 non-null  float64\n",
            " 19  nr.employed     41188 non-null  float64\n",
            " 20  y               41188 non-null  object \n",
            "dtypes: float64(5), int64(5), object(11)\n",
            "memory usage: 6.6+ MB\n"
          ]
        }
      ]
    },
    {
      "cell_type": "markdown",
      "source": [
        "##Categroical Variables\n",
        "\n",
        "Categorical variables needs to be transformed into a form the model would take in. One hot encoding is a common way to perform the task"
      ],
      "metadata": {
        "id": "Fs8xFQVPiut4"
      }
    },
    {
      "cell_type": "code",
      "source": [
        "objList = []\n",
        "\n",
        "for i in data.dtypes.index :\n",
        "    if i =='y':continue\n",
        "    #print(\" here is i .....\", i , \" ..... and here is the type\", dt[i] )\n",
        "    if data.dtypes[i] in ([\"object\"]) : objList.append( i )\n"
      ],
      "metadata": {
        "id": "DSCfsaqwij-W"
      },
      "execution_count": 203,
      "outputs": []
    },
    {
      "cell_type": "code",
      "source": [
        "objList"
      ],
      "metadata": {
        "id": "a0AANhboikBx",
        "colab": {
          "base_uri": "https://localhost:8080/"
        },
        "outputId": "82bb5328-3eb8-47b8-f354-5502148dba5e"
      },
      "execution_count": 204,
      "outputs": [
        {
          "output_type": "execute_result",
          "data": {
            "text/plain": [
              "['job',\n",
              " 'marital',\n",
              " 'education',\n",
              " 'default',\n",
              " 'housing',\n",
              " 'loan',\n",
              " 'contact',\n",
              " 'month',\n",
              " 'day_of_week',\n",
              " 'poutcome']"
            ]
          },
          "metadata": {},
          "execution_count": 204
        }
      ]
    },
    {
      "cell_type": "code",
      "source": [
        "data.columns"
      ],
      "metadata": {
        "id": "qowjWiMgjcUb",
        "colab": {
          "base_uri": "https://localhost:8080/"
        },
        "outputId": "d6aea6c2-9cd2-48f2-cbfb-898f3ce2b756"
      },
      "execution_count": 205,
      "outputs": [
        {
          "output_type": "execute_result",
          "data": {
            "text/plain": [
              "Index(['age', 'job', 'marital', 'education', 'default', 'housing', 'loan',\n",
              "       'contact', 'month', 'day_of_week', 'duration', 'campaign', 'pdays',\n",
              "       'previous', 'poutcome', 'emp.var.rate', 'cons.price.idx',\n",
              "       'cons.conf.idx', 'euribor3m', 'nr.employed', 'y'],\n",
              "      dtype='object')"
            ]
          },
          "metadata": {},
          "execution_count": 205
        }
      ]
    },
    {
      "cell_type": "code",
      "source": [
        "data['education'].value_counts()\n",
        "\n",
        "data_1 = data.copy()\n",
        "data_1 = data_1[data_1['education'] != 'illiterate']\n",
        "\n",
        "data_1['edu_new'] = data_1['education'].map({'basic.4y': 'pre_high', \n",
        "                                         'basic.9y': 'pre_high',\n",
        "                                         'basic.6y': 'pre_high',\n",
        "                                         'university.degree' : 'post_high',\n",
        "                                         'professional.course':'post_high',\n",
        "                                         'high.school' : 'high',\n",
        "                                         'unknown' :'unknown' })"
      ],
      "metadata": {
        "id": "bbhSCh5ncQmI"
      },
      "execution_count": 206,
      "outputs": []
    },
    {
      "cell_type": "code",
      "source": [
        "def map_job(row):\n",
        "    if row['job'] in ['admin.', 'management', 'entrepreneur','self-employed']:\n",
        "        cat = 'white_collar'\n",
        "    elif row['job'] in ['housemaid', 'blue-collar', 'technician', 'services']:\n",
        "        cat = 'blue_collar'\n",
        "    elif row['job'] in ['student', 'retired', 'unemployed']:\n",
        "        cat = 'not_working'\n",
        "    else:\n",
        "        cat = 'unknown'\n",
        "    return cat\n",
        "\n",
        "data_1['job_new'] = data_1.apply(map_job, axis=1)\n",
        "data_1['job_new'].value_counts(dropna = False)"
      ],
      "metadata": {
        "id": "eHGAdfSkcS5b",
        "colab": {
          "base_uri": "https://localhost:8080/"
        },
        "outputId": "6d95276c-8198-4b43-f3d5-f5129e7d8b10"
      },
      "execution_count": 207,
      "outputs": [
        {
          "output_type": "execute_result",
          "data": {
            "text/plain": [
              "blue_collar     21017\n",
              "white_collar    16217\n",
              "not_working      3606\n",
              "unknown           330\n",
              "Name: job_new, dtype: int64"
            ]
          },
          "metadata": {},
          "execution_count": 207
        }
      ]
    },
    {
      "cell_type": "code",
      "source": [
        "def map_month(row):\n",
        "    if row['month'] in ['mar', 'apr', 'may']:\n",
        "        cat = 'spring'\n",
        "    elif row['month'] in ['jun', 'jul', 'aug']:\n",
        "        cat = 'summer'\n",
        "    elif row['month'] in ['sep', 'oct', 'nov']:\n",
        "        cat = 'fall'\n",
        "    else:\n",
        "        cat = 'winter'\n",
        "    return cat\n",
        "\n",
        "data_1['season'] = data_1.apply(map_month, axis=1)\n",
        "data_1['season'].value_counts(dropna = False)"
      ],
      "metadata": {
        "id": "94-u-jWxcU_5",
        "colab": {
          "base_uri": "https://localhost:8080/"
        },
        "outputId": "29453d16-ded4-454d-fe15-aa7f81b60998"
      },
      "execution_count": 208,
      "outputs": [
        {
          "output_type": "execute_result",
          "data": {
            "text/plain": [
              "summer    18660\n",
              "spring    16942\n",
              "fall       5386\n",
              "winter      182\n",
              "Name: season, dtype: int64"
            ]
          },
          "metadata": {},
          "execution_count": 208
        }
      ]
    },
    {
      "cell_type": "code",
      "source": [
        "data_1.columns"
      ],
      "metadata": {
        "id": "MTQZAXjLcXVU",
        "colab": {
          "base_uri": "https://localhost:8080/"
        },
        "outputId": "f97079b8-3bb4-4512-a7e6-feb094bb8817"
      },
      "execution_count": 209,
      "outputs": [
        {
          "output_type": "execute_result",
          "data": {
            "text/plain": [
              "Index(['age', 'job', 'marital', 'education', 'default', 'housing', 'loan',\n",
              "       'contact', 'month', 'day_of_week', 'duration', 'campaign', 'pdays',\n",
              "       'previous', 'poutcome', 'emp.var.rate', 'cons.price.idx',\n",
              "       'cons.conf.idx', 'euribor3m', 'nr.employed', 'y', 'edu_new', 'job_new',\n",
              "       'season'],\n",
              "      dtype='object')"
            ]
          },
          "metadata": {},
          "execution_count": 209
        }
      ]
    },
    {
      "cell_type": "markdown",
      "source": [
        "### Data Transformation - V1 (Agreed on Team Discussion)"
      ],
      "metadata": {
        "id": "BeRBJ8ZMc345"
      }
    },
    {
      "cell_type": "code",
      "source": [
        "#This transformed dataframe is based on group discussion on 7/23\n",
        "# - keep all numerical features as they are\n",
        "# - consolidate categorical features (education, job, season) and drop originial ones\n",
        "\n",
        "df_tran_1 = data_1[['age', 'marital', 'default', 'housing', 'loan',\n",
        "       'contact', 'day_of_week', 'duration', 'campaign', 'pdays',\n",
        "       'previous', 'poutcome', 'emp.var.rate', 'cons.price.idx',\n",
        "       'cons.conf.idx', 'euribor3m', 'nr.employed', 'y', 'edu_new', 'job_new', 'season']]"
      ],
      "metadata": {
        "id": "AdtaLk4ycY_5"
      },
      "execution_count": 210,
      "outputs": []
    },
    {
      "cell_type": "code",
      "source": [
        "df_tran_1.columns"
      ],
      "metadata": {
        "id": "FfhleyPscknX",
        "colab": {
          "base_uri": "https://localhost:8080/"
        },
        "outputId": "9258d72f-1f85-4cb3-803f-50d0e8fa39d2"
      },
      "execution_count": 211,
      "outputs": [
        {
          "output_type": "execute_result",
          "data": {
            "text/plain": [
              "Index(['age', 'marital', 'default', 'housing', 'loan', 'contact',\n",
              "       'day_of_week', 'duration', 'campaign', 'pdays', 'previous', 'poutcome',\n",
              "       'emp.var.rate', 'cons.price.idx', 'cons.conf.idx', 'euribor3m',\n",
              "       'nr.employed', 'y', 'edu_new', 'job_new', 'season'],\n",
              "      dtype='object')"
            ]
          },
          "metadata": {},
          "execution_count": 211
        }
      ]
    },
    {
      "cell_type": "code",
      "source": [
        "df_tran_1.head().T"
      ],
      "metadata": {
        "id": "0M1PuicxcfCq",
        "colab": {
          "base_uri": "https://localhost:8080/",
          "height": 708
        },
        "outputId": "9b06d900-7d1c-4d9f-ceef-0d741e029e08"
      },
      "execution_count": 212,
      "outputs": [
        {
          "output_type": "execute_result",
          "data": {
            "text/plain": [
              "                          0            1            2             3  \\\n",
              "age                      56           57           37            40   \n",
              "marital             married      married      married       married   \n",
              "default                  no      unknown           no            no   \n",
              "housing                  no           no          yes            no   \n",
              "loan                     no           no           no            no   \n",
              "contact           telephone    telephone    telephone     telephone   \n",
              "day_of_week             mon          mon          mon           mon   \n",
              "duration                261          149          226           151   \n",
              "campaign                  1            1            1             1   \n",
              "pdays                   999          999          999           999   \n",
              "previous                  0            0            0             0   \n",
              "poutcome        nonexistent  nonexistent  nonexistent   nonexistent   \n",
              "emp.var.rate            1.1          1.1          1.1           1.1   \n",
              "cons.price.idx       93.994       93.994       93.994        93.994   \n",
              "cons.conf.idx         -36.4        -36.4        -36.4         -36.4   \n",
              "euribor3m             4.857        4.857        4.857         4.857   \n",
              "nr.employed          5191.0       5191.0       5191.0        5191.0   \n",
              "y                        no           no           no            no   \n",
              "edu_new            pre_high         high         high      pre_high   \n",
              "job_new         blue_collar  blue_collar  blue_collar  white_collar   \n",
              "season               spring       spring       spring        spring   \n",
              "\n",
              "                          4  \n",
              "age                      56  \n",
              "marital             married  \n",
              "default                  no  \n",
              "housing                  no  \n",
              "loan                    yes  \n",
              "contact           telephone  \n",
              "day_of_week             mon  \n",
              "duration                307  \n",
              "campaign                  1  \n",
              "pdays                   999  \n",
              "previous                  0  \n",
              "poutcome        nonexistent  \n",
              "emp.var.rate            1.1  \n",
              "cons.price.idx       93.994  \n",
              "cons.conf.idx         -36.4  \n",
              "euribor3m             4.857  \n",
              "nr.employed          5191.0  \n",
              "y                        no  \n",
              "edu_new                high  \n",
              "job_new         blue_collar  \n",
              "season               spring  "
            ],
            "text/html": [
              "\n",
              "  <div id=\"df-f3e9f5c7-4580-4557-8a01-069800e46363\">\n",
              "    <div class=\"colab-df-container\">\n",
              "      <div>\n",
              "<style scoped>\n",
              "    .dataframe tbody tr th:only-of-type {\n",
              "        vertical-align: middle;\n",
              "    }\n",
              "\n",
              "    .dataframe tbody tr th {\n",
              "        vertical-align: top;\n",
              "    }\n",
              "\n",
              "    .dataframe thead th {\n",
              "        text-align: right;\n",
              "    }\n",
              "</style>\n",
              "<table border=\"1\" class=\"dataframe\">\n",
              "  <thead>\n",
              "    <tr style=\"text-align: right;\">\n",
              "      <th></th>\n",
              "      <th>0</th>\n",
              "      <th>1</th>\n",
              "      <th>2</th>\n",
              "      <th>3</th>\n",
              "      <th>4</th>\n",
              "    </tr>\n",
              "  </thead>\n",
              "  <tbody>\n",
              "    <tr>\n",
              "      <th>age</th>\n",
              "      <td>56</td>\n",
              "      <td>57</td>\n",
              "      <td>37</td>\n",
              "      <td>40</td>\n",
              "      <td>56</td>\n",
              "    </tr>\n",
              "    <tr>\n",
              "      <th>marital</th>\n",
              "      <td>married</td>\n",
              "      <td>married</td>\n",
              "      <td>married</td>\n",
              "      <td>married</td>\n",
              "      <td>married</td>\n",
              "    </tr>\n",
              "    <tr>\n",
              "      <th>default</th>\n",
              "      <td>no</td>\n",
              "      <td>unknown</td>\n",
              "      <td>no</td>\n",
              "      <td>no</td>\n",
              "      <td>no</td>\n",
              "    </tr>\n",
              "    <tr>\n",
              "      <th>housing</th>\n",
              "      <td>no</td>\n",
              "      <td>no</td>\n",
              "      <td>yes</td>\n",
              "      <td>no</td>\n",
              "      <td>no</td>\n",
              "    </tr>\n",
              "    <tr>\n",
              "      <th>loan</th>\n",
              "      <td>no</td>\n",
              "      <td>no</td>\n",
              "      <td>no</td>\n",
              "      <td>no</td>\n",
              "      <td>yes</td>\n",
              "    </tr>\n",
              "    <tr>\n",
              "      <th>contact</th>\n",
              "      <td>telephone</td>\n",
              "      <td>telephone</td>\n",
              "      <td>telephone</td>\n",
              "      <td>telephone</td>\n",
              "      <td>telephone</td>\n",
              "    </tr>\n",
              "    <tr>\n",
              "      <th>day_of_week</th>\n",
              "      <td>mon</td>\n",
              "      <td>mon</td>\n",
              "      <td>mon</td>\n",
              "      <td>mon</td>\n",
              "      <td>mon</td>\n",
              "    </tr>\n",
              "    <tr>\n",
              "      <th>duration</th>\n",
              "      <td>261</td>\n",
              "      <td>149</td>\n",
              "      <td>226</td>\n",
              "      <td>151</td>\n",
              "      <td>307</td>\n",
              "    </tr>\n",
              "    <tr>\n",
              "      <th>campaign</th>\n",
              "      <td>1</td>\n",
              "      <td>1</td>\n",
              "      <td>1</td>\n",
              "      <td>1</td>\n",
              "      <td>1</td>\n",
              "    </tr>\n",
              "    <tr>\n",
              "      <th>pdays</th>\n",
              "      <td>999</td>\n",
              "      <td>999</td>\n",
              "      <td>999</td>\n",
              "      <td>999</td>\n",
              "      <td>999</td>\n",
              "    </tr>\n",
              "    <tr>\n",
              "      <th>previous</th>\n",
              "      <td>0</td>\n",
              "      <td>0</td>\n",
              "      <td>0</td>\n",
              "      <td>0</td>\n",
              "      <td>0</td>\n",
              "    </tr>\n",
              "    <tr>\n",
              "      <th>poutcome</th>\n",
              "      <td>nonexistent</td>\n",
              "      <td>nonexistent</td>\n",
              "      <td>nonexistent</td>\n",
              "      <td>nonexistent</td>\n",
              "      <td>nonexistent</td>\n",
              "    </tr>\n",
              "    <tr>\n",
              "      <th>emp.var.rate</th>\n",
              "      <td>1.1</td>\n",
              "      <td>1.1</td>\n",
              "      <td>1.1</td>\n",
              "      <td>1.1</td>\n",
              "      <td>1.1</td>\n",
              "    </tr>\n",
              "    <tr>\n",
              "      <th>cons.price.idx</th>\n",
              "      <td>93.994</td>\n",
              "      <td>93.994</td>\n",
              "      <td>93.994</td>\n",
              "      <td>93.994</td>\n",
              "      <td>93.994</td>\n",
              "    </tr>\n",
              "    <tr>\n",
              "      <th>cons.conf.idx</th>\n",
              "      <td>-36.4</td>\n",
              "      <td>-36.4</td>\n",
              "      <td>-36.4</td>\n",
              "      <td>-36.4</td>\n",
              "      <td>-36.4</td>\n",
              "    </tr>\n",
              "    <tr>\n",
              "      <th>euribor3m</th>\n",
              "      <td>4.857</td>\n",
              "      <td>4.857</td>\n",
              "      <td>4.857</td>\n",
              "      <td>4.857</td>\n",
              "      <td>4.857</td>\n",
              "    </tr>\n",
              "    <tr>\n",
              "      <th>nr.employed</th>\n",
              "      <td>5191.0</td>\n",
              "      <td>5191.0</td>\n",
              "      <td>5191.0</td>\n",
              "      <td>5191.0</td>\n",
              "      <td>5191.0</td>\n",
              "    </tr>\n",
              "    <tr>\n",
              "      <th>y</th>\n",
              "      <td>no</td>\n",
              "      <td>no</td>\n",
              "      <td>no</td>\n",
              "      <td>no</td>\n",
              "      <td>no</td>\n",
              "    </tr>\n",
              "    <tr>\n",
              "      <th>edu_new</th>\n",
              "      <td>pre_high</td>\n",
              "      <td>high</td>\n",
              "      <td>high</td>\n",
              "      <td>pre_high</td>\n",
              "      <td>high</td>\n",
              "    </tr>\n",
              "    <tr>\n",
              "      <th>job_new</th>\n",
              "      <td>blue_collar</td>\n",
              "      <td>blue_collar</td>\n",
              "      <td>blue_collar</td>\n",
              "      <td>white_collar</td>\n",
              "      <td>blue_collar</td>\n",
              "    </tr>\n",
              "    <tr>\n",
              "      <th>season</th>\n",
              "      <td>spring</td>\n",
              "      <td>spring</td>\n",
              "      <td>spring</td>\n",
              "      <td>spring</td>\n",
              "      <td>spring</td>\n",
              "    </tr>\n",
              "  </tbody>\n",
              "</table>\n",
              "</div>\n",
              "      <button class=\"colab-df-convert\" onclick=\"convertToInteractive('df-f3e9f5c7-4580-4557-8a01-069800e46363')\"\n",
              "              title=\"Convert this dataframe to an interactive table.\"\n",
              "              style=\"display:none;\">\n",
              "        \n",
              "  <svg xmlns=\"http://www.w3.org/2000/svg\" height=\"24px\"viewBox=\"0 0 24 24\"\n",
              "       width=\"24px\">\n",
              "    <path d=\"M0 0h24v24H0V0z\" fill=\"none\"/>\n",
              "    <path d=\"M18.56 5.44l.94 2.06.94-2.06 2.06-.94-2.06-.94-.94-2.06-.94 2.06-2.06.94zm-11 1L8.5 8.5l.94-2.06 2.06-.94-2.06-.94L8.5 2.5l-.94 2.06-2.06.94zm10 10l.94 2.06.94-2.06 2.06-.94-2.06-.94-.94-2.06-.94 2.06-2.06.94z\"/><path d=\"M17.41 7.96l-1.37-1.37c-.4-.4-.92-.59-1.43-.59-.52 0-1.04.2-1.43.59L10.3 9.45l-7.72 7.72c-.78.78-.78 2.05 0 2.83L4 21.41c.39.39.9.59 1.41.59.51 0 1.02-.2 1.41-.59l7.78-7.78 2.81-2.81c.8-.78.8-2.07 0-2.86zM5.41 20L4 18.59l7.72-7.72 1.47 1.35L5.41 20z\"/>\n",
              "  </svg>\n",
              "      </button>\n",
              "      \n",
              "  <style>\n",
              "    .colab-df-container {\n",
              "      display:flex;\n",
              "      flex-wrap:wrap;\n",
              "      gap: 12px;\n",
              "    }\n",
              "\n",
              "    .colab-df-convert {\n",
              "      background-color: #E8F0FE;\n",
              "      border: none;\n",
              "      border-radius: 50%;\n",
              "      cursor: pointer;\n",
              "      display: none;\n",
              "      fill: #1967D2;\n",
              "      height: 32px;\n",
              "      padding: 0 0 0 0;\n",
              "      width: 32px;\n",
              "    }\n",
              "\n",
              "    .colab-df-convert:hover {\n",
              "      background-color: #E2EBFA;\n",
              "      box-shadow: 0px 1px 2px rgba(60, 64, 67, 0.3), 0px 1px 3px 1px rgba(60, 64, 67, 0.15);\n",
              "      fill: #174EA6;\n",
              "    }\n",
              "\n",
              "    [theme=dark] .colab-df-convert {\n",
              "      background-color: #3B4455;\n",
              "      fill: #D2E3FC;\n",
              "    }\n",
              "\n",
              "    [theme=dark] .colab-df-convert:hover {\n",
              "      background-color: #434B5C;\n",
              "      box-shadow: 0px 1px 3px 1px rgba(0, 0, 0, 0.15);\n",
              "      filter: drop-shadow(0px 1px 2px rgba(0, 0, 0, 0.3));\n",
              "      fill: #FFFFFF;\n",
              "    }\n",
              "  </style>\n",
              "\n",
              "      <script>\n",
              "        const buttonEl =\n",
              "          document.querySelector('#df-f3e9f5c7-4580-4557-8a01-069800e46363 button.colab-df-convert');\n",
              "        buttonEl.style.display =\n",
              "          google.colab.kernel.accessAllowed ? 'block' : 'none';\n",
              "\n",
              "        async function convertToInteractive(key) {\n",
              "          const element = document.querySelector('#df-f3e9f5c7-4580-4557-8a01-069800e46363');\n",
              "          const dataTable =\n",
              "            await google.colab.kernel.invokeFunction('convertToInteractive',\n",
              "                                                     [key], {});\n",
              "          if (!dataTable) return;\n",
              "\n",
              "          const docLinkHtml = 'Like what you see? Visit the ' +\n",
              "            '<a target=\"_blank\" href=https://colab.research.google.com/notebooks/data_table.ipynb>data table notebook</a>'\n",
              "            + ' to learn more about interactive tables.';\n",
              "          element.innerHTML = '';\n",
              "          dataTable['output_type'] = 'display_data';\n",
              "          await google.colab.output.renderOutput(dataTable, element);\n",
              "          const docLink = document.createElement('div');\n",
              "          docLink.innerHTML = docLinkHtml;\n",
              "          element.appendChild(docLink);\n",
              "        }\n",
              "      </script>\n",
              "    </div>\n",
              "  </div>\n",
              "  "
            ]
          },
          "metadata": {},
          "execution_count": 212
        }
      ]
    },
    {
      "cell_type": "code",
      "source": [
        "df_tran_1.y.value_counts()"
      ],
      "metadata": {
        "id": "gjfodSf6eCC8",
        "colab": {
          "base_uri": "https://localhost:8080/"
        },
        "outputId": "3dcd73b0-7961-4b34-e6cf-501d981eba01"
      },
      "execution_count": 213,
      "outputs": [
        {
          "output_type": "execute_result",
          "data": {
            "text/plain": [
              "no     36534\n",
              "yes     4636\n",
              "Name: y, dtype: int64"
            ]
          },
          "metadata": {},
          "execution_count": 213
        }
      ]
    },
    {
      "cell_type": "code",
      "source": [
        "df_tran_1.columns"
      ],
      "metadata": {
        "id": "QyoLkI_Xe99E",
        "colab": {
          "base_uri": "https://localhost:8080/"
        },
        "outputId": "de75d649-2d12-456b-cb49-045e15857929"
      },
      "execution_count": 214,
      "outputs": [
        {
          "output_type": "execute_result",
          "data": {
            "text/plain": [
              "Index(['age', 'marital', 'default', 'housing', 'loan', 'contact',\n",
              "       'day_of_week', 'duration', 'campaign', 'pdays', 'previous', 'poutcome',\n",
              "       'emp.var.rate', 'cons.price.idx', 'cons.conf.idx', 'euribor3m',\n",
              "       'nr.employed', 'y', 'edu_new', 'job_new', 'season'],\n",
              "      dtype='object')"
            ]
          },
          "metadata": {},
          "execution_count": 214
        }
      ]
    },
    {
      "cell_type": "code",
      "source": [
        "df_tran_1.head().T"
      ],
      "metadata": {
        "id": "sJIW-vAngA7I",
        "colab": {
          "base_uri": "https://localhost:8080/",
          "height": 708
        },
        "outputId": "e3870bc9-a7d3-46ce-b628-7f40fcf636f2"
      },
      "execution_count": 215,
      "outputs": [
        {
          "output_type": "execute_result",
          "data": {
            "text/plain": [
              "                          0            1            2             3  \\\n",
              "age                      56           57           37            40   \n",
              "marital             married      married      married       married   \n",
              "default                  no      unknown           no            no   \n",
              "housing                  no           no          yes            no   \n",
              "loan                     no           no           no            no   \n",
              "contact           telephone    telephone    telephone     telephone   \n",
              "day_of_week             mon          mon          mon           mon   \n",
              "duration                261          149          226           151   \n",
              "campaign                  1            1            1             1   \n",
              "pdays                   999          999          999           999   \n",
              "previous                  0            0            0             0   \n",
              "poutcome        nonexistent  nonexistent  nonexistent   nonexistent   \n",
              "emp.var.rate            1.1          1.1          1.1           1.1   \n",
              "cons.price.idx       93.994       93.994       93.994        93.994   \n",
              "cons.conf.idx         -36.4        -36.4        -36.4         -36.4   \n",
              "euribor3m             4.857        4.857        4.857         4.857   \n",
              "nr.employed          5191.0       5191.0       5191.0        5191.0   \n",
              "y                        no           no           no            no   \n",
              "edu_new            pre_high         high         high      pre_high   \n",
              "job_new         blue_collar  blue_collar  blue_collar  white_collar   \n",
              "season               spring       spring       spring        spring   \n",
              "\n",
              "                          4  \n",
              "age                      56  \n",
              "marital             married  \n",
              "default                  no  \n",
              "housing                  no  \n",
              "loan                    yes  \n",
              "contact           telephone  \n",
              "day_of_week             mon  \n",
              "duration                307  \n",
              "campaign                  1  \n",
              "pdays                   999  \n",
              "previous                  0  \n",
              "poutcome        nonexistent  \n",
              "emp.var.rate            1.1  \n",
              "cons.price.idx       93.994  \n",
              "cons.conf.idx         -36.4  \n",
              "euribor3m             4.857  \n",
              "nr.employed          5191.0  \n",
              "y                        no  \n",
              "edu_new                high  \n",
              "job_new         blue_collar  \n",
              "season               spring  "
            ],
            "text/html": [
              "\n",
              "  <div id=\"df-84738174-4727-40e2-98b2-86a366d44136\">\n",
              "    <div class=\"colab-df-container\">\n",
              "      <div>\n",
              "<style scoped>\n",
              "    .dataframe tbody tr th:only-of-type {\n",
              "        vertical-align: middle;\n",
              "    }\n",
              "\n",
              "    .dataframe tbody tr th {\n",
              "        vertical-align: top;\n",
              "    }\n",
              "\n",
              "    .dataframe thead th {\n",
              "        text-align: right;\n",
              "    }\n",
              "</style>\n",
              "<table border=\"1\" class=\"dataframe\">\n",
              "  <thead>\n",
              "    <tr style=\"text-align: right;\">\n",
              "      <th></th>\n",
              "      <th>0</th>\n",
              "      <th>1</th>\n",
              "      <th>2</th>\n",
              "      <th>3</th>\n",
              "      <th>4</th>\n",
              "    </tr>\n",
              "  </thead>\n",
              "  <tbody>\n",
              "    <tr>\n",
              "      <th>age</th>\n",
              "      <td>56</td>\n",
              "      <td>57</td>\n",
              "      <td>37</td>\n",
              "      <td>40</td>\n",
              "      <td>56</td>\n",
              "    </tr>\n",
              "    <tr>\n",
              "      <th>marital</th>\n",
              "      <td>married</td>\n",
              "      <td>married</td>\n",
              "      <td>married</td>\n",
              "      <td>married</td>\n",
              "      <td>married</td>\n",
              "    </tr>\n",
              "    <tr>\n",
              "      <th>default</th>\n",
              "      <td>no</td>\n",
              "      <td>unknown</td>\n",
              "      <td>no</td>\n",
              "      <td>no</td>\n",
              "      <td>no</td>\n",
              "    </tr>\n",
              "    <tr>\n",
              "      <th>housing</th>\n",
              "      <td>no</td>\n",
              "      <td>no</td>\n",
              "      <td>yes</td>\n",
              "      <td>no</td>\n",
              "      <td>no</td>\n",
              "    </tr>\n",
              "    <tr>\n",
              "      <th>loan</th>\n",
              "      <td>no</td>\n",
              "      <td>no</td>\n",
              "      <td>no</td>\n",
              "      <td>no</td>\n",
              "      <td>yes</td>\n",
              "    </tr>\n",
              "    <tr>\n",
              "      <th>contact</th>\n",
              "      <td>telephone</td>\n",
              "      <td>telephone</td>\n",
              "      <td>telephone</td>\n",
              "      <td>telephone</td>\n",
              "      <td>telephone</td>\n",
              "    </tr>\n",
              "    <tr>\n",
              "      <th>day_of_week</th>\n",
              "      <td>mon</td>\n",
              "      <td>mon</td>\n",
              "      <td>mon</td>\n",
              "      <td>mon</td>\n",
              "      <td>mon</td>\n",
              "    </tr>\n",
              "    <tr>\n",
              "      <th>duration</th>\n",
              "      <td>261</td>\n",
              "      <td>149</td>\n",
              "      <td>226</td>\n",
              "      <td>151</td>\n",
              "      <td>307</td>\n",
              "    </tr>\n",
              "    <tr>\n",
              "      <th>campaign</th>\n",
              "      <td>1</td>\n",
              "      <td>1</td>\n",
              "      <td>1</td>\n",
              "      <td>1</td>\n",
              "      <td>1</td>\n",
              "    </tr>\n",
              "    <tr>\n",
              "      <th>pdays</th>\n",
              "      <td>999</td>\n",
              "      <td>999</td>\n",
              "      <td>999</td>\n",
              "      <td>999</td>\n",
              "      <td>999</td>\n",
              "    </tr>\n",
              "    <tr>\n",
              "      <th>previous</th>\n",
              "      <td>0</td>\n",
              "      <td>0</td>\n",
              "      <td>0</td>\n",
              "      <td>0</td>\n",
              "      <td>0</td>\n",
              "    </tr>\n",
              "    <tr>\n",
              "      <th>poutcome</th>\n",
              "      <td>nonexistent</td>\n",
              "      <td>nonexistent</td>\n",
              "      <td>nonexistent</td>\n",
              "      <td>nonexistent</td>\n",
              "      <td>nonexistent</td>\n",
              "    </tr>\n",
              "    <tr>\n",
              "      <th>emp.var.rate</th>\n",
              "      <td>1.1</td>\n",
              "      <td>1.1</td>\n",
              "      <td>1.1</td>\n",
              "      <td>1.1</td>\n",
              "      <td>1.1</td>\n",
              "    </tr>\n",
              "    <tr>\n",
              "      <th>cons.price.idx</th>\n",
              "      <td>93.994</td>\n",
              "      <td>93.994</td>\n",
              "      <td>93.994</td>\n",
              "      <td>93.994</td>\n",
              "      <td>93.994</td>\n",
              "    </tr>\n",
              "    <tr>\n",
              "      <th>cons.conf.idx</th>\n",
              "      <td>-36.4</td>\n",
              "      <td>-36.4</td>\n",
              "      <td>-36.4</td>\n",
              "      <td>-36.4</td>\n",
              "      <td>-36.4</td>\n",
              "    </tr>\n",
              "    <tr>\n",
              "      <th>euribor3m</th>\n",
              "      <td>4.857</td>\n",
              "      <td>4.857</td>\n",
              "      <td>4.857</td>\n",
              "      <td>4.857</td>\n",
              "      <td>4.857</td>\n",
              "    </tr>\n",
              "    <tr>\n",
              "      <th>nr.employed</th>\n",
              "      <td>5191.0</td>\n",
              "      <td>5191.0</td>\n",
              "      <td>5191.0</td>\n",
              "      <td>5191.0</td>\n",
              "      <td>5191.0</td>\n",
              "    </tr>\n",
              "    <tr>\n",
              "      <th>y</th>\n",
              "      <td>no</td>\n",
              "      <td>no</td>\n",
              "      <td>no</td>\n",
              "      <td>no</td>\n",
              "      <td>no</td>\n",
              "    </tr>\n",
              "    <tr>\n",
              "      <th>edu_new</th>\n",
              "      <td>pre_high</td>\n",
              "      <td>high</td>\n",
              "      <td>high</td>\n",
              "      <td>pre_high</td>\n",
              "      <td>high</td>\n",
              "    </tr>\n",
              "    <tr>\n",
              "      <th>job_new</th>\n",
              "      <td>blue_collar</td>\n",
              "      <td>blue_collar</td>\n",
              "      <td>blue_collar</td>\n",
              "      <td>white_collar</td>\n",
              "      <td>blue_collar</td>\n",
              "    </tr>\n",
              "    <tr>\n",
              "      <th>season</th>\n",
              "      <td>spring</td>\n",
              "      <td>spring</td>\n",
              "      <td>spring</td>\n",
              "      <td>spring</td>\n",
              "      <td>spring</td>\n",
              "    </tr>\n",
              "  </tbody>\n",
              "</table>\n",
              "</div>\n",
              "      <button class=\"colab-df-convert\" onclick=\"convertToInteractive('df-84738174-4727-40e2-98b2-86a366d44136')\"\n",
              "              title=\"Convert this dataframe to an interactive table.\"\n",
              "              style=\"display:none;\">\n",
              "        \n",
              "  <svg xmlns=\"http://www.w3.org/2000/svg\" height=\"24px\"viewBox=\"0 0 24 24\"\n",
              "       width=\"24px\">\n",
              "    <path d=\"M0 0h24v24H0V0z\" fill=\"none\"/>\n",
              "    <path d=\"M18.56 5.44l.94 2.06.94-2.06 2.06-.94-2.06-.94-.94-2.06-.94 2.06-2.06.94zm-11 1L8.5 8.5l.94-2.06 2.06-.94-2.06-.94L8.5 2.5l-.94 2.06-2.06.94zm10 10l.94 2.06.94-2.06 2.06-.94-2.06-.94-.94-2.06-.94 2.06-2.06.94z\"/><path d=\"M17.41 7.96l-1.37-1.37c-.4-.4-.92-.59-1.43-.59-.52 0-1.04.2-1.43.59L10.3 9.45l-7.72 7.72c-.78.78-.78 2.05 0 2.83L4 21.41c.39.39.9.59 1.41.59.51 0 1.02-.2 1.41-.59l7.78-7.78 2.81-2.81c.8-.78.8-2.07 0-2.86zM5.41 20L4 18.59l7.72-7.72 1.47 1.35L5.41 20z\"/>\n",
              "  </svg>\n",
              "      </button>\n",
              "      \n",
              "  <style>\n",
              "    .colab-df-container {\n",
              "      display:flex;\n",
              "      flex-wrap:wrap;\n",
              "      gap: 12px;\n",
              "    }\n",
              "\n",
              "    .colab-df-convert {\n",
              "      background-color: #E8F0FE;\n",
              "      border: none;\n",
              "      border-radius: 50%;\n",
              "      cursor: pointer;\n",
              "      display: none;\n",
              "      fill: #1967D2;\n",
              "      height: 32px;\n",
              "      padding: 0 0 0 0;\n",
              "      width: 32px;\n",
              "    }\n",
              "\n",
              "    .colab-df-convert:hover {\n",
              "      background-color: #E2EBFA;\n",
              "      box-shadow: 0px 1px 2px rgba(60, 64, 67, 0.3), 0px 1px 3px 1px rgba(60, 64, 67, 0.15);\n",
              "      fill: #174EA6;\n",
              "    }\n",
              "\n",
              "    [theme=dark] .colab-df-convert {\n",
              "      background-color: #3B4455;\n",
              "      fill: #D2E3FC;\n",
              "    }\n",
              "\n",
              "    [theme=dark] .colab-df-convert:hover {\n",
              "      background-color: #434B5C;\n",
              "      box-shadow: 0px 1px 3px 1px rgba(0, 0, 0, 0.15);\n",
              "      filter: drop-shadow(0px 1px 2px rgba(0, 0, 0, 0.3));\n",
              "      fill: #FFFFFF;\n",
              "    }\n",
              "  </style>\n",
              "\n",
              "      <script>\n",
              "        const buttonEl =\n",
              "          document.querySelector('#df-84738174-4727-40e2-98b2-86a366d44136 button.colab-df-convert');\n",
              "        buttonEl.style.display =\n",
              "          google.colab.kernel.accessAllowed ? 'block' : 'none';\n",
              "\n",
              "        async function convertToInteractive(key) {\n",
              "          const element = document.querySelector('#df-84738174-4727-40e2-98b2-86a366d44136');\n",
              "          const dataTable =\n",
              "            await google.colab.kernel.invokeFunction('convertToInteractive',\n",
              "                                                     [key], {});\n",
              "          if (!dataTable) return;\n",
              "\n",
              "          const docLinkHtml = 'Like what you see? Visit the ' +\n",
              "            '<a target=\"_blank\" href=https://colab.research.google.com/notebooks/data_table.ipynb>data table notebook</a>'\n",
              "            + ' to learn more about interactive tables.';\n",
              "          element.innerHTML = '';\n",
              "          dataTable['output_type'] = 'display_data';\n",
              "          await google.colab.output.renderOutput(dataTable, element);\n",
              "          const docLink = document.createElement('div');\n",
              "          docLink.innerHTML = docLinkHtml;\n",
              "          element.appendChild(docLink);\n",
              "        }\n",
              "      </script>\n",
              "    </div>\n",
              "  </div>\n",
              "  "
            ]
          },
          "metadata": {},
          "execution_count": 215
        }
      ]
    },
    {
      "cell_type": "code",
      "source": [
        "df_tran_1.info()"
      ],
      "metadata": {
        "id": "tqbWdPRFiYxW",
        "colab": {
          "base_uri": "https://localhost:8080/"
        },
        "outputId": "2cef2b05-5d3f-498e-c36d-16e075edd77c"
      },
      "execution_count": 216,
      "outputs": [
        {
          "output_type": "stream",
          "name": "stdout",
          "text": [
            "<class 'pandas.core.frame.DataFrame'>\n",
            "Int64Index: 41170 entries, 0 to 41187\n",
            "Data columns (total 21 columns):\n",
            " #   Column          Non-Null Count  Dtype  \n",
            "---  ------          --------------  -----  \n",
            " 0   age             41170 non-null  int64  \n",
            " 1   marital         41170 non-null  object \n",
            " 2   default         41170 non-null  object \n",
            " 3   housing         41170 non-null  object \n",
            " 4   loan            41170 non-null  object \n",
            " 5   contact         41170 non-null  object \n",
            " 6   day_of_week     41170 non-null  object \n",
            " 7   duration        41170 non-null  int64  \n",
            " 8   campaign        41170 non-null  int64  \n",
            " 9   pdays           41170 non-null  int64  \n",
            " 10  previous        41170 non-null  int64  \n",
            " 11  poutcome        41170 non-null  object \n",
            " 12  emp.var.rate    41170 non-null  float64\n",
            " 13  cons.price.idx  41170 non-null  float64\n",
            " 14  cons.conf.idx   41170 non-null  float64\n",
            " 15  euribor3m       41170 non-null  float64\n",
            " 16  nr.employed     41170 non-null  float64\n",
            " 17  y               41170 non-null  object \n",
            " 18  edu_new         41170 non-null  object \n",
            " 19  job_new         41170 non-null  object \n",
            " 20  season          41170 non-null  object \n",
            "dtypes: float64(5), int64(5), object(11)\n",
            "memory usage: 6.9+ MB\n"
          ]
        }
      ]
    },
    {
      "cell_type": "code",
      "source": [
        "df_tran_1.dtypes.index"
      ],
      "metadata": {
        "id": "X28boaASj5x6",
        "colab": {
          "base_uri": "https://localhost:8080/"
        },
        "outputId": "bd93dc24-59da-4dc5-b996-d1ad6d231763"
      },
      "execution_count": 217,
      "outputs": [
        {
          "output_type": "execute_result",
          "data": {
            "text/plain": [
              "Index(['age', 'marital', 'default', 'housing', 'loan', 'contact',\n",
              "       'day_of_week', 'duration', 'campaign', 'pdays', 'previous', 'poutcome',\n",
              "       'emp.var.rate', 'cons.price.idx', 'cons.conf.idx', 'euribor3m',\n",
              "       'nr.employed', 'y', 'edu_new', 'job_new', 'season'],\n",
              "      dtype='object')"
            ]
          },
          "metadata": {},
          "execution_count": 217
        }
      ]
    },
    {
      "cell_type": "code",
      "source": [
        "objList = []\n",
        "\n",
        "for i in df_tran_1.dtypes.index :\n",
        "    if i =='y':continue\n",
        "    #print(\" here is i .....\", i , \" ..... and here is the type\", dt[i] )\n",
        "    if df_tran_1.dtypes[i] in ([\"object\"]) : objList.append( i )\n",
        "\n",
        "for i in objList :\n",
        "    thePrefix = \"z_\" + i\n",
        "    y = pd.get_dummies( df_tran_1[i], prefix=thePrefix, drop_first=False )   \n",
        "    df_tran_1 = pd.concat( [df_tran_1, y], axis=1 )\n",
        "    df_tran_1 = df_tran_1.drop( i, axis=1 )"
      ],
      "metadata": {
        "id": "qSegK1vnjm93"
      },
      "execution_count": 218,
      "outputs": []
    },
    {
      "cell_type": "code",
      "source": [
        "objList"
      ],
      "metadata": {
        "id": "LrKlZ0eMn1jc",
        "colab": {
          "base_uri": "https://localhost:8080/"
        },
        "outputId": "7cd43201-b827-4a80-c799-2be832a7cb12"
      },
      "execution_count": 219,
      "outputs": [
        {
          "output_type": "execute_result",
          "data": {
            "text/plain": [
              "['marital',\n",
              " 'default',\n",
              " 'housing',\n",
              " 'loan',\n",
              " 'contact',\n",
              " 'day_of_week',\n",
              " 'poutcome',\n",
              " 'edu_new',\n",
              " 'job_new',\n",
              " 'season']"
            ]
          },
          "metadata": {},
          "execution_count": 219
        }
      ]
    },
    {
      "cell_type": "code",
      "source": [
        "df_tran_1.columns"
      ],
      "metadata": {
        "id": "oFw7P7iEkbUb",
        "colab": {
          "base_uri": "https://localhost:8080/"
        },
        "outputId": "91860c42-7927-44f6-e8f0-b5dfba141890"
      },
      "execution_count": 220,
      "outputs": [
        {
          "output_type": "execute_result",
          "data": {
            "text/plain": [
              "Index(['age', 'duration', 'campaign', 'pdays', 'previous', 'emp.var.rate',\n",
              "       'cons.price.idx', 'cons.conf.idx', 'euribor3m', 'nr.employed', 'y',\n",
              "       'z_marital_divorced', 'z_marital_married', 'z_marital_single',\n",
              "       'z_marital_unknown', 'z_default_no', 'z_default_unknown',\n",
              "       'z_default_yes', 'z_housing_no', 'z_housing_unknown', 'z_housing_yes',\n",
              "       'z_loan_no', 'z_loan_unknown', 'z_loan_yes', 'z_contact_cellular',\n",
              "       'z_contact_telephone', 'z_day_of_week_fri', 'z_day_of_week_mon',\n",
              "       'z_day_of_week_thu', 'z_day_of_week_tue', 'z_day_of_week_wed',\n",
              "       'z_poutcome_failure', 'z_poutcome_nonexistent', 'z_poutcome_success',\n",
              "       'z_edu_new_high', 'z_edu_new_post_high', 'z_edu_new_pre_high',\n",
              "       'z_edu_new_unknown', 'z_job_new_blue_collar', 'z_job_new_not_working',\n",
              "       'z_job_new_unknown', 'z_job_new_white_collar', 'z_season_fall',\n",
              "       'z_season_spring', 'z_season_summer', 'z_season_winter'],\n",
              "      dtype='object')"
            ]
          },
          "metadata": {},
          "execution_count": 220
        }
      ]
    },
    {
      "cell_type": "code",
      "source": [
        "df_tran_1['y'] = df_tran_1.y.map(dict(yes=1, no=0))"
      ],
      "metadata": {
        "id": "2K5aVmaVnEVZ"
      },
      "execution_count": 221,
      "outputs": []
    },
    {
      "cell_type": "code",
      "source": [
        "\n",
        "X = df_tran_1.loc[:, df_tran_1.columns != 'y']\n",
        "y = df_tran_1.loc[:, df_tran_1.columns == 'y']\n",
        "\n",
        "\n",
        "os = SMOTE(random_state=0)\n",
        "X_train, X_test, y_train, y_test = train_test_split(X, y, test_size=0.3, random_state=0)\n",
        "columns = X_train.columns\n",
        "os_data_X,os_data_y=os.fit_resample(X_train, y_train)\n",
        "os_data_X = pd.DataFrame(data=os_data_X,columns=columns )\n",
        "os_data_y= pd.DataFrame(data=os_data_y,columns=['y'])\n",
        "# we can Check the numbers of our data\n",
        "print(\"length of oversampled data is \",len(os_data_X))\n",
        "print(\"Number of no subscription in oversampled data\",len(os_data_y[os_data_y['y']==0]))\n",
        "print(\"Number of subscription\",len(os_data_y[os_data_y['y']==1]))\n",
        "print(\"Proportion of no subscription data in oversampled data is \",len(os_data_y[os_data_y['y']==0])/len(os_data_X))\n",
        "print(\"Proportion of subscription data in oversampled data is \",len(os_data_y[os_data_y['y']==1])/len(os_data_X))"
      ],
      "metadata": {
        "id": "cQYKfXewcKPJ",
        "colab": {
          "base_uri": "https://localhost:8080/"
        },
        "outputId": "9f1a036d-a55a-4185-abc9-0f2e4782d895"
      },
      "execution_count": 222,
      "outputs": [
        {
          "output_type": "stream",
          "name": "stdout",
          "text": [
            "length of oversampled data is  51102\n",
            "Number of no subscription in oversampled data 25551\n",
            "Number of subscription 25551\n",
            "Proportion of no subscription data in oversampled data is  0.5\n",
            "Proportion of subscription data in oversampled data is  0.5\n"
          ]
        }
      ]
    },
    {
      "cell_type": "code",
      "source": [
        "data_final_vars=df_tran_1.columns.values.tolist()\n",
        "y=['y']\n",
        "X=[i for i in data_final_vars if i not in y]\n",
        "\n",
        "\n",
        "\n",
        "logreg = LogisticRegression(solver= 'liblinear')\n",
        "rfe = RFE(logreg,n_features_to_select=20)\n",
        "rfe = rfe.fit(os_data_X.values, os_data_y.values.ravel())\n",
        "\n",
        "features = list(os_data_X.columns[rfe.support_])\n",
        "\n",
        "print('total features:', os_data_X.shape[1])\n",
        "\n",
        "print(rfe.support_)\n",
        "print(features)\n",
        "print(rfe.ranking_)"
      ],
      "metadata": {
        "id": "RYHQmjthcKSH",
        "colab": {
          "base_uri": "https://localhost:8080/"
        },
        "outputId": "85f88aeb-f130-4fb6-d962-f4f4d1efe277"
      },
      "execution_count": 223,
      "outputs": [
        {
          "output_type": "stream",
          "name": "stdout",
          "text": [
            "total features: 45\n",
            "[False False False False False False False False False False  True  True\n",
            "  True  True False False False  True False  True False  True False False\n",
            " False  True  True  True  True  True False False False  True  True  True\n",
            "  True  True  True  True  True False False False False]\n",
            "['z_marital_divorced', 'z_marital_married', 'z_marital_single', 'z_marital_unknown', 'z_housing_no', 'z_housing_yes', 'z_loan_unknown', 'z_day_of_week_fri', 'z_day_of_week_mon', 'z_day_of_week_thu', 'z_day_of_week_tue', 'z_day_of_week_wed', 'z_edu_new_high', 'z_edu_new_post_high', 'z_edu_new_pre_high', 'z_edu_new_unknown', 'z_job_new_blue_collar', 'z_job_new_not_working', 'z_job_new_unknown', 'z_job_new_white_collar']\n",
            "[25 24 21 26 20 19 18 22 12 23  1  1  1  1  5  4 14  1  6  1  8  1  7 10\n",
            "  9  1  1  1  1  1  3  2 13  1  1  1  1  1  1  1  1 16 11 17 15]\n"
          ]
        }
      ]
    },
    {
      "cell_type": "markdown",
      "source": [
        "##Fit Model"
      ],
      "metadata": {
        "id": "KNCoRkDRlirv"
      }
    },
    {
      "cell_type": "markdown",
      "source": [
        "##Model 1\n",
        "\n",
        "Logistic Regression with top 20 selected by Recursive Feature Elimination method"
      ],
      "metadata": {
        "id": "wqTrey9A_kcY"
      }
    },
    {
      "cell_type": "code",
      "source": [
        "features"
      ],
      "metadata": {
        "colab": {
          "base_uri": "https://localhost:8080/"
        },
        "id": "rCqfPrSavmx0",
        "outputId": "ef93ee34-edd0-46e1-a2e1-f4dbb58fe1b7"
      },
      "execution_count": 224,
      "outputs": [
        {
          "output_type": "execute_result",
          "data": {
            "text/plain": [
              "['z_marital_divorced',\n",
              " 'z_marital_married',\n",
              " 'z_marital_single',\n",
              " 'z_marital_unknown',\n",
              " 'z_housing_no',\n",
              " 'z_housing_yes',\n",
              " 'z_loan_unknown',\n",
              " 'z_day_of_week_fri',\n",
              " 'z_day_of_week_mon',\n",
              " 'z_day_of_week_thu',\n",
              " 'z_day_of_week_tue',\n",
              " 'z_day_of_week_wed',\n",
              " 'z_edu_new_high',\n",
              " 'z_edu_new_post_high',\n",
              " 'z_edu_new_pre_high',\n",
              " 'z_edu_new_unknown',\n",
              " 'z_job_new_blue_collar',\n",
              " 'z_job_new_not_working',\n",
              " 'z_job_new_unknown',\n",
              " 'z_job_new_white_collar']"
            ]
          },
          "metadata": {},
          "execution_count": 224
        }
      ]
    },
    {
      "cell_type": "code",
      "source": [
        "X = os_data_X[features]\n",
        "y = os_data_y['y']"
      ],
      "metadata": {
        "id": "Ly2X9x-wdKDL"
      },
      "execution_count": 225,
      "outputs": []
    },
    {
      "cell_type": "code",
      "source": [
        "logit_model=sm.Logit(y,X)\n",
        "result=logit_model.fit()\n",
        "print(result.summary2())"
      ],
      "metadata": {
        "id": "QMT-KMY8tOcs",
        "colab": {
          "base_uri": "https://localhost:8080/"
        },
        "outputId": "ba43cfa7-52c9-41d5-efee-22460dba06a6"
      },
      "execution_count": 226,
      "outputs": [
        {
          "output_type": "stream",
          "name": "stdout",
          "text": [
            "Optimization terminated successfully.\n",
            "         Current function value: 0.536308\n",
            "         Iterations 6\n",
            "                            Results: Logit\n",
            "=======================================================================\n",
            "Model:                Logit              Pseudo R-squared:   0.226     \n",
            "Dependent Variable:   y                  AIC:                54852.7990\n",
            "Date:                 2022-07-31 02:26   BIC:                55029.6306\n",
            "No. Observations:     51102              Log-Likelihood:     -27406.   \n",
            "Df Model:             19                 LL-Null:            -35421.   \n",
            "Df Residuals:         51082              LLR p-value:        0.0000    \n",
            "Converged:            1.0000             Scale:              1.0000    \n",
            "No. Iterations:       6.0000                                           \n",
            "-----------------------------------------------------------------------\n",
            "                        Coef.  Std.Err.    z     P>|z|   [0.025  0.975]\n",
            "-----------------------------------------------------------------------\n",
            "z_marital_divorced      0.3371   0.0548   6.1460 0.0000  0.2296  0.4446\n",
            "z_marital_married       1.0580   0.0298  35.4984 0.0000  0.9996  1.1164\n",
            "z_marital_single        1.1437   0.0336  34.0012 0.0000  1.0778  1.2097\n",
            "z_marital_unknown       0.4422   0.3707   1.1928 0.2329 -0.2844  1.1688\n",
            "z_housing_no            0.5190   0.0314  16.5435 0.0000  0.4575  0.5805\n",
            "z_housing_yes           0.6900   0.0297  23.2478 0.0000  0.6318  0.7481\n",
            "z_loan_unknown         -0.4741   0.1280  -3.7030 0.0002 -0.7250 -0.2231\n",
            "z_day_of_week_fri      -2.6411   0.0438 -60.2688 0.0000 -2.7270 -2.5552\n",
            "z_day_of_week_mon      -2.7540   0.0436 -63.1104 0.0000 -2.8395 -2.6685\n",
            "z_day_of_week_thu      -2.4749   0.0413 -59.8693 0.0000 -2.5559 -2.3939\n",
            "z_day_of_week_tue      -2.5529   0.0429 -59.5560 0.0000 -2.6369 -2.4688\n",
            "z_day_of_week_wed      -2.5400   0.0426 -59.6802 0.0000 -2.6235 -2.4566\n",
            "z_edu_new_high         -0.5500   0.0396 -13.8840 0.0000 -0.6276 -0.4723\n",
            "z_edu_new_post_high     0.0315   0.0315   1.0017 0.3165 -0.0302  0.0932\n",
            "z_edu_new_pre_high     -0.6784   0.0390 -17.3923 0.0000 -0.7549 -0.6020\n",
            "z_edu_new_unknown      -0.6870   0.0778  -8.8315 0.0000 -0.8394 -0.5345\n",
            "z_job_new_blue_collar  -0.0117   0.0327  -0.3587 0.7198 -0.0759  0.0524\n",
            "z_job_new_not_working   0.9166   0.0455  20.1497 0.0000  0.8274  1.0057\n",
            "z_job_new_unknown      -0.7253   0.2248  -3.2260 0.0013 -1.1659 -0.2846\n",
            "z_job_new_white_collar  0.1996   0.0325   6.1482 0.0000  0.1360  0.2632\n",
            "=======================================================================\n",
            "\n"
          ]
        }
      ]
    },
    {
      "cell_type": "code",
      "source": [
        "X_train, X_test, y_train, y_test = train_test_split(X, y, test_size=0.3, random_state=0)\n",
        "logreg = LogisticRegression()\n",
        "logreg.fit(X_train, y_train)"
      ],
      "metadata": {
        "id": "5QhDbyEztOf1",
        "colab": {
          "base_uri": "https://localhost:8080/"
        },
        "outputId": "18d5f3a9-b669-4a19-d7d0-eca00c8eed14"
      },
      "execution_count": 227,
      "outputs": [
        {
          "output_type": "execute_result",
          "data": {
            "text/plain": [
              "LogisticRegression()"
            ]
          },
          "metadata": {},
          "execution_count": 227
        }
      ]
    },
    {
      "cell_type": "code",
      "source": [
        "y_pred = logreg.predict(X_test)\n",
        "print('Accuracy of logistic regression classifier on test set: {:.2f}'.format(logreg.score(X_test, y_test)))"
      ],
      "metadata": {
        "id": "rteop76r-UEB",
        "colab": {
          "base_uri": "https://localhost:8080/"
        },
        "outputId": "f4ec888d-9b59-4948-b6b7-08e55e75a3a4"
      },
      "execution_count": 228,
      "outputs": [
        {
          "output_type": "stream",
          "name": "stdout",
          "text": [
            "Accuracy of logistic regression classifier on test set: 0.93\n"
          ]
        }
      ]
    },
    {
      "cell_type": "code",
      "source": [
        "cm_1 = confusion_matrix(y_test, y_pred)\n",
        "print(cm_1)"
      ],
      "metadata": {
        "id": "fwJqMz0v-UJX",
        "colab": {
          "base_uri": "https://localhost:8080/"
        },
        "outputId": "3c24f51c-f601-48c3-fca2-fbb6fa3d1d2c"
      },
      "execution_count": 229,
      "outputs": [
        {
          "output_type": "stream",
          "name": "stdout",
          "text": [
            "[[7632    0]\n",
            " [1053 6646]]\n"
          ]
        }
      ]
    },
    {
      "cell_type": "code",
      "source": [
        "plot_confusion_matrix(logreg, X_test, y_test)  \n",
        "plt.show()"
      ],
      "metadata": {
        "id": "JPucOwI8v9C4",
        "outputId": "e8fbdc42-1649-4f6e-8d2e-4203288f1978",
        "colab": {
          "base_uri": "https://localhost:8080/",
          "height": 334
        }
      },
      "execution_count": 230,
      "outputs": [
        {
          "output_type": "stream",
          "name": "stderr",
          "text": [
            "/usr/local/lib/python3.7/dist-packages/sklearn/utils/deprecation.py:87: FutureWarning: Function plot_confusion_matrix is deprecated; Function `plot_confusion_matrix` is deprecated in 1.0 and will be removed in 1.2. Use one of the class methods: ConfusionMatrixDisplay.from_predictions or ConfusionMatrixDisplay.from_estimator.\n",
            "  warnings.warn(msg, category=FutureWarning)\n"
          ]
        },
        {
          "output_type": "display_data",
          "data": {
            "text/plain": [
              "<Figure size 432x288 with 2 Axes>"
            ],
            "image/png": "[encoded data removed]"
          },
          "metadata": {
            "needs_background": "light"
          }
        }
      ]
    },
    {
      "cell_type": "code",
      "source": [
        "print(classification_report(y_test, y_pred))"
      ],
      "metadata": {
        "id": "vTEKHq_X-UMr",
        "colab": {
          "base_uri": "https://localhost:8080/"
        },
        "outputId": "2f6f19a3-c6c7-42de-867d-421791242ae7"
      },
      "execution_count": 231,
      "outputs": [
        {
          "output_type": "stream",
          "name": "stdout",
          "text": [
            "              precision    recall  f1-score   support\n",
            "\n",
            "           0       0.88      1.00      0.94      7632\n",
            "           1       1.00      0.86      0.93      7699\n",
            "\n",
            "    accuracy                           0.93     15331\n",
            "   macro avg       0.94      0.93      0.93     15331\n",
            "weighted avg       0.94      0.93      0.93     15331\n",
            "\n"
          ]
        }
      ]
    },
    {
      "cell_type": "markdown",
      "source": [
        "###Model 2"
      ],
      "metadata": {
        "id": "YsuIlDUf_hYO"
      }
    },
    {
      "cell_type": "code",
      "source": [
        "features_2 = features\n",
        "\n",
        "features_2.remove('z_marital_unknown')\n",
        "\n",
        "features_2.remove('z_job_new_blue_collar')\n",
        "\n",
        "features_2.remove('z_edu_new_post_high')"
      ],
      "metadata": {
        "id": "Ds67pS38-lHa"
      },
      "execution_count": 233,
      "outputs": []
    },
    {
      "cell_type": "code",
      "source": [
        "X = os_data_X[features_2]\n",
        "y = os_data_y['y']\n",
        "\n",
        "logit_model=sm.Logit(y,X)\n",
        "result=logit_model.fit()\n",
        "print(result.summary2())\n"
      ],
      "metadata": {
        "id": "V6jMs3O--r5a",
        "colab": {
          "base_uri": "https://localhost:8080/"
        },
        "outputId": "87513964-9857-4873-fafb-78f50762cb11"
      },
      "execution_count": 234,
      "outputs": [
        {
          "output_type": "stream",
          "name": "stdout",
          "text": [
            "Optimization terminated successfully.\n",
            "         Current function value: 0.536331\n",
            "         Iterations 6\n",
            "                            Results: Logit\n",
            "=======================================================================\n",
            "Model:                Logit              Pseudo R-squared:   0.226     \n",
            "Dependent Variable:   y                  AIC:                54849.1529\n",
            "Date:                 2022-07-31 02:28   BIC:                54999.4597\n",
            "No. Observations:     51102              Log-Likelihood:     -27408.   \n",
            "Df Model:             16                 LL-Null:            -35421.   \n",
            "Df Residuals:         51085              LLR p-value:        0.0000    \n",
            "Converged:            1.0000             Scale:              1.0000    \n",
            "No. Iterations:       6.0000                                           \n",
            "-----------------------------------------------------------------------\n",
            "                        Coef.  Std.Err.    z     P>|z|   [0.025  0.975]\n",
            "-----------------------------------------------------------------------\n",
            "z_marital_divorced      0.3407   0.0540   6.3115 0.0000  0.2349  0.4465\n",
            "z_marital_married       1.0609   0.0285  37.2782 0.0000  1.0051  1.1167\n",
            "z_marital_single        1.1476   0.0323  35.5365 0.0000  1.0843  1.2109\n",
            "z_housing_no            0.5243   0.0300  17.4799 0.0000  0.4655  0.5831\n",
            "z_housing_yes           0.6952   0.0283  24.5642 0.0000  0.6397  0.7507\n",
            "z_loan_unknown         -0.4686   0.1276  -3.6714 0.0002 -0.7187 -0.2184\n",
            "z_day_of_week_fri      -2.6348   0.0426 -61.8285 0.0000 -2.7183 -2.5513\n",
            "z_day_of_week_mon      -2.7471   0.0424 -64.8364 0.0000 -2.8302 -2.6641\n",
            "z_day_of_week_thu      -2.4684   0.0400 -61.6433 0.0000 -2.5468 -2.3899\n",
            "z_day_of_week_tue      -2.5468   0.0417 -61.1439 0.0000 -2.6284 -2.4651\n",
            "z_day_of_week_wed      -2.5338   0.0413 -61.3357 0.0000 -2.6147 -2.4528\n",
            "z_edu_new_high         -0.5739   0.0317 -18.1172 0.0000 -0.6359 -0.5118\n",
            "z_edu_new_pre_high     -0.7018   0.0310 -22.6521 0.0000 -0.7626 -0.6411\n",
            "z_edu_new_unknown      -0.7117   0.0737  -9.6556 0.0000 -0.8561 -0.5672\n",
            "z_job_new_not_working   0.9267   0.0395  23.4329 0.0000  0.8492  1.0042\n",
            "z_job_new_unknown      -0.7078   0.2232  -3.1711 0.0015 -1.1452 -0.2703\n",
            "z_job_new_white_collar  0.2136   0.0239   8.9399 0.0000  0.1668  0.2604\n",
            "=======================================================================\n",
            "\n"
          ]
        }
      ]
    },
    {
      "cell_type": "code",
      "source": [
        "X_train_2, X_test_2, y_train_2, y_test_2 = train_test_split(X, y, test_size=0.3, random_state=21)\n",
        "logreg_2 = LogisticRegression()\n",
        "logreg_2.fit(X_train_2, y_train_2)\n"
      ],
      "metadata": {
        "id": "aXCgo8X0-sDb",
        "colab": {
          "base_uri": "https://localhost:8080/"
        },
        "outputId": "b26bac1c-644d-4bfd-cf90-61686498ea3c"
      },
      "execution_count": 239,
      "outputs": [
        {
          "output_type": "execute_result",
          "data": {
            "text/plain": [
              "LogisticRegression()"
            ]
          },
          "metadata": {},
          "execution_count": 239
        }
      ]
    },
    {
      "cell_type": "code",
      "source": [
        "y_pred_2 = logreg_2.predict(X_test_2)\n",
        "print('Accuracy of logistic regression classifier on test set: {:.2f}'.format(logreg_2.score(X_test_2, y_test_2)))"
      ],
      "metadata": {
        "id": "FWmooJxPAnTb",
        "colab": {
          "base_uri": "https://localhost:8080/"
        },
        "outputId": "30930ca4-45d1-4798-951d-d0aec0ba90a3"
      },
      "execution_count": 240,
      "outputs": [
        {
          "output_type": "stream",
          "name": "stdout",
          "text": [
            "Accuracy of logistic regression classifier on test set: 0.91\n"
          ]
        }
      ]
    },
    {
      "cell_type": "code",
      "source": [
        "cm_2 = confusion_matrix(y_test_2, y_pred_2)\n",
        "print(cm_2)\n",
        "print(classification_report(y_test_2, y_pred_2))"
      ],
      "metadata": {
        "id": "uK0FRPO7AQI8",
        "colab": {
          "base_uri": "https://localhost:8080/"
        },
        "outputId": "377cedfa-704c-4643-e95a-8114ccf1b1a2"
      },
      "execution_count": 241,
      "outputs": [
        {
          "output_type": "stream",
          "name": "stdout",
          "text": [
            "[[7692   17]\n",
            " [1295 6327]]\n",
            "              precision    recall  f1-score   support\n",
            "\n",
            "           0       0.86      1.00      0.92      7709\n",
            "           1       1.00      0.83      0.91      7622\n",
            "\n",
            "    accuracy                           0.91     15331\n",
            "   macro avg       0.93      0.91      0.91     15331\n",
            "weighted avg       0.93      0.91      0.91     15331\n",
            "\n"
          ]
        }
      ]
    },
    {
      "cell_type": "code",
      "source": [
        ""
      ],
      "metadata": {
        "id": "qOs8MVwhFSU0"
      },
      "execution_count": 238,
      "outputs": []
    }
  ]
}