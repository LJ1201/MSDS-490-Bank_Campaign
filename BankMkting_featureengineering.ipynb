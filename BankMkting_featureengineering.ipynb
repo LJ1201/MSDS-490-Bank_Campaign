{
  "nbformat": 4,
  "nbformat_minor": 0,
  "metadata": {
    "colab": {
      "name": "BankMkting_featureengineering.ipynb",
      "provenance": [],
      "collapsed_sections": [],
      "include_colab_link": true
    },
    "kernelspec": {
      "name": "python3",
      "display_name": "Python 3"
    },
    "language_info": {
      "name": "python"
    }
  },
  "cells": [
    {
      "cell_type": "markdown",
      "metadata": {
        "id": "view-in-github",
        "colab_type": "text"
      },
      "source": [
        "<a href=\"https://colab.research.google.com/github/LJ1201/MSDS-490-Bank_Campaign/blob/main/BankMkting_featureengineering.ipynb\" target=\"_parent\"><img src=\"https://colab.research.google.com/assets/colab-badge.svg\" alt=\"Open In Colab\"/></a>"
      ]
    },
    {
      "cell_type": "markdown",
      "source": [
        "##Import packages"
      ],
      "metadata": {
        "id": "K_BMC9DkZnvw"
      }
    },
    {
      "cell_type": "code",
      "execution_count": 1,
      "metadata": {
        "id": "fRRsWXUecCNl",
        "outputId": "2634da5b-e5e7-43ac-d1db-1de3503e1f0c",
        "colab": {
          "base_uri": "https://localhost:8080/"
        }
      },
      "outputs": [
        {
          "output_type": "stream",
          "name": "stderr",
          "text": [
            "/usr/local/lib/python3.7/dist-packages/statsmodels/tools/_testing.py:19: FutureWarning: pandas.util.testing is deprecated. Use the functions in the public API at pandas.testing instead.\n",
            "  import pandas.util.testing as tm\n"
          ]
        }
      ],
      "source": [
        "import pandas as pd\n",
        "from sklearn.feature_selection import RFE\n",
        "from sklearn.linear_model import LogisticRegression\n",
        "from sklearn.model_selection import train_test_split\n",
        "from imblearn.over_sampling import SMOTE\n",
        "from sklearn.metrics import confusion_matrix\n",
        "from sklearn.metrics import classification_report\n",
        "from sklearn.metrics import plot_confusion_matrix\n",
        "import statsmodels.api as sm\n",
        "import matplotlib.pyplot as plt"
      ]
    },
    {
      "cell_type": "markdown",
      "source": [
        "## Import dataset\n",
        "\n",
        "Data Source: http://archive.ics.uci.edu/ml/datasets/Bank+Marketing#\n",
        "\n",
        "[Moro et al., 2014] S. Moro, P. Cortez and P. Rita. A Data-Driven Approach to Predict the Success of Bank Telemarketing. Decision Support Systems, Elsevier, 62:22-31, June 2014\n",
        "\n",
        "Data Set Information:\n",
        "\n",
        "The data is related with direct marketing campaigns of a Portuguese banking institution. The marketing campaigns were based on phone calls. Often, more than one contact to the same client was required, in order to access if the product (bank term deposit) would be ('yes') or not ('no') subscribed.\n",
        "\n",
        "There are four datasets:\n",
        "1) bank-additional-full.csv with all examples (41188) and 20 inputs, ordered by date (from May 2008 to November 2010), very close to the data analyzed in [Moro et al., 2014]\n",
        "2) bank-additional.csv with 10% of the examples (4119), randomly selected from 1), and 20 inputs.\n",
        "3) bank-full.csv with all examples and 17 inputs, ordered by date (older version of this dataset with less inputs).\n",
        "4) bank.csv with 10% of the examples and 17 inputs, randomly selected from 3 (older version of this dataset with less inputs).\n",
        "The smallest datasets are provided to test more computationally demanding machine learning algorithms (e.g., SVM).\n",
        "\n",
        "The classification goal is to predict if the client will subscribe (yes/no) a term deposit (variable y).\n",
        "\n",
        "\n",
        "##Attribute Information:\n",
        "\n",
        "Input variables:\n",
        "\n",
        "#Bank client data:\n",
        "\n",
        "1 - age (numeric)\n",
        "\n",
        "2 - job : type of job (categorical: 'admin.','blue-collar','entrepreneur','housemaid','management','retired','self-employed','services','student','technician','unemployed','unknown')\n",
        "\n",
        "3 - marital : marital status (categorical: 'divorced','married','single','unknown'; note: 'divorced' means divorced or widowed)\n",
        "\n",
        "4 - education (categorical: 'basic.4y','basic.6y','basic.9y','high.school','illiterate','professional.course','university.degree','unknown')\n",
        "\n",
        "5 - default: has credit in default? (categorical: 'no','yes','unknown')\n",
        "\n",
        "6 - housing: has housing loan? (categorical: 'no','yes','unknown')\n",
        "\n",
        "7 - loan: has personal loan? (categorical: 'no','yes','unknown')\n",
        "\n",
        "\n",
        "\n",
        "Related with the last contact of the current campaign:\n",
        "\n",
        "8 - contact: contact communication type (categorical: 'cellular','telephone')\n",
        "\n",
        "9 - month: last contact month of year (categorical: 'jan', 'feb', 'mar', ..., 'nov', 'dec')\n",
        "\n",
        "10 - day_of_week: last contact day of the week (categorical: 'mon','tue','wed','thu','fri')\n",
        "\n",
        "11 - duration: last contact duration, in seconds (numeric). Important note: this attribute highly affects the output target (e.g., if duration=0 then y='no'). Yet, the duration is not known before a call is performed. Also, after the end of the call y is obviously known. Thus, this input should only be included for benchmark purposes and should be discarded if the intention is to have a realistic predictive model.\n",
        "\n",
        "#Other attributes:\n",
        "\n",
        "12 - campaign: number of contacts performed during this campaign and for this client (numeric, includes last contact)\n",
        "\n",
        "13 - pdays: number of days that passed by after the client was last contacted from a previous campaign (numeric; 999 means client was not previously contacted)\n",
        "\n",
        "14 - previous: number of contacts performed before this campaign and for this client (numeric)\n",
        "\n",
        "15 - poutcome: outcome of the previous marketing campaign (categorical: 'failure','nonexistent','success')\n",
        "# social and economic context attributes\n",
        "16 - emp.var.rate: employment variation rate - quarterly indicator (numeric)\n",
        "\n",
        "\n",
        "17 - cons.price.idx: consumer price index - monthly indicator (numeric)\n",
        "\n",
        "\n",
        "18 - cons.conf.idx: consumer confidence index - monthly indicator (numeric)\n",
        "\n",
        "\n",
        "19 - euribor3m: euribor 3 month rate - daily indicator (numeric)\n",
        "\n",
        "\n",
        "20 - nr.employed: number of employees - quarterly indicator (numeric)\n",
        "\n",
        "Output variable (desired target):\n",
        "\n",
        "\n",
        "21 - y - has the client subscribed a term deposit? (binary: 'yes','no')\n",
        "\n",
        "\n",
        "\n",
        "\n",
        "#Relevant Papers:\n",
        "\n",
        "S. Moro, P. Cortez and P. Rita. A Data-Driven Approach to Predict the Success of Bank Telemarketing. Decision Support Systems, Elsevier, 62:22-31, June 2014\n",
        "\n",
        "S. Moro, R. Laureano and P. Cortez. Using Data Mining for Bank Direct Marketing: An Application of the CRISP-DM Methodology. In P. Novais et al. (Eds.), Proceedings of the European Simulation and Modelling Conference - ESM'2011, pp. 117-121, Guimaraes, Portugal, October, 2011. EUROSIS. [bank.zip]\n",
        "\n"
      ],
      "metadata": {
        "id": "9iciYz4iZrPf"
      }
    },
    {
      "cell_type": "code",
      "source": [
        "url = 'https://raw.githubusercontent.com/LJ1201/MSDS-490-Bank_Campaign/main/bank-additional-full.csv'\n",
        "data = pd.read_csv(url, sep=';')"
      ],
      "metadata": {
        "id": "1FiIE4lzcJcW"
      },
      "execution_count": 2,
      "outputs": []
    },
    {
      "cell_type": "markdown",
      "source": [
        "##EDA"
      ],
      "metadata": {
        "id": "6hizuVcCiiF6"
      }
    },
    {
      "cell_type": "code",
      "source": [
        "data.info()"
      ],
      "metadata": {
        "id": "tjoUUH9Qij6r",
        "colab": {
          "base_uri": "https://localhost:8080/"
        },
        "outputId": "c675ad26-a344-43cb-9d97-314a8a966d99"
      },
      "execution_count": 3,
      "outputs": [
        {
          "output_type": "stream",
          "name": "stdout",
          "text": [
            "<class 'pandas.core.frame.DataFrame'>\n",
            "RangeIndex: 41188 entries, 0 to 41187\n",
            "Data columns (total 21 columns):\n",
            " #   Column          Non-Null Count  Dtype  \n",
            "---  ------          --------------  -----  \n",
            " 0   age             41188 non-null  int64  \n",
            " 1   job             41188 non-null  object \n",
            " 2   marital         41188 non-null  object \n",
            " 3   education       41188 non-null  object \n",
            " 4   default         41188 non-null  object \n",
            " 5   housing         41188 non-null  object \n",
            " 6   loan            41188 non-null  object \n",
            " 7   contact         41188 non-null  object \n",
            " 8   month           41188 non-null  object \n",
            " 9   day_of_week     41188 non-null  object \n",
            " 10  duration        41188 non-null  int64  \n",
            " 11  campaign        41188 non-null  int64  \n",
            " 12  pdays           41188 non-null  int64  \n",
            " 13  previous        41188 non-null  int64  \n",
            " 14  poutcome        41188 non-null  object \n",
            " 15  emp.var.rate    41188 non-null  float64\n",
            " 16  cons.price.idx  41188 non-null  float64\n",
            " 17  cons.conf.idx   41188 non-null  float64\n",
            " 18  euribor3m       41188 non-null  float64\n",
            " 19  nr.employed     41188 non-null  float64\n",
            " 20  y               41188 non-null  object \n",
            "dtypes: float64(5), int64(5), object(11)\n",
            "memory usage: 6.6+ MB\n"
          ]
        }
      ]
    },
    {
      "cell_type": "markdown",
      "source": [
        "##Categroical Variables\n",
        "\n",
        "Categorical variables needs to be transformed into a form the model would take in. One hot encoding is a common way to perform the task"
      ],
      "metadata": {
        "id": "Fs8xFQVPiut4"
      }
    },
    {
      "cell_type": "code",
      "source": [
        "objList = []\n",
        "\n",
        "for i in data.dtypes.index :\n",
        "    if i =='y':continue\n",
        "    #print(\" here is i .....\", i , \" ..... and here is the type\", dt[i] )\n",
        "    if data.dtypes[i] in ([\"object\"]) : objList.append( i )\n"
      ],
      "metadata": {
        "id": "DSCfsaqwij-W"
      },
      "execution_count": 4,
      "outputs": []
    },
    {
      "cell_type": "code",
      "source": [
        "objList"
      ],
      "metadata": {
        "id": "a0AANhboikBx",
        "colab": {
          "base_uri": "https://localhost:8080/"
        },
        "outputId": "42dc7d0d-1e43-4acd-98f2-74aa39c7a49b"
      },
      "execution_count": 5,
      "outputs": [
        {
          "output_type": "execute_result",
          "data": {
            "text/plain": [
              "['job',\n",
              " 'marital',\n",
              " 'education',\n",
              " 'default',\n",
              " 'housing',\n",
              " 'loan',\n",
              " 'contact',\n",
              " 'month',\n",
              " 'day_of_week',\n",
              " 'poutcome']"
            ]
          },
          "metadata": {},
          "execution_count": 5
        }
      ]
    },
    {
      "cell_type": "code",
      "source": [
        "data.columns"
      ],
      "metadata": {
        "id": "qowjWiMgjcUb",
        "colab": {
          "base_uri": "https://localhost:8080/"
        },
        "outputId": "2205e395-f594-4de6-fa69-e6fa98856075"
      },
      "execution_count": 6,
      "outputs": [
        {
          "output_type": "execute_result",
          "data": {
            "text/plain": [
              "Index(['age', 'job', 'marital', 'education', 'default', 'housing', 'loan',\n",
              "       'contact', 'month', 'day_of_week', 'duration', 'campaign', 'pdays',\n",
              "       'previous', 'poutcome', 'emp.var.rate', 'cons.price.idx',\n",
              "       'cons.conf.idx', 'euribor3m', 'nr.employed', 'y'],\n",
              "      dtype='object')"
            ]
          },
          "metadata": {},
          "execution_count": 6
        }
      ]
    },
    {
      "cell_type": "code",
      "source": [
        "data['education'].value_counts()\n",
        "\n",
        "data_1 = data.copy()\n",
        "data_1 = data_1[data_1['education'] != 'illiterate']\n",
        "\n",
        "data_1['edu_new'] = data_1['education'].map({'basic.4y': 'pre_high', \n",
        "                                         'basic.9y': 'pre_high',\n",
        "                                         'basic.6y': 'pre_high',\n",
        "                                         'university.degree' : 'post_high',\n",
        "                                         'professional.course':'post_high',\n",
        "                                         'high.school' : 'high',\n",
        "                                         'unknown' :'unknown' })"
      ],
      "metadata": {
        "id": "bbhSCh5ncQmI",
        "outputId": "82fe972b-7859-4893-ef72-abfeb64427b8",
        "colab": {
          "base_uri": "https://localhost:8080/"
        }
      },
      "execution_count": 7,
      "outputs": [
        {
          "output_type": "stream",
          "name": "stderr",
          "text": [
            "/usr/local/lib/python3.7/dist-packages/ipykernel_launcher.py:12: SettingWithCopyWarning: \n",
            "A value is trying to be set on a copy of a slice from a DataFrame.\n",
            "Try using .loc[row_indexer,col_indexer] = value instead\n",
            "\n",
            "See the caveats in the documentation: https://pandas.pydata.org/pandas-docs/stable/user_guide/indexing.html#returning-a-view-versus-a-copy\n",
            "  if sys.path[0] == '':\n"
          ]
        }
      ]
    },
    {
      "cell_type": "code",
      "source": [
        "def map_job(row):\n",
        "    if row['job'] in ['admin.', 'management', 'entrepreneur','self-employed']:\n",
        "        cat = 'white_collar'\n",
        "    elif row['job'] in ['housemaid', 'blue-collar', 'technician', 'services']:\n",
        "        cat = 'blue_collar'\n",
        "    elif row['job'] in ['student', 'retired', 'unemployed']:\n",
        "        cat = 'not_working'\n",
        "    else:\n",
        "        cat = 'unknown'\n",
        "    return cat\n",
        "\n",
        "data_1['job_new'] = data_1.apply(map_job, axis=1)\n",
        "data_1['job_new'].value_counts(dropna = False)"
      ],
      "metadata": {
        "id": "eHGAdfSkcS5b",
        "colab": {
          "base_uri": "https://localhost:8080/"
        },
        "outputId": "137e5cd2-5955-4c87-9c3f-3a3801482915"
      },
      "execution_count": 8,
      "outputs": [
        {
          "output_type": "execute_result",
          "data": {
            "text/plain": [
              "blue_collar     21017\n",
              "white_collar    16217\n",
              "not_working      3606\n",
              "unknown           330\n",
              "Name: job_new, dtype: int64"
            ]
          },
          "metadata": {},
          "execution_count": 8
        }
      ]
    },
    {
      "cell_type": "code",
      "source": [
        "def map_month(row):\n",
        "    if row['month'] in ['mar', 'apr', 'may']:\n",
        "        cat = 'spring'\n",
        "    elif row['month'] in ['jun', 'jul', 'aug']:\n",
        "        cat = 'summer'\n",
        "    elif row['month'] in ['sep', 'oct', 'nov']:\n",
        "        cat = 'fall'\n",
        "    else:\n",
        "        cat = 'winter'\n",
        "    return cat\n",
        "\n",
        "data_1['season'] = data_1.apply(map_month, axis=1)\n",
        "data_1['season'].value_counts(dropna = False)"
      ],
      "metadata": {
        "id": "94-u-jWxcU_5",
        "colab": {
          "base_uri": "https://localhost:8080/"
        },
        "outputId": "58edcebc-c834-4195-8d62-659210c50efe"
      },
      "execution_count": 9,
      "outputs": [
        {
          "output_type": "execute_result",
          "data": {
            "text/plain": [
              "summer    18660\n",
              "spring    16942\n",
              "fall       5386\n",
              "winter      182\n",
              "Name: season, dtype: int64"
            ]
          },
          "metadata": {},
          "execution_count": 9
        }
      ]
    },
    {
      "cell_type": "code",
      "source": [
        "data_1.columns"
      ],
      "metadata": {
        "id": "MTQZAXjLcXVU",
        "colab": {
          "base_uri": "https://localhost:8080/"
        },
        "outputId": "995bb8e4-d944-4ee1-f305-479ee4220cef"
      },
      "execution_count": 10,
      "outputs": [
        {
          "output_type": "execute_result",
          "data": {
            "text/plain": [
              "Index(['age', 'job', 'marital', 'education', 'default', 'housing', 'loan',\n",
              "       'contact', 'month', 'day_of_week', 'duration', 'campaign', 'pdays',\n",
              "       'previous', 'poutcome', 'emp.var.rate', 'cons.price.idx',\n",
              "       'cons.conf.idx', 'euribor3m', 'nr.employed', 'y', 'edu_new', 'job_new',\n",
              "       'season'],\n",
              "      dtype='object')"
            ]
          },
          "metadata": {},
          "execution_count": 10
        }
      ]
    },
    {
      "cell_type": "markdown",
      "source": [
        "### Data Transformation - V1 (Agreed on Team Discussion)"
      ],
      "metadata": {
        "id": "BeRBJ8ZMc345"
      }
    },
    {
      "cell_type": "code",
      "source": [
        "#This transformed dataframe is based on group discussion on 7/23\n",
        "# - keep all numerical features as they are\n",
        "# - consolidate categorical features (education, job, season) and drop originial ones\n",
        "\n",
        "df_tran_1 = data_1[['age', 'marital', 'default', 'housing', 'loan',\n",
        "       'contact', 'day_of_week', 'duration', 'campaign', 'pdays',\n",
        "       'previous', 'poutcome', 'emp.var.rate', 'cons.price.idx',\n",
        "       'cons.conf.idx', 'euribor3m', 'nr.employed', 'y', 'edu_new', 'job_new', 'season']]"
      ],
      "metadata": {
        "id": "AdtaLk4ycY_5"
      },
      "execution_count": 11,
      "outputs": []
    },
    {
      "cell_type": "code",
      "source": [
        "df_tran_1.columns"
      ],
      "metadata": {
        "id": "FfhleyPscknX",
        "colab": {
          "base_uri": "https://localhost:8080/"
        },
        "outputId": "7afaf5b7-1cfc-4ed2-8a0d-fb1aa59904a1"
      },
      "execution_count": 12,
      "outputs": [
        {
          "output_type": "execute_result",
          "data": {
            "text/plain": [
              "Index(['age', 'marital', 'default', 'housing', 'loan', 'contact',\n",
              "       'day_of_week', 'duration', 'campaign', 'pdays', 'previous', 'poutcome',\n",
              "       'emp.var.rate', 'cons.price.idx', 'cons.conf.idx', 'euribor3m',\n",
              "       'nr.employed', 'y', 'edu_new', 'job_new', 'season'],\n",
              "      dtype='object')"
            ]
          },
          "metadata": {},
          "execution_count": 12
        }
      ]
    },
    {
      "cell_type": "code",
      "source": [
        "df_tran_1.head().T"
      ],
      "metadata": {
        "id": "0M1PuicxcfCq",
        "colab": {
          "base_uri": "https://localhost:8080/",
          "height": 708
        },
        "outputId": "2ea0d3ae-0a4a-46f6-8cad-12b30624d038"
      },
      "execution_count": 13,
      "outputs": [
        {
          "output_type": "execute_result",
          "data": {
            "text/plain": [
              "                          0            1            2             3  \\\n",
              "age                      56           57           37            40   \n",
              "marital             married      married      married       married   \n",
              "default                  no      unknown           no            no   \n",
              "housing                  no           no          yes            no   \n",
              "loan                     no           no           no            no   \n",
              "contact           telephone    telephone    telephone     telephone   \n",
              "day_of_week             mon          mon          mon           mon   \n",
              "duration                261          149          226           151   \n",
              "campaign                  1            1            1             1   \n",
              "pdays                   999          999          999           999   \n",
              "previous                  0            0            0             0   \n",
              "poutcome        nonexistent  nonexistent  nonexistent   nonexistent   \n",
              "emp.var.rate            1.1          1.1          1.1           1.1   \n",
              "cons.price.idx       93.994       93.994       93.994        93.994   \n",
              "cons.conf.idx         -36.4        -36.4        -36.4         -36.4   \n",
              "euribor3m             4.857        4.857        4.857         4.857   \n",
              "nr.employed          5191.0       5191.0       5191.0        5191.0   \n",
              "y                        no           no           no            no   \n",
              "edu_new            pre_high         high         high      pre_high   \n",
              "job_new         blue_collar  blue_collar  blue_collar  white_collar   \n",
              "season               spring       spring       spring        spring   \n",
              "\n",
              "                          4  \n",
              "age                      56  \n",
              "marital             married  \n",
              "default                  no  \n",
              "housing                  no  \n",
              "loan                    yes  \n",
              "contact           telephone  \n",
              "day_of_week             mon  \n",
              "duration                307  \n",
              "campaign                  1  \n",
              "pdays                   999  \n",
              "previous                  0  \n",
              "poutcome        nonexistent  \n",
              "emp.var.rate            1.1  \n",
              "cons.price.idx       93.994  \n",
              "cons.conf.idx         -36.4  \n",
              "euribor3m             4.857  \n",
              "nr.employed          5191.0  \n",
              "y                        no  \n",
              "edu_new                high  \n",
              "job_new         blue_collar  \n",
              "season               spring  "
            ],
            "text/html": [
              "\n",
              "  <div id=\"df-702a54c8-7a33-48a3-b2b6-03a548bb9842\">\n",
              "    <div class=\"colab-df-container\">\n",
              "      <div>\n",
              "<style scoped>\n",
              "    .dataframe tbody tr th:only-of-type {\n",
              "        vertical-align: middle;\n",
              "    }\n",
              "\n",
              "    .dataframe tbody tr th {\n",
              "        vertical-align: top;\n",
              "    }\n",
              "\n",
              "    .dataframe thead th {\n",
              "        text-align: right;\n",
              "    }\n",
              "</style>\n",
              "<table border=\"1\" class=\"dataframe\">\n",
              "  <thead>\n",
              "    <tr style=\"text-align: right;\">\n",
              "      <th></th>\n",
              "      <th>0</th>\n",
              "      <th>1</th>\n",
              "      <th>2</th>\n",
              "      <th>3</th>\n",
              "      <th>4</th>\n",
              "    </tr>\n",
              "  </thead>\n",
              "  <tbody>\n",
              "    <tr>\n",
              "      <th>age</th>\n",
              "      <td>56</td>\n",
              "      <td>57</td>\n",
              "      <td>37</td>\n",
              "      <td>40</td>\n",
              "      <td>56</td>\n",
              "    </tr>\n",
              "    <tr>\n",
              "      <th>marital</th>\n",
              "      <td>married</td>\n",
              "      <td>married</td>\n",
              "      <td>married</td>\n",
              "      <td>married</td>\n",
              "      <td>married</td>\n",
              "    </tr>\n",
              "    <tr>\n",
              "      <th>default</th>\n",
              "      <td>no</td>\n",
              "      <td>unknown</td>\n",
              "      <td>no</td>\n",
              "      <td>no</td>\n",
              "      <td>no</td>\n",
              "    </tr>\n",
              "    <tr>\n",
              "      <th>housing</th>\n",
              "      <td>no</td>\n",
              "      <td>no</td>\n",
              "      <td>yes</td>\n",
              "      <td>no</td>\n",
              "      <td>no</td>\n",
              "    </tr>\n",
              "    <tr>\n",
              "      <th>loan</th>\n",
              "      <td>no</td>\n",
              "      <td>no</td>\n",
              "      <td>no</td>\n",
              "      <td>no</td>\n",
              "      <td>yes</td>\n",
              "    </tr>\n",
              "    <tr>\n",
              "      <th>contact</th>\n",
              "      <td>telephone</td>\n",
              "      <td>telephone</td>\n",
              "      <td>telephone</td>\n",
              "      <td>telephone</td>\n",
              "      <td>telephone</td>\n",
              "    </tr>\n",
              "    <tr>\n",
              "      <th>day_of_week</th>\n",
              "      <td>mon</td>\n",
              "      <td>mon</td>\n",
              "      <td>mon</td>\n",
              "      <td>mon</td>\n",
              "      <td>mon</td>\n",
              "    </tr>\n",
              "    <tr>\n",
              "      <th>duration</th>\n",
              "      <td>261</td>\n",
              "      <td>149</td>\n",
              "      <td>226</td>\n",
              "      <td>151</td>\n",
              "      <td>307</td>\n",
              "    </tr>\n",
              "    <tr>\n",
              "      <th>campaign</th>\n",
              "      <td>1</td>\n",
              "      <td>1</td>\n",
              "      <td>1</td>\n",
              "      <td>1</td>\n",
              "      <td>1</td>\n",
              "    </tr>\n",
              "    <tr>\n",
              "      <th>pdays</th>\n",
              "      <td>999</td>\n",
              "      <td>999</td>\n",
              "      <td>999</td>\n",
              "      <td>999</td>\n",
              "      <td>999</td>\n",
              "    </tr>\n",
              "    <tr>\n",
              "      <th>previous</th>\n",
              "      <td>0</td>\n",
              "      <td>0</td>\n",
              "      <td>0</td>\n",
              "      <td>0</td>\n",
              "      <td>0</td>\n",
              "    </tr>\n",
              "    <tr>\n",
              "      <th>poutcome</th>\n",
              "      <td>nonexistent</td>\n",
              "      <td>nonexistent</td>\n",
              "      <td>nonexistent</td>\n",
              "      <td>nonexistent</td>\n",
              "      <td>nonexistent</td>\n",
              "    </tr>\n",
              "    <tr>\n",
              "      <th>emp.var.rate</th>\n",
              "      <td>1.1</td>\n",
              "      <td>1.1</td>\n",
              "      <td>1.1</td>\n",
              "      <td>1.1</td>\n",
              "      <td>1.1</td>\n",
              "    </tr>\n",
              "    <tr>\n",
              "      <th>cons.price.idx</th>\n",
              "      <td>93.994</td>\n",
              "      <td>93.994</td>\n",
              "      <td>93.994</td>\n",
              "      <td>93.994</td>\n",
              "      <td>93.994</td>\n",
              "    </tr>\n",
              "    <tr>\n",
              "      <th>cons.conf.idx</th>\n",
              "      <td>-36.4</td>\n",
              "      <td>-36.4</td>\n",
              "      <td>-36.4</td>\n",
              "      <td>-36.4</td>\n",
              "      <td>-36.4</td>\n",
              "    </tr>\n",
              "    <tr>\n",
              "      <th>euribor3m</th>\n",
              "      <td>4.857</td>\n",
              "      <td>4.857</td>\n",
              "      <td>4.857</td>\n",
              "      <td>4.857</td>\n",
              "      <td>4.857</td>\n",
              "    </tr>\n",
              "    <tr>\n",
              "      <th>nr.employed</th>\n",
              "      <td>5191.0</td>\n",
              "      <td>5191.0</td>\n",
              "      <td>5191.0</td>\n",
              "      <td>5191.0</td>\n",
              "      <td>5191.0</td>\n",
              "    </tr>\n",
              "    <tr>\n",
              "      <th>y</th>\n",
              "      <td>no</td>\n",
              "      <td>no</td>\n",
              "      <td>no</td>\n",
              "      <td>no</td>\n",
              "      <td>no</td>\n",
              "    </tr>\n",
              "    <tr>\n",
              "      <th>edu_new</th>\n",
              "      <td>pre_high</td>\n",
              "      <td>high</td>\n",
              "      <td>high</td>\n",
              "      <td>pre_high</td>\n",
              "      <td>high</td>\n",
              "    </tr>\n",
              "    <tr>\n",
              "      <th>job_new</th>\n",
              "      <td>blue_collar</td>\n",
              "      <td>blue_collar</td>\n",
              "      <td>blue_collar</td>\n",
              "      <td>white_collar</td>\n",
              "      <td>blue_collar</td>\n",
              "    </tr>\n",
              "    <tr>\n",
              "      <th>season</th>\n",
              "      <td>spring</td>\n",
              "      <td>spring</td>\n",
              "      <td>spring</td>\n",
              "      <td>spring</td>\n",
              "      <td>spring</td>\n",
              "    </tr>\n",
              "  </tbody>\n",
              "</table>\n",
              "</div>\n",
              "      <button class=\"colab-df-convert\" onclick=\"convertToInteractive('df-702a54c8-7a33-48a3-b2b6-03a548bb9842')\"\n",
              "              title=\"Convert this dataframe to an interactive table.\"\n",
              "              style=\"display:none;\">\n",
              "        \n",
              "  <svg xmlns=\"http://www.w3.org/2000/svg\" height=\"24px\"viewBox=\"0 0 24 24\"\n",
              "       width=\"24px\">\n",
              "    <path d=\"M0 0h24v24H0V0z\" fill=\"none\"/>\n",
              "    <path d=\"M18.56 5.44l.94 2.06.94-2.06 2.06-.94-2.06-.94-.94-2.06-.94 2.06-2.06.94zm-11 1L8.5 8.5l.94-2.06 2.06-.94-2.06-.94L8.5 2.5l-.94 2.06-2.06.94zm10 10l.94 2.06.94-2.06 2.06-.94-2.06-.94-.94-2.06-.94 2.06-2.06.94z\"/><path d=\"M17.41 7.96l-1.37-1.37c-.4-.4-.92-.59-1.43-.59-.52 0-1.04.2-1.43.59L10.3 9.45l-7.72 7.72c-.78.78-.78 2.05 0 2.83L4 21.41c.39.39.9.59 1.41.59.51 0 1.02-.2 1.41-.59l7.78-7.78 2.81-2.81c.8-.78.8-2.07 0-2.86zM5.41 20L4 18.59l7.72-7.72 1.47 1.35L5.41 20z\"/>\n",
              "  </svg>\n",
              "      </button>\n",
              "      \n",
              "  <style>\n",
              "    .colab-df-container {\n",
              "      display:flex;\n",
              "      flex-wrap:wrap;\n",
              "      gap: 12px;\n",
              "    }\n",
              "\n",
              "    .colab-df-convert {\n",
              "      background-color: #E8F0FE;\n",
              "      border: none;\n",
              "      border-radius: 50%;\n",
              "      cursor: pointer;\n",
              "      display: none;\n",
              "      fill: #1967D2;\n",
              "      height: 32px;\n",
              "      padding: 0 0 0 0;\n",
              "      width: 32px;\n",
              "    }\n",
              "\n",
              "    .colab-df-convert:hover {\n",
              "      background-color: #E2EBFA;\n",
              "      box-shadow: 0px 1px 2px rgba(60, 64, 67, 0.3), 0px 1px 3px 1px rgba(60, 64, 67, 0.15);\n",
              "      fill: #174EA6;\n",
              "    }\n",
              "\n",
              "    [theme=dark] .colab-df-convert {\n",
              "      background-color: #3B4455;\n",
              "      fill: #D2E3FC;\n",
              "    }\n",
              "\n",
              "    [theme=dark] .colab-df-convert:hover {\n",
              "      background-color: #434B5C;\n",
              "      box-shadow: 0px 1px 3px 1px rgba(0, 0, 0, 0.15);\n",
              "      filter: drop-shadow(0px 1px 2px rgba(0, 0, 0, 0.3));\n",
              "      fill: #FFFFFF;\n",
              "    }\n",
              "  </style>\n",
              "\n",
              "      <script>\n",
              "        const buttonEl =\n",
              "          document.querySelector('#df-702a54c8-7a33-48a3-b2b6-03a548bb9842 button.colab-df-convert');\n",
              "        buttonEl.style.display =\n",
              "          google.colab.kernel.accessAllowed ? 'block' : 'none';\n",
              "\n",
              "        async function convertToInteractive(key) {\n",
              "          const element = document.querySelector('#df-702a54c8-7a33-48a3-b2b6-03a548bb9842');\n",
              "          const dataTable =\n",
              "            await google.colab.kernel.invokeFunction('convertToInteractive',\n",
              "                                                     [key], {});\n",
              "          if (!dataTable) return;\n",
              "\n",
              "          const docLinkHtml = 'Like what you see? Visit the ' +\n",
              "            '<a target=\"_blank\" href=https://colab.research.google.com/notebooks/data_table.ipynb>data table notebook</a>'\n",
              "            + ' to learn more about interactive tables.';\n",
              "          element.innerHTML = '';\n",
              "          dataTable['output_type'] = 'display_data';\n",
              "          await google.colab.output.renderOutput(dataTable, element);\n",
              "          const docLink = document.createElement('div');\n",
              "          docLink.innerHTML = docLinkHtml;\n",
              "          element.appendChild(docLink);\n",
              "        }\n",
              "      </script>\n",
              "    </div>\n",
              "  </div>\n",
              "  "
            ]
          },
          "metadata": {},
          "execution_count": 13
        }
      ]
    },
    {
      "cell_type": "code",
      "source": [
        "df_tran_1.y.value_counts()"
      ],
      "metadata": {
        "id": "gjfodSf6eCC8",
        "colab": {
          "base_uri": "https://localhost:8080/"
        },
        "outputId": "5b047d91-dd27-45a3-cf63-558642908868"
      },
      "execution_count": 14,
      "outputs": [
        {
          "output_type": "execute_result",
          "data": {
            "text/plain": [
              "no     36534\n",
              "yes     4636\n",
              "Name: y, dtype: int64"
            ]
          },
          "metadata": {},
          "execution_count": 14
        }
      ]
    },
    {
      "cell_type": "code",
      "source": [
        "df_tran_1.columns"
      ],
      "metadata": {
        "id": "QyoLkI_Xe99E",
        "colab": {
          "base_uri": "https://localhost:8080/"
        },
        "outputId": "fa5ff716-ef72-425e-9132-dbc2a9ba7cc5"
      },
      "execution_count": 15,
      "outputs": [
        {
          "output_type": "execute_result",
          "data": {
            "text/plain": [
              "Index(['age', 'marital', 'default', 'housing', 'loan', 'contact',\n",
              "       'day_of_week', 'duration', 'campaign', 'pdays', 'previous', 'poutcome',\n",
              "       'emp.var.rate', 'cons.price.idx', 'cons.conf.idx', 'euribor3m',\n",
              "       'nr.employed', 'y', 'edu_new', 'job_new', 'season'],\n",
              "      dtype='object')"
            ]
          },
          "metadata": {},
          "execution_count": 15
        }
      ]
    },
    {
      "cell_type": "code",
      "source": [
        "df_tran_1.head().T"
      ],
      "metadata": {
        "id": "sJIW-vAngA7I",
        "colab": {
          "base_uri": "https://localhost:8080/",
          "height": 708
        },
        "outputId": "1fd0750b-a3bc-4ffe-ce81-55e7e5ff26c4"
      },
      "execution_count": 16,
      "outputs": [
        {
          "output_type": "execute_result",
          "data": {
            "text/plain": [
              "                          0            1            2             3  \\\n",
              "age                      56           57           37            40   \n",
              "marital             married      married      married       married   \n",
              "default                  no      unknown           no            no   \n",
              "housing                  no           no          yes            no   \n",
              "loan                     no           no           no            no   \n",
              "contact           telephone    telephone    telephone     telephone   \n",
              "day_of_week             mon          mon          mon           mon   \n",
              "duration                261          149          226           151   \n",
              "campaign                  1            1            1             1   \n",
              "pdays                   999          999          999           999   \n",
              "previous                  0            0            0             0   \n",
              "poutcome        nonexistent  nonexistent  nonexistent   nonexistent   \n",
              "emp.var.rate            1.1          1.1          1.1           1.1   \n",
              "cons.price.idx       93.994       93.994       93.994        93.994   \n",
              "cons.conf.idx         -36.4        -36.4        -36.4         -36.4   \n",
              "euribor3m             4.857        4.857        4.857         4.857   \n",
              "nr.employed          5191.0       5191.0       5191.0        5191.0   \n",
              "y                        no           no           no            no   \n",
              "edu_new            pre_high         high         high      pre_high   \n",
              "job_new         blue_collar  blue_collar  blue_collar  white_collar   \n",
              "season               spring       spring       spring        spring   \n",
              "\n",
              "                          4  \n",
              "age                      56  \n",
              "marital             married  \n",
              "default                  no  \n",
              "housing                  no  \n",
              "loan                    yes  \n",
              "contact           telephone  \n",
              "day_of_week             mon  \n",
              "duration                307  \n",
              "campaign                  1  \n",
              "pdays                   999  \n",
              "previous                  0  \n",
              "poutcome        nonexistent  \n",
              "emp.var.rate            1.1  \n",
              "cons.price.idx       93.994  \n",
              "cons.conf.idx         -36.4  \n",
              "euribor3m             4.857  \n",
              "nr.employed          5191.0  \n",
              "y                        no  \n",
              "edu_new                high  \n",
              "job_new         blue_collar  \n",
              "season               spring  "
            ],
            "text/html": [
              "\n",
              "  <div id=\"df-e50b8a8e-3e3f-40b2-9022-5fe9d9372059\">\n",
              "    <div class=\"colab-df-container\">\n",
              "      <div>\n",
              "<style scoped>\n",
              "    .dataframe tbody tr th:only-of-type {\n",
              "        vertical-align: middle;\n",
              "    }\n",
              "\n",
              "    .dataframe tbody tr th {\n",
              "        vertical-align: top;\n",
              "    }\n",
              "\n",
              "    .dataframe thead th {\n",
              "        text-align: right;\n",
              "    }\n",
              "</style>\n",
              "<table border=\"1\" class=\"dataframe\">\n",
              "  <thead>\n",
              "    <tr style=\"text-align: right;\">\n",
              "      <th></th>\n",
              "      <th>0</th>\n",
              "      <th>1</th>\n",
              "      <th>2</th>\n",
              "      <th>3</th>\n",
              "      <th>4</th>\n",
              "    </tr>\n",
              "  </thead>\n",
              "  <tbody>\n",
              "    <tr>\n",
              "      <th>age</th>\n",
              "      <td>56</td>\n",
              "      <td>57</td>\n",
              "      <td>37</td>\n",
              "      <td>40</td>\n",
              "      <td>56</td>\n",
              "    </tr>\n",
              "    <tr>\n",
              "      <th>marital</th>\n",
              "      <td>married</td>\n",
              "      <td>married</td>\n",
              "      <td>married</td>\n",
              "      <td>married</td>\n",
              "      <td>married</td>\n",
              "    </tr>\n",
              "    <tr>\n",
              "      <th>default</th>\n",
              "      <td>no</td>\n",
              "      <td>unknown</td>\n",
              "      <td>no</td>\n",
              "      <td>no</td>\n",
              "      <td>no</td>\n",
              "    </tr>\n",
              "    <tr>\n",
              "      <th>housing</th>\n",
              "      <td>no</td>\n",
              "      <td>no</td>\n",
              "      <td>yes</td>\n",
              "      <td>no</td>\n",
              "      <td>no</td>\n",
              "    </tr>\n",
              "    <tr>\n",
              "      <th>loan</th>\n",
              "      <td>no</td>\n",
              "      <td>no</td>\n",
              "      <td>no</td>\n",
              "      <td>no</td>\n",
              "      <td>yes</td>\n",
              "    </tr>\n",
              "    <tr>\n",
              "      <th>contact</th>\n",
              "      <td>telephone</td>\n",
              "      <td>telephone</td>\n",
              "      <td>telephone</td>\n",
              "      <td>telephone</td>\n",
              "      <td>telephone</td>\n",
              "    </tr>\n",
              "    <tr>\n",
              "      <th>day_of_week</th>\n",
              "      <td>mon</td>\n",
              "      <td>mon</td>\n",
              "      <td>mon</td>\n",
              "      <td>mon</td>\n",
              "      <td>mon</td>\n",
              "    </tr>\n",
              "    <tr>\n",
              "      <th>duration</th>\n",
              "      <td>261</td>\n",
              "      <td>149</td>\n",
              "      <td>226</td>\n",
              "      <td>151</td>\n",
              "      <td>307</td>\n",
              "    </tr>\n",
              "    <tr>\n",
              "      <th>campaign</th>\n",
              "      <td>1</td>\n",
              "      <td>1</td>\n",
              "      <td>1</td>\n",
              "      <td>1</td>\n",
              "      <td>1</td>\n",
              "    </tr>\n",
              "    <tr>\n",
              "      <th>pdays</th>\n",
              "      <td>999</td>\n",
              "      <td>999</td>\n",
              "      <td>999</td>\n",
              "      <td>999</td>\n",
              "      <td>999</td>\n",
              "    </tr>\n",
              "    <tr>\n",
              "      <th>previous</th>\n",
              "      <td>0</td>\n",
              "      <td>0</td>\n",
              "      <td>0</td>\n",
              "      <td>0</td>\n",
              "      <td>0</td>\n",
              "    </tr>\n",
              "    <tr>\n",
              "      <th>poutcome</th>\n",
              "      <td>nonexistent</td>\n",
              "      <td>nonexistent</td>\n",
              "      <td>nonexistent</td>\n",
              "      <td>nonexistent</td>\n",
              "      <td>nonexistent</td>\n",
              "    </tr>\n",
              "    <tr>\n",
              "      <th>emp.var.rate</th>\n",
              "      <td>1.1</td>\n",
              "      <td>1.1</td>\n",
              "      <td>1.1</td>\n",
              "      <td>1.1</td>\n",
              "      <td>1.1</td>\n",
              "    </tr>\n",
              "    <tr>\n",
              "      <th>cons.price.idx</th>\n",
              "      <td>93.994</td>\n",
              "      <td>93.994</td>\n",
              "      <td>93.994</td>\n",
              "      <td>93.994</td>\n",
              "      <td>93.994</td>\n",
              "    </tr>\n",
              "    <tr>\n",
              "      <th>cons.conf.idx</th>\n",
              "      <td>-36.4</td>\n",
              "      <td>-36.4</td>\n",
              "      <td>-36.4</td>\n",
              "      <td>-36.4</td>\n",
              "      <td>-36.4</td>\n",
              "    </tr>\n",
              "    <tr>\n",
              "      <th>euribor3m</th>\n",
              "      <td>4.857</td>\n",
              "      <td>4.857</td>\n",
              "      <td>4.857</td>\n",
              "      <td>4.857</td>\n",
              "      <td>4.857</td>\n",
              "    </tr>\n",
              "    <tr>\n",
              "      <th>nr.employed</th>\n",
              "      <td>5191.0</td>\n",
              "      <td>5191.0</td>\n",
              "      <td>5191.0</td>\n",
              "      <td>5191.0</td>\n",
              "      <td>5191.0</td>\n",
              "    </tr>\n",
              "    <tr>\n",
              "      <th>y</th>\n",
              "      <td>no</td>\n",
              "      <td>no</td>\n",
              "      <td>no</td>\n",
              "      <td>no</td>\n",
              "      <td>no</td>\n",
              "    </tr>\n",
              "    <tr>\n",
              "      <th>edu_new</th>\n",
              "      <td>pre_high</td>\n",
              "      <td>high</td>\n",
              "      <td>high</td>\n",
              "      <td>pre_high</td>\n",
              "      <td>high</td>\n",
              "    </tr>\n",
              "    <tr>\n",
              "      <th>job_new</th>\n",
              "      <td>blue_collar</td>\n",
              "      <td>blue_collar</td>\n",
              "      <td>blue_collar</td>\n",
              "      <td>white_collar</td>\n",
              "      <td>blue_collar</td>\n",
              "    </tr>\n",
              "    <tr>\n",
              "      <th>season</th>\n",
              "      <td>spring</td>\n",
              "      <td>spring</td>\n",
              "      <td>spring</td>\n",
              "      <td>spring</td>\n",
              "      <td>spring</td>\n",
              "    </tr>\n",
              "  </tbody>\n",
              "</table>\n",
              "</div>\n",
              "      <button class=\"colab-df-convert\" onclick=\"convertToInteractive('df-e50b8a8e-3e3f-40b2-9022-5fe9d9372059')\"\n",
              "              title=\"Convert this dataframe to an interactive table.\"\n",
              "              style=\"display:none;\">\n",
              "        \n",
              "  <svg xmlns=\"http://www.w3.org/2000/svg\" height=\"24px\"viewBox=\"0 0 24 24\"\n",
              "       width=\"24px\">\n",
              "    <path d=\"M0 0h24v24H0V0z\" fill=\"none\"/>\n",
              "    <path d=\"M18.56 5.44l.94 2.06.94-2.06 2.06-.94-2.06-.94-.94-2.06-.94 2.06-2.06.94zm-11 1L8.5 8.5l.94-2.06 2.06-.94-2.06-.94L8.5 2.5l-.94 2.06-2.06.94zm10 10l.94 2.06.94-2.06 2.06-.94-2.06-.94-.94-2.06-.94 2.06-2.06.94z\"/><path d=\"M17.41 7.96l-1.37-1.37c-.4-.4-.92-.59-1.43-.59-.52 0-1.04.2-1.43.59L10.3 9.45l-7.72 7.72c-.78.78-.78 2.05 0 2.83L4 21.41c.39.39.9.59 1.41.59.51 0 1.02-.2 1.41-.59l7.78-7.78 2.81-2.81c.8-.78.8-2.07 0-2.86zM5.41 20L4 18.59l7.72-7.72 1.47 1.35L5.41 20z\"/>\n",
              "  </svg>\n",
              "      </button>\n",
              "      \n",
              "  <style>\n",
              "    .colab-df-container {\n",
              "      display:flex;\n",
              "      flex-wrap:wrap;\n",
              "      gap: 12px;\n",
              "    }\n",
              "\n",
              "    .colab-df-convert {\n",
              "      background-color: #E8F0FE;\n",
              "      border: none;\n",
              "      border-radius: 50%;\n",
              "      cursor: pointer;\n",
              "      display: none;\n",
              "      fill: #1967D2;\n",
              "      height: 32px;\n",
              "      padding: 0 0 0 0;\n",
              "      width: 32px;\n",
              "    }\n",
              "\n",
              "    .colab-df-convert:hover {\n",
              "      background-color: #E2EBFA;\n",
              "      box-shadow: 0px 1px 2px rgba(60, 64, 67, 0.3), 0px 1px 3px 1px rgba(60, 64, 67, 0.15);\n",
              "      fill: #174EA6;\n",
              "    }\n",
              "\n",
              "    [theme=dark] .colab-df-convert {\n",
              "      background-color: #3B4455;\n",
              "      fill: #D2E3FC;\n",
              "    }\n",
              "\n",
              "    [theme=dark] .colab-df-convert:hover {\n",
              "      background-color: #434B5C;\n",
              "      box-shadow: 0px 1px 3px 1px rgba(0, 0, 0, 0.15);\n",
              "      filter: drop-shadow(0px 1px 2px rgba(0, 0, 0, 0.3));\n",
              "      fill: #FFFFFF;\n",
              "    }\n",
              "  </style>\n",
              "\n",
              "      <script>\n",
              "        const buttonEl =\n",
              "          document.querySelector('#df-e50b8a8e-3e3f-40b2-9022-5fe9d9372059 button.colab-df-convert');\n",
              "        buttonEl.style.display =\n",
              "          google.colab.kernel.accessAllowed ? 'block' : 'none';\n",
              "\n",
              "        async function convertToInteractive(key) {\n",
              "          const element = document.querySelector('#df-e50b8a8e-3e3f-40b2-9022-5fe9d9372059');\n",
              "          const dataTable =\n",
              "            await google.colab.kernel.invokeFunction('convertToInteractive',\n",
              "                                                     [key], {});\n",
              "          if (!dataTable) return;\n",
              "\n",
              "          const docLinkHtml = 'Like what you see? Visit the ' +\n",
              "            '<a target=\"_blank\" href=https://colab.research.google.com/notebooks/data_table.ipynb>data table notebook</a>'\n",
              "            + ' to learn more about interactive tables.';\n",
              "          element.innerHTML = '';\n",
              "          dataTable['output_type'] = 'display_data';\n",
              "          await google.colab.output.renderOutput(dataTable, element);\n",
              "          const docLink = document.createElement('div');\n",
              "          docLink.innerHTML = docLinkHtml;\n",
              "          element.appendChild(docLink);\n",
              "        }\n",
              "      </script>\n",
              "    </div>\n",
              "  </div>\n",
              "  "
            ]
          },
          "metadata": {},
          "execution_count": 16
        }
      ]
    },
    {
      "cell_type": "code",
      "source": [
        "df_tran_1.info()"
      ],
      "metadata": {
        "id": "tqbWdPRFiYxW",
        "colab": {
          "base_uri": "https://localhost:8080/"
        },
        "outputId": "4e0852bb-4942-4f99-c15c-87bc8c55d3c5"
      },
      "execution_count": 17,
      "outputs": [
        {
          "output_type": "stream",
          "name": "stdout",
          "text": [
            "<class 'pandas.core.frame.DataFrame'>\n",
            "Int64Index: 41170 entries, 0 to 41187\n",
            "Data columns (total 21 columns):\n",
            " #   Column          Non-Null Count  Dtype  \n",
            "---  ------          --------------  -----  \n",
            " 0   age             41170 non-null  int64  \n",
            " 1   marital         41170 non-null  object \n",
            " 2   default         41170 non-null  object \n",
            " 3   housing         41170 non-null  object \n",
            " 4   loan            41170 non-null  object \n",
            " 5   contact         41170 non-null  object \n",
            " 6   day_of_week     41170 non-null  object \n",
            " 7   duration        41170 non-null  int64  \n",
            " 8   campaign        41170 non-null  int64  \n",
            " 9   pdays           41170 non-null  int64  \n",
            " 10  previous        41170 non-null  int64  \n",
            " 11  poutcome        41170 non-null  object \n",
            " 12  emp.var.rate    41170 non-null  float64\n",
            " 13  cons.price.idx  41170 non-null  float64\n",
            " 14  cons.conf.idx   41170 non-null  float64\n",
            " 15  euribor3m       41170 non-null  float64\n",
            " 16  nr.employed     41170 non-null  float64\n",
            " 17  y               41170 non-null  object \n",
            " 18  edu_new         41170 non-null  object \n",
            " 19  job_new         41170 non-null  object \n",
            " 20  season          41170 non-null  object \n",
            "dtypes: float64(5), int64(5), object(11)\n",
            "memory usage: 6.9+ MB\n"
          ]
        }
      ]
    },
    {
      "cell_type": "code",
      "source": [
        "df_tran_1.dtypes.index"
      ],
      "metadata": {
        "id": "X28boaASj5x6",
        "colab": {
          "base_uri": "https://localhost:8080/"
        },
        "outputId": "0c7eaa3f-507b-415a-95ad-13a16294058d"
      },
      "execution_count": 18,
      "outputs": [
        {
          "output_type": "execute_result",
          "data": {
            "text/plain": [
              "Index(['age', 'marital', 'default', 'housing', 'loan', 'contact',\n",
              "       'day_of_week', 'duration', 'campaign', 'pdays', 'previous', 'poutcome',\n",
              "       'emp.var.rate', 'cons.price.idx', 'cons.conf.idx', 'euribor3m',\n",
              "       'nr.employed', 'y', 'edu_new', 'job_new', 'season'],\n",
              "      dtype='object')"
            ]
          },
          "metadata": {},
          "execution_count": 18
        }
      ]
    },
    {
      "cell_type": "code",
      "source": [
        "objList = []\n",
        "\n",
        "for i in df_tran_1.dtypes.index :\n",
        "    if i =='y':continue\n",
        "    #print(\" here is i .....\", i , \" ..... and here is the type\", dt[i] )\n",
        "    if df_tran_1.dtypes[i] in ([\"object\"]) : objList.append( i )\n",
        "\n",
        "for i in objList :\n",
        "    thePrefix = \"z_\" + i\n",
        "    y = pd.get_dummies( df_tran_1[i], prefix=thePrefix, drop_first=True )   \n",
        "    df_tran_1 = pd.concat( [df_tran_1, y], axis=1 )\n",
        "    df_tran_1 = df_tran_1.drop( i, axis=1 )"
      ],
      "metadata": {
        "id": "qSegK1vnjm93"
      },
      "execution_count": 19,
      "outputs": []
    },
    {
      "cell_type": "code",
      "source": [
        "objList"
      ],
      "metadata": {
        "id": "LrKlZ0eMn1jc",
        "colab": {
          "base_uri": "https://localhost:8080/"
        },
        "outputId": "bce10c37-4e34-464c-cbcc-aee69c71f8ed"
      },
      "execution_count": 20,
      "outputs": [
        {
          "output_type": "execute_result",
          "data": {
            "text/plain": [
              "['marital',\n",
              " 'default',\n",
              " 'housing',\n",
              " 'loan',\n",
              " 'contact',\n",
              " 'day_of_week',\n",
              " 'poutcome',\n",
              " 'edu_new',\n",
              " 'job_new',\n",
              " 'season']"
            ]
          },
          "metadata": {},
          "execution_count": 20
        }
      ]
    },
    {
      "cell_type": "code",
      "source": [
        "df_tran_1.columns"
      ],
      "metadata": {
        "id": "oFw7P7iEkbUb",
        "colab": {
          "base_uri": "https://localhost:8080/"
        },
        "outputId": "cd68464e-9139-4535-f7cf-675eb7a0f5cc"
      },
      "execution_count": 21,
      "outputs": [
        {
          "output_type": "execute_result",
          "data": {
            "text/plain": [
              "Index(['age', 'duration', 'campaign', 'pdays', 'previous', 'emp.var.rate',\n",
              "       'cons.price.idx', 'cons.conf.idx', 'euribor3m', 'nr.employed', 'y',\n",
              "       'z_marital_married', 'z_marital_single', 'z_marital_unknown',\n",
              "       'z_default_unknown', 'z_default_yes', 'z_housing_unknown',\n",
              "       'z_housing_yes', 'z_loan_unknown', 'z_loan_yes', 'z_contact_telephone',\n",
              "       'z_day_of_week_mon', 'z_day_of_week_thu', 'z_day_of_week_tue',\n",
              "       'z_day_of_week_wed', 'z_poutcome_nonexistent', 'z_poutcome_success',\n",
              "       'z_edu_new_post_high', 'z_edu_new_pre_high', 'z_edu_new_unknown',\n",
              "       'z_job_new_not_working', 'z_job_new_unknown', 'z_job_new_white_collar',\n",
              "       'z_season_spring', 'z_season_summer', 'z_season_winter'],\n",
              "      dtype='object')"
            ]
          },
          "metadata": {},
          "execution_count": 21
        }
      ]
    },
    {
      "cell_type": "code",
      "source": [
        "df_tran_1['y'] = df_tran_1.y.map(dict(yes=1, no=0))"
      ],
      "metadata": {
        "id": "2K5aVmaVnEVZ"
      },
      "execution_count": 22,
      "outputs": []
    },
    {
      "cell_type": "code",
      "source": [
        "\n",
        "\n",
        "\n",
        "X = df_tran_1.loc[:, df_tran_1.columns != 'y']\n",
        "y = df_tran_1.loc[:, df_tran_1.columns == 'y']\n",
        "\n",
        "\n",
        "os = SMOTE(random_state=0)\n",
        "X_train, X_test, y_train, y_test = train_test_split(X, y, test_size=0.3, random_state=0)\n",
        "columns = X_train.columns\n",
        "os_data_X,os_data_y=os.fit_resample(X_train, y_train)\n",
        "os_data_X = pd.DataFrame(data=os_data_X,columns=columns )\n",
        "os_data_y= pd.DataFrame(data=os_data_y,columns=['y'])\n",
        "# we can Check the numbers of our data\n",
        "print(\"length of oversampled data is \",len(os_data_X))\n",
        "print(\"Number of no subscription in oversampled data\",len(os_data_y[os_data_y['y']==0]))\n",
        "print(\"Number of subscription\",len(os_data_y[os_data_y['y']==1]))\n",
        "print(\"Proportion of no subscription data in oversampled data is \",len(os_data_y[os_data_y['y']==0])/len(os_data_X))\n",
        "print(\"Proportion of subscription data in oversampled data is \",len(os_data_y[os_data_y['y']==1])/len(os_data_X))"
      ],
      "metadata": {
        "id": "cQYKfXewcKPJ",
        "colab": {
          "base_uri": "https://localhost:8080/"
        },
        "outputId": "41b5e989-593b-4a71-c66e-7a18c31ae706"
      },
      "execution_count": 23,
      "outputs": [
        {
          "output_type": "stream",
          "name": "stdout",
          "text": [
            "length of oversampled data is  51102\n",
            "Number of no subscription in oversampled data 25551\n",
            "Number of subscription 25551\n",
            "Proportion of no subscription data in oversampled data is  0.5\n",
            "Proportion of subscription data in oversampled data is  0.5\n"
          ]
        }
      ]
    },
    {
      "cell_type": "code",
      "source": [
        "data_final_vars=df_tran_1.columns.values.tolist()\n",
        "y=['y']\n",
        "X=[i for i in data_final_vars if i not in y]\n",
        "\n",
        "\n",
        "\n",
        "logreg = LogisticRegression(solver= 'liblinear')\n",
        "rfe = RFE(logreg,n_features_to_select=20)\n",
        "rfe = rfe.fit(os_data_X.values, os_data_y.values.ravel())\n",
        "\n",
        "features = list(os_data_X.columns[rfe.support_])\n",
        "\n",
        "print('total features:', os_data_X.shape[1])\n",
        "\n",
        "print(rfe.support_)\n",
        "print(features)\n",
        "print(rfe.ranking_)"
      ],
      "metadata": {
        "id": "RYHQmjthcKSH",
        "colab": {
          "base_uri": "https://localhost:8080/"
        },
        "outputId": "7bc8a266-610d-452c-aa96-0172427a027c"
      },
      "execution_count": 24,
      "outputs": [
        {
          "output_type": "stream",
          "name": "stdout",
          "text": [
            "total features: 35\n",
            "[False False False False False False False False False False  True  True\n",
            "  True  True False  True  True  True  True  True  True  True  True  True\n",
            " False  True  True  True  True False  True  True  True False False]\n",
            "['z_marital_married', 'z_marital_single', 'z_marital_unknown', 'z_default_unknown', 'z_housing_unknown', 'z_housing_yes', 'z_loan_unknown', 'z_loan_yes', 'z_contact_telephone', 'z_day_of_week_mon', 'z_day_of_week_thu', 'z_day_of_week_tue', 'z_day_of_week_wed', 'z_poutcome_success', 'z_edu_new_post_high', 'z_edu_new_pre_high', 'z_edu_new_unknown', 'z_job_new_unknown', 'z_job_new_white_collar', 'z_season_spring']\n",
            "[16 13  7 14  4  6  8 10  3 12  1  1  1  1 15  1  1  1  1  1  1  1  1  1\n",
            "  5  1  1  1  1  2  1  1  1  9 11]\n"
          ]
        }
      ]
    },
    {
      "cell_type": "markdown",
      "source": [
        "##Fit Model"
      ],
      "metadata": {
        "id": "KNCoRkDRlirv"
      }
    },
    {
      "cell_type": "markdown",
      "source": [
        "##Model 1\n",
        "\n",
        "Logistic Regression with top 20 selected by Recursive Feature Elimination method"
      ],
      "metadata": {
        "id": "wqTrey9A_kcY"
      }
    },
    {
      "cell_type": "code",
      "source": [
        "features"
      ],
      "metadata": {
        "colab": {
          "base_uri": "https://localhost:8080/"
        },
        "id": "rCqfPrSavmx0",
        "outputId": "7cbb3306-ae34-4464-9851-597b5fbb32cf"
      },
      "execution_count": 25,
      "outputs": [
        {
          "output_type": "execute_result",
          "data": {
            "text/plain": [
              "['z_marital_married',\n",
              " 'z_marital_single',\n",
              " 'z_marital_unknown',\n",
              " 'z_default_unknown',\n",
              " 'z_housing_unknown',\n",
              " 'z_housing_yes',\n",
              " 'z_loan_unknown',\n",
              " 'z_loan_yes',\n",
              " 'z_contact_telephone',\n",
              " 'z_day_of_week_mon',\n",
              " 'z_day_of_week_thu',\n",
              " 'z_day_of_week_tue',\n",
              " 'z_day_of_week_wed',\n",
              " 'z_poutcome_success',\n",
              " 'z_edu_new_post_high',\n",
              " 'z_edu_new_pre_high',\n",
              " 'z_edu_new_unknown',\n",
              " 'z_job_new_unknown',\n",
              " 'z_job_new_white_collar',\n",
              " 'z_season_spring']"
            ]
          },
          "metadata": {},
          "execution_count": 25
        }
      ]
    },
    {
      "cell_type": "code",
      "source": [
        "X = os_data_X[features]\n",
        "y = os_data_y['y']"
      ],
      "metadata": {
        "id": "Ly2X9x-wdKDL"
      },
      "execution_count": 26,
      "outputs": []
    },
    {
      "cell_type": "code",
      "source": [
        "logit_model=sm.Logit(y,X)\n",
        "result=logit_model.fit()\n",
        "print(result.summary2())"
      ],
      "metadata": {
        "id": "QMT-KMY8tOcs",
        "colab": {
          "base_uri": "https://localhost:8080/"
        },
        "outputId": "ab54a5dc-a4cf-41f3-b4ca-c5ca4187bba9"
      },
      "execution_count": 27,
      "outputs": [
        {
          "output_type": "stream",
          "name": "stdout",
          "text": [
            "Optimization terminated successfully.\n",
            "         Current function value: 0.500747\n",
            "         Iterations 7\n"
          ]
        },
        {
          "output_type": "stream",
          "name": "stderr",
          "text": [
            "/usr/local/lib/python3.7/dist-packages/statsmodels/base/model.py:1286: RuntimeWarning: invalid value encountered in sqrt\n",
            "  bse_ = np.sqrt(np.diag(self.cov_params()))\n",
            "/usr/local/lib/python3.7/dist-packages/statsmodels/base/model.py:1294: RuntimeWarning: divide by zero encountered in true_divide\n",
            "  return self.params / self.bse\n"
          ]
        },
        {
          "output_type": "stream",
          "name": "stdout",
          "text": [
            "                            Results: Logit\n",
            "=======================================================================\n",
            "Model:                Logit              Pseudo R-squared:   0.278     \n",
            "Dependent Variable:   y                  AIC:                51216.3236\n",
            "Date:                 2022-07-30 22:54   BIC:                51384.3136\n",
            "No. Observations:     51102              Log-Likelihood:     -25589.   \n",
            "Df Model:             18                 LL-Null:            -35421.   \n",
            "Df Residuals:         51083              LLR p-value:        0.0000    \n",
            "Converged:            1.0000             Scale:              1.0000    \n",
            "No. Iterations:       7.0000                                           \n",
            "-----------------------------------------------------------------------\n",
            "                        Coef.  Std.Err.    z     P>|z|   [0.025  0.975]\n",
            "-----------------------------------------------------------------------\n",
            "z_marital_married       0.6134      nan      nan    nan     nan     nan\n",
            "z_marital_single        0.4420   0.5054   0.8745 0.3819 -0.5486  1.4325\n",
            "z_marital_unknown      -0.7255   0.5646  -1.2850 0.1988 -1.8321  0.3811\n",
            "z_default_unknown      -1.1264   0.2915  -3.8641 0.0001 -1.6977 -0.5550\n",
            "z_housing_unknown      -0.6926      nan      nan    nan     nan     nan\n",
            "z_housing_yes           0.1113   1.1315   0.0984 0.9216 -2.1064  2.3291\n",
            "z_loan_unknown         -0.6926      nan      nan    nan     nan     nan\n",
            "z_loan_yes             -0.8881   0.0442 -20.0877 0.0000 -0.9747 -0.8014\n",
            "z_contact_telephone    -1.1603   0.0308 -37.6767 0.0000 -1.2207 -1.0999\n",
            "z_day_of_week_mon      -1.6485   0.0390 -42.3124 0.0000 -1.7249 -1.5721\n",
            "z_day_of_week_thu      -1.4148   0.0361 -39.2437 0.0000 -1.4855 -1.3442\n",
            "z_day_of_week_tue      -1.4142   0.0361 -39.1861 0.0000 -1.4850 -1.3435\n",
            "z_day_of_week_wed      -1.3663   0.0369 -37.0027 0.0000 -1.4387 -1.2940\n",
            "z_poutcome_success      3.0247   0.0514  58.7919 0.0000  2.9239  3.1255\n",
            "z_edu_new_post_high     0.0107   0.0239   0.4468 0.6550 -0.0362  0.0576\n",
            "z_edu_new_pre_high     -0.6051   0.0331 -18.2672 0.0000 -0.6701 -0.5402\n",
            "z_edu_new_unknown      -0.7290   0.0872  -8.3594 0.0000 -0.8999 -0.5581\n",
            "z_job_new_unknown      -0.8856  -0.0000      inf 0.0000 -0.8856 -0.8856\n",
            "z_job_new_white_collar -0.1354   0.0248  -5.4620 0.0000 -0.1840 -0.0868\n",
            "z_season_spring         0.7393   0.0225  32.8398 0.0000  0.6952  0.7835\n",
            "=======================================================================\n",
            "\n"
          ]
        }
      ]
    },
    {
      "cell_type": "code",
      "source": [
        "X_train, X_test, y_train, y_test = train_test_split(X, y, test_size=0.3, random_state=0)\n",
        "logreg = LogisticRegression()\n",
        "logreg.fit(X_train, y_train)"
      ],
      "metadata": {
        "id": "5QhDbyEztOf1",
        "colab": {
          "base_uri": "https://localhost:8080/"
        },
        "outputId": "d3b54fce-2e1a-4ec9-c270-b1524c35c3fe"
      },
      "execution_count": 28,
      "outputs": [
        {
          "output_type": "execute_result",
          "data": {
            "text/plain": [
              "LogisticRegression()"
            ]
          },
          "metadata": {},
          "execution_count": 28
        }
      ]
    },
    {
      "cell_type": "code",
      "source": [
        "y_pred = logreg.predict(X_test)\n",
        "print('Accuracy of logistic regression classifier on test set: {:.2f}'.format(logreg.score(X_test, y_test)))"
      ],
      "metadata": {
        "id": "rteop76r-UEB",
        "colab": {
          "base_uri": "https://localhost:8080/"
        },
        "outputId": "14398cf0-6285-49d4-f63b-265d66a7d911"
      },
      "execution_count": 29,
      "outputs": [
        {
          "output_type": "stream",
          "name": "stdout",
          "text": [
            "Accuracy of logistic regression classifier on test set: 0.85\n"
          ]
        }
      ]
    },
    {
      "cell_type": "code",
      "source": [
        "cm_1 = confusion_matrix(y_test, y_pred)\n",
        "print(cm_1)"
      ],
      "metadata": {
        "id": "fwJqMz0v-UJX",
        "colab": {
          "base_uri": "https://localhost:8080/"
        },
        "outputId": "bc4fdee6-99f7-4ffa-fead-9c0fa9e6b78c"
      },
      "execution_count": 30,
      "outputs": [
        {
          "output_type": "stream",
          "name": "stdout",
          "text": [
            "[[6579 1053]\n",
            " [1232 6467]]\n"
          ]
        }
      ]
    },
    {
      "cell_type": "code",
      "source": [
        "plot_confusion_matrix(logreg, X_test, y_test)  \n",
        "plt.show()"
      ],
      "metadata": {
        "id": "JPucOwI8v9C4",
        "outputId": "2cac4538-28da-4627-abac-cdb0db738db9",
        "colab": {
          "base_uri": "https://localhost:8080/",
          "height": 334
        }
      },
      "execution_count": 31,
      "outputs": [
        {
          "output_type": "stream",
          "name": "stderr",
          "text": [
            "/usr/local/lib/python3.7/dist-packages/sklearn/utils/deprecation.py:87: FutureWarning: Function plot_confusion_matrix is deprecated; Function `plot_confusion_matrix` is deprecated in 1.0 and will be removed in 1.2. Use one of the class methods: ConfusionMatrixDisplay.from_predictions or ConfusionMatrixDisplay.from_estimator.\n",
            "  warnings.warn(msg, category=FutureWarning)\n"
          ]
        },
        {
          "output_type": "display_data",
          "data": {
            "text/plain": [
              "<Figure size 432x288 with 2 Axes>"
            ],
            "image/png": "[encoded data removed]"
          },
          "metadata": {
            "needs_background": "light"
          }
        }
      ]
    },
    {
      "cell_type": "code",
      "source": [
        "print(classification_report(y_test, y_pred))"
      ],
      "metadata": {
        "id": "vTEKHq_X-UMr",
        "colab": {
          "base_uri": "https://localhost:8080/"
        },
        "outputId": "25216f1c-c8d5-4fdc-ed35-56be24507318"
      },
      "execution_count": 32,
      "outputs": [
        {
          "output_type": "stream",
          "name": "stdout",
          "text": [
            "              precision    recall  f1-score   support\n",
            "\n",
            "           0       0.84      0.86      0.85      7632\n",
            "           1       0.86      0.84      0.85      7699\n",
            "\n",
            "    accuracy                           0.85     15331\n",
            "   macro avg       0.85      0.85      0.85     15331\n",
            "weighted avg       0.85      0.85      0.85     15331\n",
            "\n"
          ]
        }
      ]
    },
    {
      "cell_type": "markdown",
      "source": [
        "###Model 2"
      ],
      "metadata": {
        "id": "YsuIlDUf_hYO"
      }
    },
    {
      "cell_type": "code",
      "source": [
        "features_2 = features\n",
        "\n",
        "features_2.remove('z_housing_unknown')\n",
        "\n",
        "features_2.remove('z_loan_unknown')\n"
      ],
      "metadata": {
        "id": "Ds67pS38-lHa"
      },
      "execution_count": 33,
      "outputs": []
    },
    {
      "cell_type": "code",
      "source": [
        "X = os_data_X[features_2]\n",
        "y = os_data_y['y']\n",
        "\n",
        "logit_model=sm.Logit(y,X)\n",
        "result=logit_model.fit()\n",
        "print(result.summary2())\n"
      ],
      "metadata": {
        "id": "V6jMs3O--r5a",
        "colab": {
          "base_uri": "https://localhost:8080/"
        },
        "outputId": "ee38bb1e-6ba3-49f8-a08d-35412bf4711b"
      },
      "execution_count": 34,
      "outputs": [
        {
          "output_type": "stream",
          "name": "stdout",
          "text": [
            "Optimization terminated successfully.\n",
            "         Current function value: 0.502041\n",
            "         Iterations 7\n",
            "                            Results: Logit\n",
            "=======================================================================\n",
            "Model:                Logit              Pseudo R-squared:   0.276     \n",
            "Dependent Variable:   y                  AIC:                51346.6371\n",
            "Date:                 2022-07-30 22:54   BIC:                51505.7855\n",
            "No. Observations:     51102              Log-Likelihood:     -25655.   \n",
            "Df Model:             17                 LL-Null:            -35421.   \n",
            "Df Residuals:         51084              LLR p-value:        0.0000    \n",
            "Converged:            1.0000             Scale:              1.0000    \n",
            "No. Iterations:       7.0000                                           \n",
            "-----------------------------------------------------------------------\n",
            "                        Coef.  Std.Err.    z     P>|z|   [0.025  0.975]\n",
            "-----------------------------------------------------------------------\n",
            "z_marital_married       0.6015   0.0238  25.2536 0.0000  0.5549  0.6482\n",
            "z_marital_single        0.4298   0.0284  15.1588 0.0000  0.3742  0.4854\n",
            "z_marital_unknown      -0.7151   0.4499  -1.5896 0.1119 -1.5968  0.1666\n",
            "z_default_unknown      -1.1316   0.0447 -25.3424 0.0000 -1.2191 -1.0441\n",
            "z_housing_yes           0.1363   0.0219   6.2172 0.0000  0.0933  0.1792\n",
            "z_loan_yes             -0.8738   0.0441 -19.8279 0.0000 -0.9602 -0.7875\n",
            "z_contact_telephone    -1.1661   0.0305 -38.2714 0.0000 -1.2259 -1.1064\n",
            "z_day_of_week_mon      -1.6586   0.0381 -43.5341 0.0000 -1.7333 -1.5839\n",
            "z_day_of_week_thu      -1.4255   0.0352 -40.4874 0.0000 -1.4945 -1.3565\n",
            "z_day_of_week_tue      -1.4271   0.0369 -38.6430 0.0000 -1.4995 -1.3547\n",
            "z_day_of_week_wed      -1.3766   0.0362 -38.0541 0.0000 -1.4475 -1.3057\n",
            "z_poutcome_success      3.0205   0.0587  51.4456 0.0000  2.9054  3.1355\n",
            "z_edu_new_post_high     0.0015   0.0249   0.0599 0.9522 -0.0473  0.0502\n",
            "z_edu_new_pre_high     -0.6144   0.0330 -18.5975 0.0000 -0.6791 -0.5496\n",
            "z_edu_new_unknown      -0.7304   0.0825  -8.8494 0.0000 -0.8922 -0.5687\n",
            "z_job_new_unknown      -0.8893   0.2614  -3.4017 0.0007 -1.4017 -0.3769\n",
            "z_job_new_white_collar -0.1406   0.0248  -5.6795 0.0000 -0.1892 -0.0921\n",
            "z_season_spring         0.7342   0.0225  32.6736 0.0000  0.6902  0.7783\n",
            "=======================================================================\n",
            "\n"
          ]
        }
      ]
    },
    {
      "cell_type": "code",
      "source": [
        "features.remove('z_marital_unknown')\n",
        "features.remove('z_edu_new_post_high')"
      ],
      "metadata": {
        "id": "K_QJaFtN-r8a"
      },
      "execution_count": 35,
      "outputs": []
    },
    {
      "cell_type": "code",
      "source": [
        "X = os_data_X[features]\n",
        "y = os_data_y['y']\n",
        "\n",
        "logit_model=sm.Logit(y,X)\n",
        "result=logit_model.fit()\n",
        "print(result.summary2())\n"
      ],
      "metadata": {
        "id": "SvbvZmZ0-sAM",
        "colab": {
          "base_uri": "https://localhost:8080/"
        },
        "outputId": "5fd97da5-f024-4730-ffa9-c953181448ff"
      },
      "execution_count": 36,
      "outputs": [
        {
          "output_type": "stream",
          "name": "stdout",
          "text": [
            "Optimization terminated successfully.\n",
            "         Current function value: 0.502069\n",
            "         Iterations 7\n",
            "                            Results: Logit\n",
            "=======================================================================\n",
            "Model:                Logit              Pseudo R-squared:   0.276     \n",
            "Dependent Variable:   y                  AIC:                51345.5045\n",
            "Date:                 2022-07-30 22:54   BIC:                51486.9698\n",
            "No. Observations:     51102              Log-Likelihood:     -25657.   \n",
            "Df Model:             15                 LL-Null:            -35421.   \n",
            "Df Residuals:         51086              LLR p-value:        0.0000    \n",
            "Converged:            1.0000             Scale:              1.0000    \n",
            "No. Iterations:       7.0000                                           \n",
            "-----------------------------------------------------------------------\n",
            "                        Coef.  Std.Err.    z     P>|z|   [0.025  0.975]\n",
            "-----------------------------------------------------------------------\n",
            "z_marital_married       0.6032   0.0233  25.9133 0.0000  0.5576  0.6488\n",
            "z_marital_single        0.4315   0.0277  15.5648 0.0000  0.3772  0.4859\n",
            "z_default_unknown      -1.1317   0.0447 -25.3453 0.0000 -1.2192 -1.0442\n",
            "z_housing_yes           0.1361   0.0218   6.2488 0.0000  0.0934  0.1788\n",
            "z_loan_yes             -0.8739   0.0440 -19.8447 0.0000 -0.9603 -0.7876\n",
            "z_contact_telephone    -1.1664   0.0305 -38.2894 0.0000 -1.2261 -1.1067\n",
            "z_day_of_week_mon      -1.6598   0.0378 -43.8580 0.0000 -1.7340 -1.5856\n",
            "z_day_of_week_thu      -1.4264   0.0349 -40.8172 0.0000 -1.4949 -1.3579\n",
            "z_day_of_week_tue      -1.4278   0.0367 -38.9074 0.0000 -1.4997 -1.3559\n",
            "z_day_of_week_wed      -1.3775   0.0360 -38.2953 0.0000 -1.4480 -1.3070\n",
            "z_poutcome_success      3.0201   0.0587  51.4527 0.0000  2.9051  3.1351\n",
            "z_edu_new_pre_high     -0.6153   0.0316 -19.4714 0.0000 -0.6772 -0.5534\n",
            "z_edu_new_unknown      -0.7311   0.0818  -8.9388 0.0000 -0.8914 -0.5708\n",
            "z_job_new_unknown      -0.8989   0.2611  -3.4429 0.0006 -1.4107 -0.3872\n",
            "z_job_new_white_collar -0.1405   0.0236  -5.9492 0.0000 -0.1868 -0.0942\n",
            "z_season_spring         0.7336   0.0224  32.6827 0.0000  0.6896  0.7776\n",
            "=======================================================================\n",
            "\n"
          ]
        }
      ]
    },
    {
      "cell_type": "code",
      "source": [
        "X_train_2, X_test_2, y_train_2, y_test_2 = train_test_split(X, y, test_size=0.3, random_state=21)\n",
        "logreg_2 = LogisticRegression()\n",
        "logreg_2.fit(X_train_2, y_train_2)\n"
      ],
      "metadata": {
        "id": "aXCgo8X0-sDb",
        "colab": {
          "base_uri": "https://localhost:8080/"
        },
        "outputId": "cd019bb8-2a09-419c-edb6-749e191621f8"
      },
      "execution_count": 37,
      "outputs": [
        {
          "output_type": "execute_result",
          "data": {
            "text/plain": [
              "LogisticRegression()"
            ]
          },
          "metadata": {},
          "execution_count": 37
        }
      ]
    },
    {
      "cell_type": "code",
      "source": [
        "y_pred_2 = logreg_2.predict(X_test_2)\n",
        "print('Accuracy of logistic regression classifier on test set: {:.2f}'.format(logreg_2.score(X_test_2, y_test_2)))"
      ],
      "metadata": {
        "id": "FWmooJxPAnTb",
        "colab": {
          "base_uri": "https://localhost:8080/"
        },
        "outputId": "672df2eb-ec43-4d66-c941-711d88657606"
      },
      "execution_count": 38,
      "outputs": [
        {
          "output_type": "stream",
          "name": "stdout",
          "text": [
            "Accuracy of logistic regression classifier on test set: 0.84\n"
          ]
        }
      ]
    },
    {
      "cell_type": "code",
      "source": [
        "cm_2 = confusion_matrix(y_test_2, y_pred_2)\n",
        "print(cm_2)\n",
        "print(classification_report(y_test_2, y_pred_2))"
      ],
      "metadata": {
        "id": "uK0FRPO7AQI8",
        "colab": {
          "base_uri": "https://localhost:8080/"
        },
        "outputId": "504ec980-f50f-43c5-e37c-c6fb071c80ca"
      },
      "execution_count": 39,
      "outputs": [
        {
          "output_type": "stream",
          "name": "stdout",
          "text": [
            "[[6577 1132]\n",
            " [1292 6330]]\n",
            "              precision    recall  f1-score   support\n",
            "\n",
            "           0       0.84      0.85      0.84      7709\n",
            "           1       0.85      0.83      0.84      7622\n",
            "\n",
            "    accuracy                           0.84     15331\n",
            "   macro avg       0.84      0.84      0.84     15331\n",
            "weighted avg       0.84      0.84      0.84     15331\n",
            "\n"
          ]
        }
      ]
    }
  ]
}