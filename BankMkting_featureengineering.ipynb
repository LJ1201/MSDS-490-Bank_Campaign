{
  "nbformat": 4,
  "nbformat_minor": 0,
  "metadata": {
    "colab": {
      "name": "BankMkting_featureengineering.ipynb",
      "provenance": [],
      "collapsed_sections": [],
      "include_colab_link": true
    },
    "kernelspec": {
      "name": "python3",
      "display_name": "Python 3"
    },
    "language_info": {
      "name": "python"
    }
  },
  "cells": [
    {
      "cell_type": "markdown",
      "metadata": {
        "id": "view-in-github",
        "colab_type": "text"
      },
      "source": [
        "<a href=\"https://colab.research.google.com/github/LJ1201/MSDS-490-Bank_Campaign/blob/main/BankMkting_featureengineering.ipynb\" target=\"_parent\"><img src=\"https://colab.research.google.com/assets/colab-badge.svg\" alt=\"Open In Colab\"/></a>"
      ]
    },
    {
      "cell_type": "markdown",
      "source": [
        "##Import packages"
      ],
      "metadata": {
        "id": "K_BMC9DkZnvw"
      }
    },
    {
      "cell_type": "code",
      "execution_count": 281,
      "metadata": {
        "id": "fRRsWXUecCNl"
      },
      "outputs": [],
      "source": [
        "import pandas as pd\n",
        "from sklearn.feature_selection import RFE\n",
        "from sklearn.linear_model import LogisticRegression\n",
        "from sklearn.model_selection import train_test_split\n",
        "from imblearn.over_sampling import SMOTE\n",
        "from sklearn import metrics\n",
        "from sklearn.metrics import confusion_matrix\n",
        "from sklearn.metrics import classification_report\n",
        "from sklearn.metrics import plot_confusion_matrix\n",
        "import statsmodels.api as sm\n",
        "import matplotlib.pyplot as plt"
      ]
    },
    {
      "cell_type": "markdown",
      "source": [
        "## Import dataset\n",
        "\n",
        "Data Source: http://archive.ics.uci.edu/ml/datasets/Bank+Marketing#\n",
        "\n",
        "[Moro et al., 2014] S. Moro, P. Cortez and P. Rita. A Data-Driven Approach to Predict the Success of Bank Telemarketing. Decision Support Systems, Elsevier, 62:22-31, June 2014\n",
        "\n",
        "Data Set Information:\n",
        "\n",
        "The data is related with direct marketing campaigns of a Portuguese banking institution. The marketing campaigns were based on phone calls. Often, more than one contact to the same client was required, in order to access if the product (bank term deposit) would be ('yes') or not ('no') subscribed.\n",
        "\n",
        "There are four datasets:\n",
        "1) bank-additional-full.csv with all examples (41188) and 20 inputs, ordered by date (from May 2008 to November 2010), very close to the data analyzed in [Moro et al., 2014]\n",
        "2) bank-additional.csv with 10% of the examples (4119), randomly selected from 1), and 20 inputs.\n",
        "3) bank-full.csv with all examples and 17 inputs, ordered by date (older version of this dataset with less inputs).\n",
        "4) bank.csv with 10% of the examples and 17 inputs, randomly selected from 3 (older version of this dataset with less inputs).\n",
        "The smallest datasets are provided to test more computationally demanding machine learning algorithms (e.g., SVM).\n",
        "\n",
        "The classification goal is to predict if the client will subscribe (yes/no) a term deposit (variable y).\n",
        "\n",
        "\n",
        "##Attribute Information:\n",
        "\n",
        "Input variables:\n",
        "\n",
        "#Bank client data:\n",
        "\n",
        "1 - age (numeric)\n",
        "\n",
        "2 - job : type of job (categorical: 'admin.','blue-collar','entrepreneur','housemaid','management','retired','self-employed','services','student','technician','unemployed','unknown')\n",
        "\n",
        "3 - marital : marital status (categorical: 'divorced','married','single','unknown'; note: 'divorced' means divorced or widowed)\n",
        "\n",
        "4 - education (categorical: 'basic.4y','basic.6y','basic.9y','high.school','illiterate','professional.course','university.degree','unknown')\n",
        "\n",
        "5 - default: has credit in default? (categorical: 'no','yes','unknown')\n",
        "\n",
        "6 - housing: has housing loan? (categorical: 'no','yes','unknown')\n",
        "\n",
        "7 - loan: has personal loan? (categorical: 'no','yes','unknown')\n",
        "\n",
        "\n",
        "\n",
        "Related with the last contact of the current campaign:\n",
        "\n",
        "8 - contact: contact communication type (categorical: 'cellular','telephone')\n",
        "\n",
        "9 - month: last contact month of year (categorical: 'jan', 'feb', 'mar', ..., 'nov', 'dec')\n",
        "\n",
        "10 - day_of_week: last contact day of the week (categorical: 'mon','tue','wed','thu','fri')\n",
        "\n",
        "11 - duration: last contact duration, in seconds (numeric). Important note: this attribute highly affects the output target (e.g., if duration=0 then y='no'). Yet, the duration is not known before a call is performed. Also, after the end of the call y is obviously known. Thus, this input should only be included for benchmark purposes and should be discarded if the intention is to have a realistic predictive model.\n",
        "\n",
        "#Other attributes:\n",
        "\n",
        "12 - campaign: number of contacts performed during this campaign and for this client (numeric, includes last contact)\n",
        "\n",
        "13 - pdays: number of days that passed by after the client was last contacted from a previous campaign (numeric; 999 means client was not previously contacted)\n",
        "\n",
        "14 - previous: number of contacts performed before this campaign and for this client (numeric)\n",
        "\n",
        "15 - poutcome: outcome of the previous marketing campaign (categorical: 'failure','nonexistent','success')\n",
        "# social and economic context attributes\n",
        "16 - emp.var.rate: employment variation rate - quarterly indicator (numeric)\n",
        "\n",
        "\n",
        "17 - cons.price.idx: consumer price index - monthly indicator (numeric)\n",
        "\n",
        "\n",
        "18 - cons.conf.idx: consumer confidence index - monthly indicator (numeric)\n",
        "\n",
        "\n",
        "19 - euribor3m: euribor 3 month rate - daily indicator (numeric)\n",
        "\n",
        "\n",
        "20 - nr.employed: number of employees - quarterly indicator (numeric)\n",
        "\n",
        "Output variable (desired target):\n",
        "\n",
        "\n",
        "21 - y - has the client subscribed a term deposit? (binary: 'yes','no')\n",
        "\n",
        "\n",
        "\n",
        "\n",
        "#Relevant Papers:\n",
        "\n",
        "S. Moro, P. Cortez and P. Rita. A Data-Driven Approach to Predict the Success of Bank Telemarketing. Decision Support Systems, Elsevier, 62:22-31, June 2014\n",
        "\n",
        "S. Moro, R. Laureano and P. Cortez. Using Data Mining for Bank Direct Marketing: An Application of the CRISP-DM Methodology. In P. Novais et al. (Eds.), Proceedings of the European Simulation and Modelling Conference - ESM'2011, pp. 117-121, Guimaraes, Portugal, October, 2011. EUROSIS. [bank.zip]\n",
        "\n"
      ],
      "metadata": {
        "id": "9iciYz4iZrPf"
      }
    },
    {
      "cell_type": "code",
      "source": [
        "url = 'https://raw.githubusercontent.com/LJ1201/MSDS-490-Bank_Campaign/main/bank-additional-full.csv'\n",
        "data = pd.read_csv(url, sep=';')"
      ],
      "metadata": {
        "id": "1FiIE4lzcJcW"
      },
      "execution_count": 201,
      "outputs": []
    },
    {
      "cell_type": "markdown",
      "source": [
        "##EDA"
      ],
      "metadata": {
        "id": "6hizuVcCiiF6"
      }
    },
    {
      "cell_type": "code",
      "source": [
        "data.info()"
      ],
      "metadata": {
        "id": "tjoUUH9Qij6r",
        "colab": {
          "base_uri": "https://localhost:8080/"
        },
        "outputId": "fc7f690c-4539-4812-de8d-075628d86987"
      },
      "execution_count": 202,
      "outputs": [
        {
          "output_type": "stream",
          "name": "stdout",
          "text": [
            "<class 'pandas.core.frame.DataFrame'>\n",
            "RangeIndex: 41188 entries, 0 to 41187\n",
            "Data columns (total 21 columns):\n",
            " #   Column          Non-Null Count  Dtype  \n",
            "---  ------          --------------  -----  \n",
            " 0   age             41188 non-null  int64  \n",
            " 1   job             41188 non-null  object \n",
            " 2   marital         41188 non-null  object \n",
            " 3   education       41188 non-null  object \n",
            " 4   default         41188 non-null  object \n",
            " 5   housing         41188 non-null  object \n",
            " 6   loan            41188 non-null  object \n",
            " 7   contact         41188 non-null  object \n",
            " 8   month           41188 non-null  object \n",
            " 9   day_of_week     41188 non-null  object \n",
            " 10  duration        41188 non-null  int64  \n",
            " 11  campaign        41188 non-null  int64  \n",
            " 12  pdays           41188 non-null  int64  \n",
            " 13  previous        41188 non-null  int64  \n",
            " 14  poutcome        41188 non-null  object \n",
            " 15  emp.var.rate    41188 non-null  float64\n",
            " 16  cons.price.idx  41188 non-null  float64\n",
            " 17  cons.conf.idx   41188 non-null  float64\n",
            " 18  euribor3m       41188 non-null  float64\n",
            " 19  nr.employed     41188 non-null  float64\n",
            " 20  y               41188 non-null  object \n",
            "dtypes: float64(5), int64(5), object(11)\n",
            "memory usage: 6.6+ MB\n"
          ]
        }
      ]
    },
    {
      "cell_type": "markdown",
      "source": [
        "##Categroical Variables\n",
        "\n",
        "Categorical variables needs to be transformed into a form the model would take in. One hot encoding is a common way to perform the task"
      ],
      "metadata": {
        "id": "Fs8xFQVPiut4"
      }
    },
    {
      "cell_type": "code",
      "source": [
        "objList = []\n",
        "\n",
        "for i in data.dtypes.index :\n",
        "    if i =='y':continue\n",
        "    #print(\" here is i .....\", i , \" ..... and here is the type\", dt[i] )\n",
        "    if data.dtypes[i] in ([\"object\"]) : objList.append( i )\n"
      ],
      "metadata": {
        "id": "DSCfsaqwij-W"
      },
      "execution_count": 203,
      "outputs": []
    },
    {
      "cell_type": "code",
      "source": [
        "objList"
      ],
      "metadata": {
        "id": "a0AANhboikBx",
        "colab": {
          "base_uri": "https://localhost:8080/"
        },
        "outputId": "82bb5328-3eb8-47b8-f354-5502148dba5e"
      },
      "execution_count": 204,
      "outputs": [
        {
          "output_type": "execute_result",
          "data": {
            "text/plain": [
              "['job',\n",
              " 'marital',\n",
              " 'education',\n",
              " 'default',\n",
              " 'housing',\n",
              " 'loan',\n",
              " 'contact',\n",
              " 'month',\n",
              " 'day_of_week',\n",
              " 'poutcome']"
            ]
          },
          "metadata": {},
          "execution_count": 204
        }
      ]
    },
    {
      "cell_type": "code",
      "source": [
        "data.columns"
      ],
      "metadata": {
        "id": "qowjWiMgjcUb",
        "colab": {
          "base_uri": "https://localhost:8080/"
        },
        "outputId": "d6aea6c2-9cd2-48f2-cbfb-898f3ce2b756"
      },
      "execution_count": 205,
      "outputs": [
        {
          "output_type": "execute_result",
          "data": {
            "text/plain": [
              "Index(['age', 'job', 'marital', 'education', 'default', 'housing', 'loan',\n",
              "       'contact', 'month', 'day_of_week', 'duration', 'campaign', 'pdays',\n",
              "       'previous', 'poutcome', 'emp.var.rate', 'cons.price.idx',\n",
              "       'cons.conf.idx', 'euribor3m', 'nr.employed', 'y'],\n",
              "      dtype='object')"
            ]
          },
          "metadata": {},
          "execution_count": 205
        }
      ]
    },
    {
      "cell_type": "code",
      "source": [
        "data['education'].value_counts()\n",
        "\n",
        "data_1 = data.copy()\n",
        "data_1 = data_1[data_1['education'] != 'illiterate']\n",
        "\n",
        "data_1['edu_new'] = data_1['education'].map({'basic.4y': 'pre_high', \n",
        "                                         'basic.9y': 'pre_high',\n",
        "                                         'basic.6y': 'pre_high',\n",
        "                                         'university.degree' : 'post_high',\n",
        "                                         'professional.course':'post_high',\n",
        "                                         'high.school' : 'high',\n",
        "                                         'unknown' :'unknown' })"
      ],
      "metadata": {
        "id": "bbhSCh5ncQmI"
      },
      "execution_count": 206,
      "outputs": []
    },
    {
      "cell_type": "code",
      "source": [
        "def map_job(row):\n",
        "    if row['job'] in ['admin.', 'management', 'entrepreneur','self-employed']:\n",
        "        cat = 'white_collar'\n",
        "    elif row['job'] in ['housemaid', 'blue-collar', 'technician', 'services']:\n",
        "        cat = 'blue_collar'\n",
        "    elif row['job'] in ['student', 'retired', 'unemployed']:\n",
        "        cat = 'not_working'\n",
        "    else:\n",
        "        cat = 'unknown'\n",
        "    return cat\n",
        "\n",
        "data_1['job_new'] = data_1.apply(map_job, axis=1)\n",
        "data_1['job_new'].value_counts(dropna = False)"
      ],
      "metadata": {
        "id": "eHGAdfSkcS5b",
        "colab": {
          "base_uri": "https://localhost:8080/"
        },
        "outputId": "6d95276c-8198-4b43-f3d5-f5129e7d8b10"
      },
      "execution_count": 207,
      "outputs": [
        {
          "output_type": "execute_result",
          "data": {
            "text/plain": [
              "blue_collar     21017\n",
              "white_collar    16217\n",
              "not_working      3606\n",
              "unknown           330\n",
              "Name: job_new, dtype: int64"
            ]
          },
          "metadata": {},
          "execution_count": 207
        }
      ]
    },
    {
      "cell_type": "code",
      "source": [
        "def map_month(row):\n",
        "    if row['month'] in ['mar', 'apr', 'may']:\n",
        "        cat = 'spring'\n",
        "    elif row['month'] in ['jun', 'jul', 'aug']:\n",
        "        cat = 'summer'\n",
        "    elif row['month'] in ['sep', 'oct', 'nov']:\n",
        "        cat = 'fall'\n",
        "    else:\n",
        "        cat = 'winter'\n",
        "    return cat\n",
        "\n",
        "data_1['season'] = data_1.apply(map_month, axis=1)\n",
        "data_1['season'].value_counts(dropna = False)"
      ],
      "metadata": {
        "id": "94-u-jWxcU_5",
        "colab": {
          "base_uri": "https://localhost:8080/"
        },
        "outputId": "29453d16-ded4-454d-fe15-aa7f81b60998"
      },
      "execution_count": 208,
      "outputs": [
        {
          "output_type": "execute_result",
          "data": {
            "text/plain": [
              "summer    18660\n",
              "spring    16942\n",
              "fall       5386\n",
              "winter      182\n",
              "Name: season, dtype: int64"
            ]
          },
          "metadata": {},
          "execution_count": 208
        }
      ]
    },
    {
      "cell_type": "code",
      "source": [
        "data_1.columns"
      ],
      "metadata": {
        "id": "MTQZAXjLcXVU",
        "colab": {
          "base_uri": "https://localhost:8080/"
        },
        "outputId": "f97079b8-3bb4-4512-a7e6-feb094bb8817"
      },
      "execution_count": 209,
      "outputs": [
        {
          "output_type": "execute_result",
          "data": {
            "text/plain": [
              "Index(['age', 'job', 'marital', 'education', 'default', 'housing', 'loan',\n",
              "       'contact', 'month', 'day_of_week', 'duration', 'campaign', 'pdays',\n",
              "       'previous', 'poutcome', 'emp.var.rate', 'cons.price.idx',\n",
              "       'cons.conf.idx', 'euribor3m', 'nr.employed', 'y', 'edu_new', 'job_new',\n",
              "       'season'],\n",
              "      dtype='object')"
            ]
          },
          "metadata": {},
          "execution_count": 209
        }
      ]
    },
    {
      "cell_type": "markdown",
      "source": [
        "### Data Transformation - V1 (Agreed on Team Discussion)"
      ],
      "metadata": {
        "id": "BeRBJ8ZMc345"
      }
    },
    {
      "cell_type": "code",
      "source": [
        "#This transformed dataframe is based on group discussion on 7/23\n",
        "# - keep all numerical features as they are\n",
        "# - consolidate categorical features (education, job, season) and drop originial ones\n",
        "\n",
        "df_tran_1 = data_1[['age', 'marital', 'default', 'housing', 'loan',\n",
        "       'contact', 'day_of_week', 'campaign', 'pdays',\n",
        "       'previous', 'poutcome', 'emp.var.rate', 'cons.price.idx',\n",
        "       'cons.conf.idx', 'euribor3m', 'nr.employed', 'y', 'edu_new', 'job_new', 'season']]"
      ],
      "metadata": {
        "id": "AdtaLk4ycY_5"
      },
      "execution_count": 242,
      "outputs": []
    },
    {
      "cell_type": "code",
      "source": [
        "df_tran_1.columns"
      ],
      "metadata": {
        "id": "FfhleyPscknX",
        "colab": {
          "base_uri": "https://localhost:8080/"
        },
        "outputId": "bffc1912-7099-43a1-f248-b9c8a3b35bc6"
      },
      "execution_count": 243,
      "outputs": [
        {
          "output_type": "execute_result",
          "data": {
            "text/plain": [
              "Index(['age', 'marital', 'default', 'housing', 'loan', 'contact',\n",
              "       'day_of_week', 'campaign', 'pdays', 'previous', 'poutcome',\n",
              "       'emp.var.rate', 'cons.price.idx', 'cons.conf.idx', 'euribor3m',\n",
              "       'nr.employed', 'y', 'edu_new', 'job_new', 'season'],\n",
              "      dtype='object')"
            ]
          },
          "metadata": {},
          "execution_count": 243
        }
      ]
    },
    {
      "cell_type": "code",
      "source": [
        "df_tran_1.head().T"
      ],
      "metadata": {
        "id": "0M1PuicxcfCq",
        "colab": {
          "base_uri": "https://localhost:8080/",
          "height": 676
        },
        "outputId": "863d6c04-f0b2-4beb-ce9d-8760549cd3ea"
      },
      "execution_count": 244,
      "outputs": [
        {
          "output_type": "execute_result",
          "data": {
            "text/plain": [
              "                          0            1            2             3  \\\n",
              "age                      56           57           37            40   \n",
              "marital             married      married      married       married   \n",
              "default                  no      unknown           no            no   \n",
              "housing                  no           no          yes            no   \n",
              "loan                     no           no           no            no   \n",
              "contact           telephone    telephone    telephone     telephone   \n",
              "day_of_week             mon          mon          mon           mon   \n",
              "campaign                  1            1            1             1   \n",
              "pdays                   999          999          999           999   \n",
              "previous                  0            0            0             0   \n",
              "poutcome        nonexistent  nonexistent  nonexistent   nonexistent   \n",
              "emp.var.rate            1.1          1.1          1.1           1.1   \n",
              "cons.price.idx       93.994       93.994       93.994        93.994   \n",
              "cons.conf.idx         -36.4        -36.4        -36.4         -36.4   \n",
              "euribor3m             4.857        4.857        4.857         4.857   \n",
              "nr.employed          5191.0       5191.0       5191.0        5191.0   \n",
              "y                        no           no           no            no   \n",
              "edu_new            pre_high         high         high      pre_high   \n",
              "job_new         blue_collar  blue_collar  blue_collar  white_collar   \n",
              "season               spring       spring       spring        spring   \n",
              "\n",
              "                          4  \n",
              "age                      56  \n",
              "marital             married  \n",
              "default                  no  \n",
              "housing                  no  \n",
              "loan                    yes  \n",
              "contact           telephone  \n",
              "day_of_week             mon  \n",
              "campaign                  1  \n",
              "pdays                   999  \n",
              "previous                  0  \n",
              "poutcome        nonexistent  \n",
              "emp.var.rate            1.1  \n",
              "cons.price.idx       93.994  \n",
              "cons.conf.idx         -36.4  \n",
              "euribor3m             4.857  \n",
              "nr.employed          5191.0  \n",
              "y                        no  \n",
              "edu_new                high  \n",
              "job_new         blue_collar  \n",
              "season               spring  "
            ],
            "text/html": [
              "\n",
              "  <div id=\"df-a13c67d4-7c41-4742-9caf-9bdec2b6d5ca\">\n",
              "    <div class=\"colab-df-container\">\n",
              "      <div>\n",
              "<style scoped>\n",
              "    .dataframe tbody tr th:only-of-type {\n",
              "        vertical-align: middle;\n",
              "    }\n",
              "\n",
              "    .dataframe tbody tr th {\n",
              "        vertical-align: top;\n",
              "    }\n",
              "\n",
              "    .dataframe thead th {\n",
              "        text-align: right;\n",
              "    }\n",
              "</style>\n",
              "<table border=\"1\" class=\"dataframe\">\n",
              "  <thead>\n",
              "    <tr style=\"text-align: right;\">\n",
              "      <th></th>\n",
              "      <th>0</th>\n",
              "      <th>1</th>\n",
              "      <th>2</th>\n",
              "      <th>3</th>\n",
              "      <th>4</th>\n",
              "    </tr>\n",
              "  </thead>\n",
              "  <tbody>\n",
              "    <tr>\n",
              "      <th>age</th>\n",
              "      <td>56</td>\n",
              "      <td>57</td>\n",
              "      <td>37</td>\n",
              "      <td>40</td>\n",
              "      <td>56</td>\n",
              "    </tr>\n",
              "    <tr>\n",
              "      <th>marital</th>\n",
              "      <td>married</td>\n",
              "      <td>married</td>\n",
              "      <td>married</td>\n",
              "      <td>married</td>\n",
              "      <td>married</td>\n",
              "    </tr>\n",
              "    <tr>\n",
              "      <th>default</th>\n",
              "      <td>no</td>\n",
              "      <td>unknown</td>\n",
              "      <td>no</td>\n",
              "      <td>no</td>\n",
              "      <td>no</td>\n",
              "    </tr>\n",
              "    <tr>\n",
              "      <th>housing</th>\n",
              "      <td>no</td>\n",
              "      <td>no</td>\n",
              "      <td>yes</td>\n",
              "      <td>no</td>\n",
              "      <td>no</td>\n",
              "    </tr>\n",
              "    <tr>\n",
              "      <th>loan</th>\n",
              "      <td>no</td>\n",
              "      <td>no</td>\n",
              "      <td>no</td>\n",
              "      <td>no</td>\n",
              "      <td>yes</td>\n",
              "    </tr>\n",
              "    <tr>\n",
              "      <th>contact</th>\n",
              "      <td>telephone</td>\n",
              "      <td>telephone</td>\n",
              "      <td>telephone</td>\n",
              "      <td>telephone</td>\n",
              "      <td>telephone</td>\n",
              "    </tr>\n",
              "    <tr>\n",
              "      <th>day_of_week</th>\n",
              "      <td>mon</td>\n",
              "      <td>mon</td>\n",
              "      <td>mon</td>\n",
              "      <td>mon</td>\n",
              "      <td>mon</td>\n",
              "    </tr>\n",
              "    <tr>\n",
              "      <th>campaign</th>\n",
              "      <td>1</td>\n",
              "      <td>1</td>\n",
              "      <td>1</td>\n",
              "      <td>1</td>\n",
              "      <td>1</td>\n",
              "    </tr>\n",
              "    <tr>\n",
              "      <th>pdays</th>\n",
              "      <td>999</td>\n",
              "      <td>999</td>\n",
              "      <td>999</td>\n",
              "      <td>999</td>\n",
              "      <td>999</td>\n",
              "    </tr>\n",
              "    <tr>\n",
              "      <th>previous</th>\n",
              "      <td>0</td>\n",
              "      <td>0</td>\n",
              "      <td>0</td>\n",
              "      <td>0</td>\n",
              "      <td>0</td>\n",
              "    </tr>\n",
              "    <tr>\n",
              "      <th>poutcome</th>\n",
              "      <td>nonexistent</td>\n",
              "      <td>nonexistent</td>\n",
              "      <td>nonexistent</td>\n",
              "      <td>nonexistent</td>\n",
              "      <td>nonexistent</td>\n",
              "    </tr>\n",
              "    <tr>\n",
              "      <th>emp.var.rate</th>\n",
              "      <td>1.1</td>\n",
              "      <td>1.1</td>\n",
              "      <td>1.1</td>\n",
              "      <td>1.1</td>\n",
              "      <td>1.1</td>\n",
              "    </tr>\n",
              "    <tr>\n",
              "      <th>cons.price.idx</th>\n",
              "      <td>93.994</td>\n",
              "      <td>93.994</td>\n",
              "      <td>93.994</td>\n",
              "      <td>93.994</td>\n",
              "      <td>93.994</td>\n",
              "    </tr>\n",
              "    <tr>\n",
              "      <th>cons.conf.idx</th>\n",
              "      <td>-36.4</td>\n",
              "      <td>-36.4</td>\n",
              "      <td>-36.4</td>\n",
              "      <td>-36.4</td>\n",
              "      <td>-36.4</td>\n",
              "    </tr>\n",
              "    <tr>\n",
              "      <th>euribor3m</th>\n",
              "      <td>4.857</td>\n",
              "      <td>4.857</td>\n",
              "      <td>4.857</td>\n",
              "      <td>4.857</td>\n",
              "      <td>4.857</td>\n",
              "    </tr>\n",
              "    <tr>\n",
              "      <th>nr.employed</th>\n",
              "      <td>5191.0</td>\n",
              "      <td>5191.0</td>\n",
              "      <td>5191.0</td>\n",
              "      <td>5191.0</td>\n",
              "      <td>5191.0</td>\n",
              "    </tr>\n",
              "    <tr>\n",
              "      <th>y</th>\n",
              "      <td>no</td>\n",
              "      <td>no</td>\n",
              "      <td>no</td>\n",
              "      <td>no</td>\n",
              "      <td>no</td>\n",
              "    </tr>\n",
              "    <tr>\n",
              "      <th>edu_new</th>\n",
              "      <td>pre_high</td>\n",
              "      <td>high</td>\n",
              "      <td>high</td>\n",
              "      <td>pre_high</td>\n",
              "      <td>high</td>\n",
              "    </tr>\n",
              "    <tr>\n",
              "      <th>job_new</th>\n",
              "      <td>blue_collar</td>\n",
              "      <td>blue_collar</td>\n",
              "      <td>blue_collar</td>\n",
              "      <td>white_collar</td>\n",
              "      <td>blue_collar</td>\n",
              "    </tr>\n",
              "    <tr>\n",
              "      <th>season</th>\n",
              "      <td>spring</td>\n",
              "      <td>spring</td>\n",
              "      <td>spring</td>\n",
              "      <td>spring</td>\n",
              "      <td>spring</td>\n",
              "    </tr>\n",
              "  </tbody>\n",
              "</table>\n",
              "</div>\n",
              "      <button class=\"colab-df-convert\" onclick=\"convertToInteractive('df-a13c67d4-7c41-4742-9caf-9bdec2b6d5ca')\"\n",
              "              title=\"Convert this dataframe to an interactive table.\"\n",
              "              style=\"display:none;\">\n",
              "        \n",
              "  <svg xmlns=\"http://www.w3.org/2000/svg\" height=\"24px\"viewBox=\"0 0 24 24\"\n",
              "       width=\"24px\">\n",
              "    <path d=\"M0 0h24v24H0V0z\" fill=\"none\"/>\n",
              "    <path d=\"M18.56 5.44l.94 2.06.94-2.06 2.06-.94-2.06-.94-.94-2.06-.94 2.06-2.06.94zm-11 1L8.5 8.5l.94-2.06 2.06-.94-2.06-.94L8.5 2.5l-.94 2.06-2.06.94zm10 10l.94 2.06.94-2.06 2.06-.94-2.06-.94-.94-2.06-.94 2.06-2.06.94z\"/><path d=\"M17.41 7.96l-1.37-1.37c-.4-.4-.92-.59-1.43-.59-.52 0-1.04.2-1.43.59L10.3 9.45l-7.72 7.72c-.78.78-.78 2.05 0 2.83L4 21.41c.39.39.9.59 1.41.59.51 0 1.02-.2 1.41-.59l7.78-7.78 2.81-2.81c.8-.78.8-2.07 0-2.86zM5.41 20L4 18.59l7.72-7.72 1.47 1.35L5.41 20z\"/>\n",
              "  </svg>\n",
              "      </button>\n",
              "      \n",
              "  <style>\n",
              "    .colab-df-container {\n",
              "      display:flex;\n",
              "      flex-wrap:wrap;\n",
              "      gap: 12px;\n",
              "    }\n",
              "\n",
              "    .colab-df-convert {\n",
              "      background-color: #E8F0FE;\n",
              "      border: none;\n",
              "      border-radius: 50%;\n",
              "      cursor: pointer;\n",
              "      display: none;\n",
              "      fill: #1967D2;\n",
              "      height: 32px;\n",
              "      padding: 0 0 0 0;\n",
              "      width: 32px;\n",
              "    }\n",
              "\n",
              "    .colab-df-convert:hover {\n",
              "      background-color: #E2EBFA;\n",
              "      box-shadow: 0px 1px 2px rgba(60, 64, 67, 0.3), 0px 1px 3px 1px rgba(60, 64, 67, 0.15);\n",
              "      fill: #174EA6;\n",
              "    }\n",
              "\n",
              "    [theme=dark] .colab-df-convert {\n",
              "      background-color: #3B4455;\n",
              "      fill: #D2E3FC;\n",
              "    }\n",
              "\n",
              "    [theme=dark] .colab-df-convert:hover {\n",
              "      background-color: #434B5C;\n",
              "      box-shadow: 0px 1px 3px 1px rgba(0, 0, 0, 0.15);\n",
              "      filter: drop-shadow(0px 1px 2px rgba(0, 0, 0, 0.3));\n",
              "      fill: #FFFFFF;\n",
              "    }\n",
              "  </style>\n",
              "\n",
              "      <script>\n",
              "        const buttonEl =\n",
              "          document.querySelector('#df-a13c67d4-7c41-4742-9caf-9bdec2b6d5ca button.colab-df-convert');\n",
              "        buttonEl.style.display =\n",
              "          google.colab.kernel.accessAllowed ? 'block' : 'none';\n",
              "\n",
              "        async function convertToInteractive(key) {\n",
              "          const element = document.querySelector('#df-a13c67d4-7c41-4742-9caf-9bdec2b6d5ca');\n",
              "          const dataTable =\n",
              "            await google.colab.kernel.invokeFunction('convertToInteractive',\n",
              "                                                     [key], {});\n",
              "          if (!dataTable) return;\n",
              "\n",
              "          const docLinkHtml = 'Like what you see? Visit the ' +\n",
              "            '<a target=\"_blank\" href=https://colab.research.google.com/notebooks/data_table.ipynb>data table notebook</a>'\n",
              "            + ' to learn more about interactive tables.';\n",
              "          element.innerHTML = '';\n",
              "          dataTable['output_type'] = 'display_data';\n",
              "          await google.colab.output.renderOutput(dataTable, element);\n",
              "          const docLink = document.createElement('div');\n",
              "          docLink.innerHTML = docLinkHtml;\n",
              "          element.appendChild(docLink);\n",
              "        }\n",
              "      </script>\n",
              "    </div>\n",
              "  </div>\n",
              "  "
            ]
          },
          "metadata": {},
          "execution_count": 244
        }
      ]
    },
    {
      "cell_type": "code",
      "source": [
        "df_tran_1.y.value_counts()"
      ],
      "metadata": {
        "id": "gjfodSf6eCC8",
        "colab": {
          "base_uri": "https://localhost:8080/"
        },
        "outputId": "c250c5d1-88c1-424e-e849-ce244699c01a"
      },
      "execution_count": 245,
      "outputs": [
        {
          "output_type": "execute_result",
          "data": {
            "text/plain": [
              "no     36534\n",
              "yes     4636\n",
              "Name: y, dtype: int64"
            ]
          },
          "metadata": {},
          "execution_count": 245
        }
      ]
    },
    {
      "cell_type": "code",
      "source": [
        "df_tran_1.columns"
      ],
      "metadata": {
        "id": "QyoLkI_Xe99E",
        "colab": {
          "base_uri": "https://localhost:8080/"
        },
        "outputId": "1daf8767-843c-4de1-ec59-deb1f1c9ab85"
      },
      "execution_count": 246,
      "outputs": [
        {
          "output_type": "execute_result",
          "data": {
            "text/plain": [
              "Index(['age', 'marital', 'default', 'housing', 'loan', 'contact',\n",
              "       'day_of_week', 'campaign', 'pdays', 'previous', 'poutcome',\n",
              "       'emp.var.rate', 'cons.price.idx', 'cons.conf.idx', 'euribor3m',\n",
              "       'nr.employed', 'y', 'edu_new', 'job_new', 'season'],\n",
              "      dtype='object')"
            ]
          },
          "metadata": {},
          "execution_count": 246
        }
      ]
    },
    {
      "cell_type": "code",
      "source": [
        "df_tran_1.head().T"
      ],
      "metadata": {
        "id": "sJIW-vAngA7I",
        "colab": {
          "base_uri": "https://localhost:8080/",
          "height": 676
        },
        "outputId": "1c173ad7-7c10-4d75-9e88-62f038b882c2"
      },
      "execution_count": 247,
      "outputs": [
        {
          "output_type": "execute_result",
          "data": {
            "text/plain": [
              "                          0            1            2             3  \\\n",
              "age                      56           57           37            40   \n",
              "marital             married      married      married       married   \n",
              "default                  no      unknown           no            no   \n",
              "housing                  no           no          yes            no   \n",
              "loan                     no           no           no            no   \n",
              "contact           telephone    telephone    telephone     telephone   \n",
              "day_of_week             mon          mon          mon           mon   \n",
              "campaign                  1            1            1             1   \n",
              "pdays                   999          999          999           999   \n",
              "previous                  0            0            0             0   \n",
              "poutcome        nonexistent  nonexistent  nonexistent   nonexistent   \n",
              "emp.var.rate            1.1          1.1          1.1           1.1   \n",
              "cons.price.idx       93.994       93.994       93.994        93.994   \n",
              "cons.conf.idx         -36.4        -36.4        -36.4         -36.4   \n",
              "euribor3m             4.857        4.857        4.857         4.857   \n",
              "nr.employed          5191.0       5191.0       5191.0        5191.0   \n",
              "y                        no           no           no            no   \n",
              "edu_new            pre_high         high         high      pre_high   \n",
              "job_new         blue_collar  blue_collar  blue_collar  white_collar   \n",
              "season               spring       spring       spring        spring   \n",
              "\n",
              "                          4  \n",
              "age                      56  \n",
              "marital             married  \n",
              "default                  no  \n",
              "housing                  no  \n",
              "loan                    yes  \n",
              "contact           telephone  \n",
              "day_of_week             mon  \n",
              "campaign                  1  \n",
              "pdays                   999  \n",
              "previous                  0  \n",
              "poutcome        nonexistent  \n",
              "emp.var.rate            1.1  \n",
              "cons.price.idx       93.994  \n",
              "cons.conf.idx         -36.4  \n",
              "euribor3m             4.857  \n",
              "nr.employed          5191.0  \n",
              "y                        no  \n",
              "edu_new                high  \n",
              "job_new         blue_collar  \n",
              "season               spring  "
            ],
            "text/html": [
              "\n",
              "  <div id=\"df-18124396-fbff-427f-9f91-30df74752a1c\">\n",
              "    <div class=\"colab-df-container\">\n",
              "      <div>\n",
              "<style scoped>\n",
              "    .dataframe tbody tr th:only-of-type {\n",
              "        vertical-align: middle;\n",
              "    }\n",
              "\n",
              "    .dataframe tbody tr th {\n",
              "        vertical-align: top;\n",
              "    }\n",
              "\n",
              "    .dataframe thead th {\n",
              "        text-align: right;\n",
              "    }\n",
              "</style>\n",
              "<table border=\"1\" class=\"dataframe\">\n",
              "  <thead>\n",
              "    <tr style=\"text-align: right;\">\n",
              "      <th></th>\n",
              "      <th>0</th>\n",
              "      <th>1</th>\n",
              "      <th>2</th>\n",
              "      <th>3</th>\n",
              "      <th>4</th>\n",
              "    </tr>\n",
              "  </thead>\n",
              "  <tbody>\n",
              "    <tr>\n",
              "      <th>age</th>\n",
              "      <td>56</td>\n",
              "      <td>57</td>\n",
              "      <td>37</td>\n",
              "      <td>40</td>\n",
              "      <td>56</td>\n",
              "    </tr>\n",
              "    <tr>\n",
              "      <th>marital</th>\n",
              "      <td>married</td>\n",
              "      <td>married</td>\n",
              "      <td>married</td>\n",
              "      <td>married</td>\n",
              "      <td>married</td>\n",
              "    </tr>\n",
              "    <tr>\n",
              "      <th>default</th>\n",
              "      <td>no</td>\n",
              "      <td>unknown</td>\n",
              "      <td>no</td>\n",
              "      <td>no</td>\n",
              "      <td>no</td>\n",
              "    </tr>\n",
              "    <tr>\n",
              "      <th>housing</th>\n",
              "      <td>no</td>\n",
              "      <td>no</td>\n",
              "      <td>yes</td>\n",
              "      <td>no</td>\n",
              "      <td>no</td>\n",
              "    </tr>\n",
              "    <tr>\n",
              "      <th>loan</th>\n",
              "      <td>no</td>\n",
              "      <td>no</td>\n",
              "      <td>no</td>\n",
              "      <td>no</td>\n",
              "      <td>yes</td>\n",
              "    </tr>\n",
              "    <tr>\n",
              "      <th>contact</th>\n",
              "      <td>telephone</td>\n",
              "      <td>telephone</td>\n",
              "      <td>telephone</td>\n",
              "      <td>telephone</td>\n",
              "      <td>telephone</td>\n",
              "    </tr>\n",
              "    <tr>\n",
              "      <th>day_of_week</th>\n",
              "      <td>mon</td>\n",
              "      <td>mon</td>\n",
              "      <td>mon</td>\n",
              "      <td>mon</td>\n",
              "      <td>mon</td>\n",
              "    </tr>\n",
              "    <tr>\n",
              "      <th>campaign</th>\n",
              "      <td>1</td>\n",
              "      <td>1</td>\n",
              "      <td>1</td>\n",
              "      <td>1</td>\n",
              "      <td>1</td>\n",
              "    </tr>\n",
              "    <tr>\n",
              "      <th>pdays</th>\n",
              "      <td>999</td>\n",
              "      <td>999</td>\n",
              "      <td>999</td>\n",
              "      <td>999</td>\n",
              "      <td>999</td>\n",
              "    </tr>\n",
              "    <tr>\n",
              "      <th>previous</th>\n",
              "      <td>0</td>\n",
              "      <td>0</td>\n",
              "      <td>0</td>\n",
              "      <td>0</td>\n",
              "      <td>0</td>\n",
              "    </tr>\n",
              "    <tr>\n",
              "      <th>poutcome</th>\n",
              "      <td>nonexistent</td>\n",
              "      <td>nonexistent</td>\n",
              "      <td>nonexistent</td>\n",
              "      <td>nonexistent</td>\n",
              "      <td>nonexistent</td>\n",
              "    </tr>\n",
              "    <tr>\n",
              "      <th>emp.var.rate</th>\n",
              "      <td>1.1</td>\n",
              "      <td>1.1</td>\n",
              "      <td>1.1</td>\n",
              "      <td>1.1</td>\n",
              "      <td>1.1</td>\n",
              "    </tr>\n",
              "    <tr>\n",
              "      <th>cons.price.idx</th>\n",
              "      <td>93.994</td>\n",
              "      <td>93.994</td>\n",
              "      <td>93.994</td>\n",
              "      <td>93.994</td>\n",
              "      <td>93.994</td>\n",
              "    </tr>\n",
              "    <tr>\n",
              "      <th>cons.conf.idx</th>\n",
              "      <td>-36.4</td>\n",
              "      <td>-36.4</td>\n",
              "      <td>-36.4</td>\n",
              "      <td>-36.4</td>\n",
              "      <td>-36.4</td>\n",
              "    </tr>\n",
              "    <tr>\n",
              "      <th>euribor3m</th>\n",
              "      <td>4.857</td>\n",
              "      <td>4.857</td>\n",
              "      <td>4.857</td>\n",
              "      <td>4.857</td>\n",
              "      <td>4.857</td>\n",
              "    </tr>\n",
              "    <tr>\n",
              "      <th>nr.employed</th>\n",
              "      <td>5191.0</td>\n",
              "      <td>5191.0</td>\n",
              "      <td>5191.0</td>\n",
              "      <td>5191.0</td>\n",
              "      <td>5191.0</td>\n",
              "    </tr>\n",
              "    <tr>\n",
              "      <th>y</th>\n",
              "      <td>no</td>\n",
              "      <td>no</td>\n",
              "      <td>no</td>\n",
              "      <td>no</td>\n",
              "      <td>no</td>\n",
              "    </tr>\n",
              "    <tr>\n",
              "      <th>edu_new</th>\n",
              "      <td>pre_high</td>\n",
              "      <td>high</td>\n",
              "      <td>high</td>\n",
              "      <td>pre_high</td>\n",
              "      <td>high</td>\n",
              "    </tr>\n",
              "    <tr>\n",
              "      <th>job_new</th>\n",
              "      <td>blue_collar</td>\n",
              "      <td>blue_collar</td>\n",
              "      <td>blue_collar</td>\n",
              "      <td>white_collar</td>\n",
              "      <td>blue_collar</td>\n",
              "    </tr>\n",
              "    <tr>\n",
              "      <th>season</th>\n",
              "      <td>spring</td>\n",
              "      <td>spring</td>\n",
              "      <td>spring</td>\n",
              "      <td>spring</td>\n",
              "      <td>spring</td>\n",
              "    </tr>\n",
              "  </tbody>\n",
              "</table>\n",
              "</div>\n",
              "      <button class=\"colab-df-convert\" onclick=\"convertToInteractive('df-18124396-fbff-427f-9f91-30df74752a1c')\"\n",
              "              title=\"Convert this dataframe to an interactive table.\"\n",
              "              style=\"display:none;\">\n",
              "        \n",
              "  <svg xmlns=\"http://www.w3.org/2000/svg\" height=\"24px\"viewBox=\"0 0 24 24\"\n",
              "       width=\"24px\">\n",
              "    <path d=\"M0 0h24v24H0V0z\" fill=\"none\"/>\n",
              "    <path d=\"M18.56 5.44l.94 2.06.94-2.06 2.06-.94-2.06-.94-.94-2.06-.94 2.06-2.06.94zm-11 1L8.5 8.5l.94-2.06 2.06-.94-2.06-.94L8.5 2.5l-.94 2.06-2.06.94zm10 10l.94 2.06.94-2.06 2.06-.94-2.06-.94-.94-2.06-.94 2.06-2.06.94z\"/><path d=\"M17.41 7.96l-1.37-1.37c-.4-.4-.92-.59-1.43-.59-.52 0-1.04.2-1.43.59L10.3 9.45l-7.72 7.72c-.78.78-.78 2.05 0 2.83L4 21.41c.39.39.9.59 1.41.59.51 0 1.02-.2 1.41-.59l7.78-7.78 2.81-2.81c.8-.78.8-2.07 0-2.86zM5.41 20L4 18.59l7.72-7.72 1.47 1.35L5.41 20z\"/>\n",
              "  </svg>\n",
              "      </button>\n",
              "      \n",
              "  <style>\n",
              "    .colab-df-container {\n",
              "      display:flex;\n",
              "      flex-wrap:wrap;\n",
              "      gap: 12px;\n",
              "    }\n",
              "\n",
              "    .colab-df-convert {\n",
              "      background-color: #E8F0FE;\n",
              "      border: none;\n",
              "      border-radius: 50%;\n",
              "      cursor: pointer;\n",
              "      display: none;\n",
              "      fill: #1967D2;\n",
              "      height: 32px;\n",
              "      padding: 0 0 0 0;\n",
              "      width: 32px;\n",
              "    }\n",
              "\n",
              "    .colab-df-convert:hover {\n",
              "      background-color: #E2EBFA;\n",
              "      box-shadow: 0px 1px 2px rgba(60, 64, 67, 0.3), 0px 1px 3px 1px rgba(60, 64, 67, 0.15);\n",
              "      fill: #174EA6;\n",
              "    }\n",
              "\n",
              "    [theme=dark] .colab-df-convert {\n",
              "      background-color: #3B4455;\n",
              "      fill: #D2E3FC;\n",
              "    }\n",
              "\n",
              "    [theme=dark] .colab-df-convert:hover {\n",
              "      background-color: #434B5C;\n",
              "      box-shadow: 0px 1px 3px 1px rgba(0, 0, 0, 0.15);\n",
              "      filter: drop-shadow(0px 1px 2px rgba(0, 0, 0, 0.3));\n",
              "      fill: #FFFFFF;\n",
              "    }\n",
              "  </style>\n",
              "\n",
              "      <script>\n",
              "        const buttonEl =\n",
              "          document.querySelector('#df-18124396-fbff-427f-9f91-30df74752a1c button.colab-df-convert');\n",
              "        buttonEl.style.display =\n",
              "          google.colab.kernel.accessAllowed ? 'block' : 'none';\n",
              "\n",
              "        async function convertToInteractive(key) {\n",
              "          const element = document.querySelector('#df-18124396-fbff-427f-9f91-30df74752a1c');\n",
              "          const dataTable =\n",
              "            await google.colab.kernel.invokeFunction('convertToInteractive',\n",
              "                                                     [key], {});\n",
              "          if (!dataTable) return;\n",
              "\n",
              "          const docLinkHtml = 'Like what you see? Visit the ' +\n",
              "            '<a target=\"_blank\" href=https://colab.research.google.com/notebooks/data_table.ipynb>data table notebook</a>'\n",
              "            + ' to learn more about interactive tables.';\n",
              "          element.innerHTML = '';\n",
              "          dataTable['output_type'] = 'display_data';\n",
              "          await google.colab.output.renderOutput(dataTable, element);\n",
              "          const docLink = document.createElement('div');\n",
              "          docLink.innerHTML = docLinkHtml;\n",
              "          element.appendChild(docLink);\n",
              "        }\n",
              "      </script>\n",
              "    </div>\n",
              "  </div>\n",
              "  "
            ]
          },
          "metadata": {},
          "execution_count": 247
        }
      ]
    },
    {
      "cell_type": "code",
      "source": [
        "df_tran_1.info()"
      ],
      "metadata": {
        "id": "tqbWdPRFiYxW",
        "colab": {
          "base_uri": "https://localhost:8080/"
        },
        "outputId": "215dcb97-614e-44e0-8a6b-581532de9cb9"
      },
      "execution_count": 248,
      "outputs": [
        {
          "output_type": "stream",
          "name": "stdout",
          "text": [
            "<class 'pandas.core.frame.DataFrame'>\n",
            "Int64Index: 41170 entries, 0 to 41187\n",
            "Data columns (total 20 columns):\n",
            " #   Column          Non-Null Count  Dtype  \n",
            "---  ------          --------------  -----  \n",
            " 0   age             41170 non-null  int64  \n",
            " 1   marital         41170 non-null  object \n",
            " 2   default         41170 non-null  object \n",
            " 3   housing         41170 non-null  object \n",
            " 4   loan            41170 non-null  object \n",
            " 5   contact         41170 non-null  object \n",
            " 6   day_of_week     41170 non-null  object \n",
            " 7   campaign        41170 non-null  int64  \n",
            " 8   pdays           41170 non-null  int64  \n",
            " 9   previous        41170 non-null  int64  \n",
            " 10  poutcome        41170 non-null  object \n",
            " 11  emp.var.rate    41170 non-null  float64\n",
            " 12  cons.price.idx  41170 non-null  float64\n",
            " 13  cons.conf.idx   41170 non-null  float64\n",
            " 14  euribor3m       41170 non-null  float64\n",
            " 15  nr.employed     41170 non-null  float64\n",
            " 16  y               41170 non-null  object \n",
            " 17  edu_new         41170 non-null  object \n",
            " 18  job_new         41170 non-null  object \n",
            " 19  season          41170 non-null  object \n",
            "dtypes: float64(5), int64(4), object(11)\n",
            "memory usage: 6.6+ MB\n"
          ]
        }
      ]
    },
    {
      "cell_type": "code",
      "source": [
        "df_tran_1.dtypes.index"
      ],
      "metadata": {
        "id": "X28boaASj5x6",
        "colab": {
          "base_uri": "https://localhost:8080/"
        },
        "outputId": "d1d3e320-26fc-4e59-8ea4-5cfff4e4610e"
      },
      "execution_count": 249,
      "outputs": [
        {
          "output_type": "execute_result",
          "data": {
            "text/plain": [
              "Index(['age', 'marital', 'default', 'housing', 'loan', 'contact',\n",
              "       'day_of_week', 'campaign', 'pdays', 'previous', 'poutcome',\n",
              "       'emp.var.rate', 'cons.price.idx', 'cons.conf.idx', 'euribor3m',\n",
              "       'nr.employed', 'y', 'edu_new', 'job_new', 'season'],\n",
              "      dtype='object')"
            ]
          },
          "metadata": {},
          "execution_count": 249
        }
      ]
    },
    {
      "cell_type": "code",
      "source": [
        "objList = []\n",
        "\n",
        "for i in df_tran_1.dtypes.index :\n",
        "    if i =='y':continue\n",
        "    #print(\" here is i .....\", i , \" ..... and here is the type\", dt[i] )\n",
        "    if df_tran_1.dtypes[i] in ([\"object\"]) : objList.append( i )\n",
        "\n",
        "for i in objList :\n",
        "    thePrefix = \"z_\" + i\n",
        "    y = pd.get_dummies( df_tran_1[i], prefix=thePrefix, drop_first=False )   \n",
        "    df_tran_1 = pd.concat( [df_tran_1, y], axis=1 )\n",
        "    df_tran_1 = df_tran_1.drop( i, axis=1 )"
      ],
      "metadata": {
        "id": "qSegK1vnjm93"
      },
      "execution_count": 250,
      "outputs": []
    },
    {
      "cell_type": "code",
      "source": [
        "objList"
      ],
      "metadata": {
        "id": "LrKlZ0eMn1jc",
        "colab": {
          "base_uri": "https://localhost:8080/"
        },
        "outputId": "0964e95a-c932-48b6-e175-94681c59dc9d"
      },
      "execution_count": 251,
      "outputs": [
        {
          "output_type": "execute_result",
          "data": {
            "text/plain": [
              "['marital',\n",
              " 'default',\n",
              " 'housing',\n",
              " 'loan',\n",
              " 'contact',\n",
              " 'day_of_week',\n",
              " 'poutcome',\n",
              " 'edu_new',\n",
              " 'job_new',\n",
              " 'season']"
            ]
          },
          "metadata": {},
          "execution_count": 251
        }
      ]
    },
    {
      "cell_type": "code",
      "source": [
        "df_tran_1.columns"
      ],
      "metadata": {
        "id": "oFw7P7iEkbUb",
        "colab": {
          "base_uri": "https://localhost:8080/"
        },
        "outputId": "aef585de-a81d-480b-9f82-285d208d2f3b"
      },
      "execution_count": 252,
      "outputs": [
        {
          "output_type": "execute_result",
          "data": {
            "text/plain": [
              "Index(['age', 'campaign', 'pdays', 'previous', 'emp.var.rate',\n",
              "       'cons.price.idx', 'cons.conf.idx', 'euribor3m', 'nr.employed', 'y',\n",
              "       'z_marital_divorced', 'z_marital_married', 'z_marital_single',\n",
              "       'z_marital_unknown', 'z_default_no', 'z_default_unknown',\n",
              "       'z_default_yes', 'z_housing_no', 'z_housing_unknown', 'z_housing_yes',\n",
              "       'z_loan_no', 'z_loan_unknown', 'z_loan_yes', 'z_contact_cellular',\n",
              "       'z_contact_telephone', 'z_day_of_week_fri', 'z_day_of_week_mon',\n",
              "       'z_day_of_week_thu', 'z_day_of_week_tue', 'z_day_of_week_wed',\n",
              "       'z_poutcome_failure', 'z_poutcome_nonexistent', 'z_poutcome_success',\n",
              "       'z_edu_new_high', 'z_edu_new_post_high', 'z_edu_new_pre_high',\n",
              "       'z_edu_new_unknown', 'z_job_new_blue_collar', 'z_job_new_not_working',\n",
              "       'z_job_new_unknown', 'z_job_new_white_collar', 'z_season_fall',\n",
              "       'z_season_spring', 'z_season_summer', 'z_season_winter'],\n",
              "      dtype='object')"
            ]
          },
          "metadata": {},
          "execution_count": 252
        }
      ]
    },
    {
      "cell_type": "code",
      "source": [
        "df_tran_1['y'] = df_tran_1.y.map(dict(yes=1, no=0))"
      ],
      "metadata": {
        "id": "2K5aVmaVnEVZ"
      },
      "execution_count": 253,
      "outputs": []
    },
    {
      "cell_type": "code",
      "source": [
        "\n",
        "X = df_tran_1.loc[:, df_tran_1.columns != 'y']\n",
        "y = df_tran_1.loc[:, df_tran_1.columns == 'y']\n",
        "\n",
        "\n",
        "os = SMOTE(random_state=0)\n",
        "X_train, X_test, y_train, y_test = train_test_split(X, y, test_size=0.3, random_state=0)\n",
        "columns = X_train.columns\n",
        "os_data_X,os_data_y=os.fit_resample(X_train, y_train)\n",
        "os_data_X = pd.DataFrame(data=os_data_X,columns=columns )\n",
        "os_data_y= pd.DataFrame(data=os_data_y,columns=['y'])\n",
        "# we can Check the numbers of our data\n",
        "print(\"length of oversampled data is \",len(os_data_X))\n",
        "print(\"Number of no subscription in oversampled data\",len(os_data_y[os_data_y['y']==0]))\n",
        "print(\"Number of subscription\",len(os_data_y[os_data_y['y']==1]))\n",
        "print(\"Proportion of no subscription data in oversampled data is \",len(os_data_y[os_data_y['y']==0])/len(os_data_X))\n",
        "print(\"Proportion of subscription data in oversampled data is \",len(os_data_y[os_data_y['y']==1])/len(os_data_X))"
      ],
      "metadata": {
        "id": "cQYKfXewcKPJ",
        "colab": {
          "base_uri": "https://localhost:8080/"
        },
        "outputId": "24c84708-eae8-45b1-e8dc-e8b327e0e190"
      },
      "execution_count": 254,
      "outputs": [
        {
          "output_type": "stream",
          "name": "stdout",
          "text": [
            "length of oversampled data is  51102\n",
            "Number of no subscription in oversampled data 25551\n",
            "Number of subscription 25551\n",
            "Proportion of no subscription data in oversampled data is  0.5\n",
            "Proportion of subscription data in oversampled data is  0.5\n"
          ]
        }
      ]
    },
    {
      "cell_type": "code",
      "source": [
        "data_final_vars=df_tran_1.columns.values.tolist()\n",
        "y=['y']\n",
        "X=[i for i in data_final_vars if i not in y]\n",
        "\n",
        "\n",
        "\n",
        "logreg = LogisticRegression(solver= 'liblinear')\n",
        "rfe = RFE(logreg,n_features_to_select=20)\n",
        "rfe = rfe.fit(os_data_X.values, os_data_y.values.ravel())\n",
        "\n",
        "features = list(os_data_X.columns[rfe.support_])\n",
        "\n",
        "print('total features:', os_data_X.shape[1])\n",
        "\n",
        "print(rfe.support_)\n",
        "print(features)\n",
        "print(rfe.ranking_)"
      ],
      "metadata": {
        "id": "RYHQmjthcKSH",
        "colab": {
          "base_uri": "https://localhost:8080/"
        },
        "outputId": "6c86b002-d1d4-42ff-8de5-ea37f00f5158"
      },
      "execution_count": 313,
      "outputs": [
        {
          "output_type": "stream",
          "name": "stdout",
          "text": [
            "total features: 44\n",
            "[False False False False False False False False False  True  True  True\n",
            "  True False False False  True  True  True  True  True  True False False\n",
            "  True  True  True  True  True False False False  True  True  True  True\n",
            " False False  True False False False False False]\n",
            "['z_marital_divorced', 'z_marital_married', 'z_marital_single', 'z_marital_unknown', 'z_housing_no', 'z_housing_unknown', 'z_housing_yes', 'z_loan_no', 'z_loan_unknown', 'z_loan_yes', 'z_day_of_week_fri', 'z_day_of_week_mon', 'z_day_of_week_thu', 'z_day_of_week_tue', 'z_day_of_week_wed', 'z_edu_new_high', 'z_edu_new_post_high', 'z_edu_new_pre_high', 'z_edu_new_unknown', 'z_job_new_unknown']\n",
            "[25 20 24 19 18 15 21 14 22  1  1  1  1  8  7 12  1  1  1  1  1  1  6  5\n",
            "  1  1  1  1  1  9 10 13  1  1  1  1  2  4  1  3 17 23 16 11]\n"
          ]
        }
      ]
    },
    {
      "cell_type": "markdown",
      "source": [
        "##Fit Model"
      ],
      "metadata": {
        "id": "KNCoRkDRlirv"
      }
    },
    {
      "cell_type": "markdown",
      "source": [
        "##Model 1\n",
        "\n",
        "Logistic Regression with top 20 selected by Recursive Feature Elimination method"
      ],
      "metadata": {
        "id": "wqTrey9A_kcY"
      }
    },
    {
      "cell_type": "code",
      "source": [
        "features"
      ],
      "metadata": {
        "colab": {
          "base_uri": "https://localhost:8080/"
        },
        "id": "rCqfPrSavmx0",
        "outputId": "882ba255-f431-40ea-a930-91694d6d0099"
      },
      "execution_count": 314,
      "outputs": [
        {
          "output_type": "execute_result",
          "data": {
            "text/plain": [
              "['z_marital_divorced',\n",
              " 'z_marital_married',\n",
              " 'z_marital_single',\n",
              " 'z_marital_unknown',\n",
              " 'z_housing_no',\n",
              " 'z_housing_unknown',\n",
              " 'z_housing_yes',\n",
              " 'z_loan_no',\n",
              " 'z_loan_unknown',\n",
              " 'z_loan_yes',\n",
              " 'z_day_of_week_fri',\n",
              " 'z_day_of_week_mon',\n",
              " 'z_day_of_week_thu',\n",
              " 'z_day_of_week_tue',\n",
              " 'z_day_of_week_wed',\n",
              " 'z_edu_new_high',\n",
              " 'z_edu_new_post_high',\n",
              " 'z_edu_new_pre_high',\n",
              " 'z_edu_new_unknown',\n",
              " 'z_job_new_unknown']"
            ]
          },
          "metadata": {},
          "execution_count": 314
        }
      ]
    },
    {
      "cell_type": "code",
      "source": [
        "X = os_data_X[features]\n",
        "y = os_data_y['y']"
      ],
      "metadata": {
        "id": "Ly2X9x-wdKDL"
      },
      "execution_count": 315,
      "outputs": []
    },
    {
      "cell_type": "code",
      "source": [
        "logit_model=sm.Logit(y,X)\n",
        "result=logit_model.fit()\n",
        "print(result.summary2())"
      ],
      "metadata": {
        "id": "QMT-KMY8tOcs",
        "colab": {
          "base_uri": "https://localhost:8080/"
        },
        "outputId": "90d5495e-5888-4457-d2d7-47935f1c94e7"
      },
      "execution_count": 316,
      "outputs": [
        {
          "output_type": "stream",
          "name": "stdout",
          "text": [
            "Optimization terminated successfully.\n",
            "         Current function value: 0.537709\n",
            "         Iterations 6\n",
            "                           Results: Logit\n",
            "====================================================================\n",
            "Model:               Logit             Pseudo R-squared:  0.224     \n",
            "Dependent Variable:  y                 AIC:               54994.0321\n",
            "Date:                2022-07-31 02:57  BIC:               55162.0221\n",
            "No. Observations:    51102             Log-Likelihood:    -27478.   \n",
            "Df Model:            18                LL-Null:           -35421.   \n",
            "Df Residuals:        51083             LLR p-value:       0.0000    \n",
            "Converged:           1.0000            Scale:             1.0000    \n",
            "No. Iterations:      6.0000                                         \n",
            "--------------------------------------------------------------------\n",
            "                     Coef.  Std.Err.    z     P>|z|   [0.025  0.975]\n",
            "--------------------------------------------------------------------\n",
            "z_marital_divorced   0.0255   0.4652   0.0549 0.9562 -0.8863  0.9373\n",
            "z_marital_married    0.6558   0.1957   3.3515 0.0008  0.2723  1.0392\n",
            "z_marital_single     0.8779   0.6190   1.4184 0.1561 -0.3352  2.0911\n",
            "z_marital_unknown   -0.0622   0.5026  -0.1237 0.9016 -1.0472  0.9228\n",
            "z_housing_no        -0.3218   0.0000     -inf 0.0000 -0.3218 -0.3218\n",
            "z_housing_unknown    0.2938      nan      nan    nan     nan     nan\n",
            "z_housing_yes       -0.1188   0.1250  -0.9500 0.3421 -0.3637  0.1262\n",
            "z_loan_no            1.9936   0.3460   5.7621 0.0000  1.3155  2.6718\n",
            "z_loan_unknown       0.2938      nan      nan    nan     nan     nan\n",
            "z_loan_yes           1.1279   0.3608   3.1265 0.0018  0.4208  1.8349\n",
            "z_day_of_week_fri   -2.4773   0.4290  -5.7749 0.0000 -3.3181 -1.6365\n",
            "z_day_of_week_mon   -2.4958   1.0612  -2.3519 0.0187 -4.5756 -0.4159\n",
            "z_day_of_week_thu   -2.2433   0.3765  -5.9588 0.0000 -2.9812 -1.5055\n",
            "z_day_of_week_tue   -2.3798   0.6016  -3.9559 0.0001 -3.5589 -1.2007\n",
            "z_day_of_week_wed   -2.2908   0.7134  -3.2112 0.0013 -3.6890 -0.8926\n",
            "z_edu_new_high      -1.0441      nan      nan    nan     nan     nan\n",
            "z_edu_new_post_high -0.4645   0.0318 -14.6074 0.0000 -0.5268 -0.4021\n",
            "z_edu_new_pre_high  -1.0835      nan      nan    nan     nan     nan\n",
            "z_edu_new_unknown   -1.0863   0.1711  -6.3486 0.0000 -1.4217 -0.7509\n",
            "z_job_new_unknown   -1.0409  -0.0000      inf 0.0000 -1.0409 -1.0409\n",
            "====================================================================\n",
            "\n"
          ]
        },
        {
          "output_type": "stream",
          "name": "stderr",
          "text": [
            "/usr/local/lib/python3.7/dist-packages/statsmodels/base/model.py:1286: RuntimeWarning: invalid value encountered in sqrt\n",
            "  bse_ = np.sqrt(np.diag(self.cov_params()))\n",
            "/usr/local/lib/python3.7/dist-packages/statsmodels/base/model.py:1294: RuntimeWarning: divide by zero encountered in true_divide\n",
            "  return self.params / self.bse\n"
          ]
        }
      ]
    },
    {
      "cell_type": "code",
      "source": [
        "X_train, X_test, y_train, y_test = train_test_split(X, y, test_size=0.3, random_state=0)\n",
        "logreg = LogisticRegression()\n",
        "logreg.fit(X_train, y_train)"
      ],
      "metadata": {
        "id": "5QhDbyEztOf1",
        "colab": {
          "base_uri": "https://localhost:8080/"
        },
        "outputId": "2fb38456-e491-4798-f451-cd92c73fe3d2"
      },
      "execution_count": 317,
      "outputs": [
        {
          "output_type": "execute_result",
          "data": {
            "text/plain": [
              "LogisticRegression()"
            ]
          },
          "metadata": {},
          "execution_count": 317
        }
      ]
    },
    {
      "cell_type": "code",
      "source": [
        "y_pred = logreg.predict(X_test)\n",
        "print('Accuracy of logistic regression classifier on test set: {:.2f}'.format(logreg.score(X_test, y_test)))"
      ],
      "metadata": {
        "id": "rteop76r-UEB",
        "colab": {
          "base_uri": "https://localhost:8080/"
        },
        "outputId": "bd2f2712-aad8-46da-948f-7a914c20f8a8"
      },
      "execution_count": 318,
      "outputs": [
        {
          "output_type": "stream",
          "name": "stdout",
          "text": [
            "Accuracy of logistic regression classifier on test set: 0.91\n"
          ]
        }
      ]
    },
    {
      "cell_type": "code",
      "source": [
        "cm_1 = confusion_matrix(y_test, y_pred)\n",
        "print(cm_1)"
      ],
      "metadata": {
        "id": "fwJqMz0v-UJX",
        "colab": {
          "base_uri": "https://localhost:8080/"
        },
        "outputId": "65950945-3494-458d-b1d3-ed007c5dc6e4"
      },
      "execution_count": 319,
      "outputs": [
        {
          "output_type": "stream",
          "name": "stdout",
          "text": [
            "[[7632    0]\n",
            " [1431 6268]]\n"
          ]
        }
      ]
    },
    {
      "cell_type": "code",
      "source": [
        "plot_confusion_matrix(logreg, X_test, y_test)  \n",
        "plt.show()"
      ],
      "metadata": {
        "id": "JPucOwI8v9C4",
        "outputId": "f1dfd321-2d5e-4c75-c32e-90fc56579569",
        "colab": {
          "base_uri": "https://localhost:8080/",
          "height": 334
        }
      },
      "execution_count": 320,
      "outputs": [
        {
          "output_type": "stream",
          "name": "stderr",
          "text": [
            "/usr/local/lib/python3.7/dist-packages/sklearn/utils/deprecation.py:87: FutureWarning: Function plot_confusion_matrix is deprecated; Function `plot_confusion_matrix` is deprecated in 1.0 and will be removed in 1.2. Use one of the class methods: ConfusionMatrixDisplay.from_predictions or ConfusionMatrixDisplay.from_estimator.\n",
            "  warnings.warn(msg, category=FutureWarning)\n"
          ]
        },
        {
          "output_type": "display_data",
          "data": {
            "text/plain": [
              "<Figure size 432x288 with 2 Axes>"
            ],
            "image/png": "[encoded data removed]"
          },
          "metadata": {
            "needs_background": "light"
          }
        }
      ]
    },
    {
      "cell_type": "code",
      "source": [
        "print(classification_report(y_test, y_pred))"
      ],
      "metadata": {
        "id": "vTEKHq_X-UMr",
        "colab": {
          "base_uri": "https://localhost:8080/"
        },
        "outputId": "a4453c1b-3ff8-490f-b674-e012f251bde9"
      },
      "execution_count": 321,
      "outputs": [
        {
          "output_type": "stream",
          "name": "stdout",
          "text": [
            "              precision    recall  f1-score   support\n",
            "\n",
            "           0       0.84      1.00      0.91      7632\n",
            "           1       1.00      0.81      0.90      7699\n",
            "\n",
            "    accuracy                           0.91     15331\n",
            "   macro avg       0.92      0.91      0.91     15331\n",
            "weighted avg       0.92      0.91      0.91     15331\n",
            "\n"
          ]
        }
      ]
    },
    {
      "cell_type": "code",
      "source": [
        "#define metrics\n",
        "y_pred_proba_test = logreg.predict_proba(X_test)[::,1]\n",
        "fpr_test, tpr_test, _ = metrics.roc_curve(y_test,  y_pred_proba_test)\n",
        "auc_test = metrics.roc_auc_score(y_test, y_pred_proba_test)\n",
        "\n",
        "y_pred_proba_train = logreg.predict_proba(X_train)[::,1]\n",
        "fpr_train, tpr_train, _ = metrics.roc_curve(y_train,  y_pred_proba_train)\n",
        "auc_train = metrics.roc_auc_score(y_train, y_pred_proba_train)\n",
        "\n",
        "\n",
        "#create ROC curve\n",
        "plt.title('Logistic Reg ROC CURVE')\n",
        "plt.plot(fpr_train, tpr_train, 'b', label = 'AUC TRAIN = %0.2f' % auc_train)\n",
        "plt.plot(fpr_test, tpr_test, 'b', label = 'AUC TEST = %0.2f' % auc_test, color = 'red')\n",
        "plt.ylabel('True Positive Rate')\n",
        "plt.xlabel('False Positive Rate')\n",
        "plt.legend(loc=4)\n",
        "plt.plot([0, 1], [0,1], 'r--')\n",
        "plt.ylim([0, 1])\n",
        "plt.show()\n",
        "plt.show()"
      ],
      "metadata": {
        "colab": {
          "base_uri": "https://localhost:8080/",
          "height": 295
        },
        "id": "MEp3XE4oJEsI",
        "outputId": "fb8713a1-c001-4d64-e8f6-de705d1b1d3e"
      },
      "execution_count": 324,
      "outputs": [
        {
          "output_type": "display_data",
          "data": {
            "text/plain": [
              "<Figure size 432x288 with 1 Axes>"
            ],
            "image/png": "[encoded data removed]"
          },
          "metadata": {
            "needs_background": "light"
          }
        }
      ]
    },
    {
      "cell_type": "markdown",
      "source": [
        "###Model 2"
      ],
      "metadata": {
        "id": "YsuIlDUf_hYO"
      }
    },
    {
      "cell_type": "code",
      "source": [
        "features"
      ],
      "metadata": {
        "colab": {
          "base_uri": "https://localhost:8080/"
        },
        "id": "BQUXhPWRMH3k",
        "outputId": "29386fab-1d00-4cd4-b599-3d0da367699c"
      },
      "execution_count": 329,
      "outputs": [
        {
          "output_type": "execute_result",
          "data": {
            "text/plain": [
              "['z_marital_divorced',\n",
              " 'z_marital_married',\n",
              " 'z_marital_single',\n",
              " 'z_marital_unknown',\n",
              " 'z_housing_no',\n",
              " 'z_housing_unknown',\n",
              " 'z_housing_yes',\n",
              " 'z_loan_no',\n",
              " 'z_loan_unknown',\n",
              " 'z_loan_yes',\n",
              " 'z_day_of_week_fri',\n",
              " 'z_day_of_week_mon',\n",
              " 'z_day_of_week_thu',\n",
              " 'z_day_of_week_tue',\n",
              " 'z_day_of_week_wed',\n",
              " 'z_edu_new_high',\n",
              " 'z_edu_new_post_high',\n",
              " 'z_edu_new_pre_high',\n",
              " 'z_edu_new_unknown',\n",
              " 'z_job_new_unknown']"
            ]
          },
          "metadata": {},
          "execution_count": 329
        }
      ]
    },
    {
      "cell_type": "code",
      "source": [
        "features_2 = features.copy()\n",
        "\n",
        "features_2.remove('z_marital_divorced')\n",
        "\n",
        "features_2.remove('z_marital_unknown')\n",
        "\n",
        "# features_2.remove('z_edu_new_post_high')"
      ],
      "metadata": {
        "id": "Ds67pS38-lHa"
      },
      "execution_count": 332,
      "outputs": []
    },
    {
      "cell_type": "code",
      "source": [
        "X = os_data_X[features_2]\n",
        "y = os_data_y['y']\n",
        "\n",
        "logit_model=sm.Logit(y,X)\n",
        "result=logit_model.fit()\n",
        "print(result.summary2())\n"
      ],
      "metadata": {
        "id": "V6jMs3O--r5a",
        "colab": {
          "base_uri": "https://localhost:8080/"
        },
        "outputId": "669fec66-c7ee-492f-c050-9311ce50da0b"
      },
      "execution_count": 333,
      "outputs": [
        {
          "output_type": "stream",
          "name": "stdout",
          "text": [
            "Optimization terminated successfully.\n",
            "         Current function value: 0.537712\n",
            "         Iterations 6\n",
            "                                                 Results: Logit\n",
            "=================================================================================================================\n",
            "Model:                              Logit                            Pseudo R-squared:                 0.224     \n",
            "Dependent Variable:                 y                                AIC:                              54990.3138\n",
            "Date:                               2022-07-31 02:58                 BIC:                              55140.6206\n",
            "No. Observations:                   51102                            Log-Likelihood:                   -27478.   \n",
            "Df Model:                           16                               LL-Null:                          -35421.   \n",
            "Df Residuals:                       51085                            LLR p-value:                      0.0000    \n",
            "Converged:                          1.0000                           Scale:                            1.0000    \n",
            "No. Iterations:                     6.0000                                                                       \n",
            "-----------------------------------------------------------------------------------------------------------------\n",
            "                     Coef.         Std.Err.           z     P>|z|           [0.025                 0.975]        \n",
            "-----------------------------------------------------------------------------------------------------------------\n",
            "z_marital_married    0.6476                0.0297   21.7922 0.0000                  0.5893                 0.7058\n",
            "z_marital_single     0.8697                0.0265   32.7951 0.0000                  0.8177                 0.9217\n",
            "z_housing_no        -0.3197                0.0414   -7.7212 0.0000                 -0.4008                -0.2385\n",
            "z_housing_unknown    0.2960 7759831234012423.0000    0.0000 1.0000 -15208989744773354.0000 15208989744773354.0000\n",
            "z_housing_yes       -0.1165                0.0447   -2.6042 0.0092                 -0.2042                -0.0288\n",
            "z_loan_no            1.9956                0.0196  102.0038 0.0000                  1.9572                 2.0339\n",
            "z_loan_unknown       0.2960 7759831234012423.0000    0.0000 1.0000 -15208989744773354.0000 15208989744773354.0000\n",
            "z_loan_yes           1.1299                0.0407   27.7634 0.0000                  1.0502                 1.2097\n",
            "z_day_of_week_fri   -2.4748                0.0254  -97.4267 0.0000                 -2.5246                -2.4251\n",
            "z_day_of_week_mon   -2.4934                0.0236 -105.5422 0.0000                 -2.5397                -2.4471\n",
            "z_day_of_week_thu   -2.2409                0.0301  -74.4344 0.0000                 -2.2999                -2.1819\n",
            "z_day_of_week_tue   -2.3772                0.0245  -96.9430 0.0000                 -2.4253                -2.3292\n",
            "z_day_of_week_wed   -2.2884                0.0130 -175.9577 0.0000                 -2.3139                -2.2629\n",
            "z_edu_new_high      -1.0412                0.0390  -26.7180 0.0000                 -1.1176                -0.9648\n",
            "z_edu_new_post_high -0.4618                0.0316  -14.6211 0.0000                 -0.5237                -0.3999\n",
            "z_edu_new_pre_high  -1.0807                0.0382  -28.3178 0.0000                 -1.1555                -1.0059\n",
            "z_edu_new_unknown   -1.0834                0.0719  -15.0694 0.0000                 -1.2243                -0.9425\n",
            "z_job_new_unknown   -1.0428                0.2067   -5.0457 0.0000                 -1.4478                -0.6377\n",
            "=================================================================================================================\n",
            "\n"
          ]
        }
      ]
    },
    {
      "cell_type": "code",
      "source": [
        "X_train_2, X_test_2, y_train_2, y_test_2 = train_test_split(X, y, test_size=0.3, random_state=21)\n",
        "logreg_2 = LogisticRegression()\n",
        "logreg_2.fit(X_train_2, y_train_2)\n"
      ],
      "metadata": {
        "id": "aXCgo8X0-sDb",
        "colab": {
          "base_uri": "https://localhost:8080/"
        },
        "outputId": "a7989a88-66f2-459b-f81d-b7598b808a51"
      },
      "execution_count": 334,
      "outputs": [
        {
          "output_type": "execute_result",
          "data": {
            "text/plain": [
              "LogisticRegression()"
            ]
          },
          "metadata": {},
          "execution_count": 334
        }
      ]
    },
    {
      "cell_type": "code",
      "source": [
        "y_pred_2 = logreg_2.predict(X_test_2)\n",
        "print('Accuracy of logistic regression classifier on test set: {:.2f}'.format(logreg_2.score(X_test_2, y_test_2)))"
      ],
      "metadata": {
        "id": "FWmooJxPAnTb",
        "colab": {
          "base_uri": "https://localhost:8080/"
        },
        "outputId": "2902f0fc-051a-4f12-8ce4-f4c7788cde09"
      },
      "execution_count": 335,
      "outputs": [
        {
          "output_type": "stream",
          "name": "stdout",
          "text": [
            "Accuracy of logistic regression classifier on test set: 0.89\n"
          ]
        }
      ]
    },
    {
      "cell_type": "code",
      "source": [
        "cm_2 = confusion_matrix(y_test_2, y_pred_2)\n",
        "print(cm_2)\n",
        "print(classification_report(y_test_2, y_pred_2))"
      ],
      "metadata": {
        "id": "uK0FRPO7AQI8",
        "colab": {
          "base_uri": "https://localhost:8080/"
        },
        "outputId": "647b6c02-3d10-48b0-a886-62565829f500"
      },
      "execution_count": 336,
      "outputs": [
        {
          "output_type": "stream",
          "name": "stdout",
          "text": [
            "[[7709    0]\n",
            " [1667 5955]]\n",
            "              precision    recall  f1-score   support\n",
            "\n",
            "           0       0.82      1.00      0.90      7709\n",
            "           1       1.00      0.78      0.88      7622\n",
            "\n",
            "    accuracy                           0.89     15331\n",
            "   macro avg       0.91      0.89      0.89     15331\n",
            "weighted avg       0.91      0.89      0.89     15331\n",
            "\n"
          ]
        }
      ]
    },
    {
      "cell_type": "code",
      "source": [
        "#define metrics\n",
        "y_pred_proba_test = logreg_2.predict_proba(X_test_2)[::,1]\n",
        "fpr_test, tpr_test, _ = metrics.roc_curve(y_test_2,  y_pred_proba_test)\n",
        "auc_test = metrics.roc_auc_score(y_test_2, y_pred_proba_test)\n",
        "\n",
        "y_pred_proba_train = logreg_2.predict_proba(X_train_2)[::,1]\n",
        "fpr_train, tpr_train, _ = metrics.roc_curve(y_train_2,  y_pred_proba_train)\n",
        "auc_train = metrics.roc_auc_score(y_train_2, y_pred_proba_train)\n",
        "\n",
        "\n",
        "#create ROC curve\n",
        "plt.title('Logistic Reg 2 ROC CURVE')\n",
        "plt.plot(fpr_train, tpr_train, 'b', label = 'AUC TRAIN = %0.2f' % auc_train)\n",
        "plt.plot(fpr_test, tpr_test, 'b', label = 'AUC TEST = %0.2f' % auc_test, color = 'red')\n",
        "plt.ylabel('True Positive Rate')\n",
        "plt.xlabel('False Positive Rate')\n",
        "plt.legend(loc=4)\n",
        "plt.plot([0, 1], [0,1], 'r--')\n",
        "plt.ylim([0, 1])\n",
        "plt.show()\n",
        "plt.show()"
      ],
      "metadata": {
        "colab": {
          "base_uri": "https://localhost:8080/",
          "height": 295
        },
        "id": "qOs8MVwhFSU0",
        "outputId": "8f9fb6a9-114b-41e6-b9fd-0688db1cfeb9"
      },
      "execution_count": 337,
      "outputs": [
        {
          "output_type": "display_data",
          "data": {
            "text/plain": [
              "<Figure size 432x288 with 1 Axes>"
            ],
            "image/png": "[encoded data removed]"
          },
          "metadata": {
            "needs_background": "light"
          }
        }
      ]
    },
    {
      "cell_type": "code",
      "source": [
        ""
      ],
      "metadata": {
        "id": "IJ0z-EywLNrA"
      },
      "execution_count": 337,
      "outputs": []
    },
    {
      "cell_type": "markdown",
      "source": [
        "##Test on Original data excluding oversampling data points using Logistic regression model"
      ],
      "metadata": {
        "id": "DqtLdd2fNlrv"
      }
    },
    {
      "cell_type": "code",
      "source": [
        "df_tran_1"
      ],
      "metadata": {
        "id": "eScBAJ5MM2E5",
        "outputId": "cfa31816-7173-466a-ff42-aa6b88cffcd3",
        "colab": {
          "base_uri": "https://localhost:8080/",
          "height": 488
        }
      },
      "execution_count": 338,
      "outputs": [
        {
          "output_type": "execute_result",
          "data": {
            "text/plain": [
              "       age  campaign  pdays  previous  emp.var.rate  cons.price.idx  \\\n",
              "0       56         1    999         0           1.1          93.994   \n",
              "1       57         1    999         0           1.1          93.994   \n",
              "2       37         1    999         0           1.1          93.994   \n",
              "3       40         1    999         0           1.1          93.994   \n",
              "4       56         1    999         0           1.1          93.994   \n",
              "...    ...       ...    ...       ...           ...             ...   \n",
              "41183   73         1    999         0          -1.1          94.767   \n",
              "41184   46         1    999         0          -1.1          94.767   \n",
              "41185   56         2    999         0          -1.1          94.767   \n",
              "41186   44         1    999         0          -1.1          94.767   \n",
              "41187   74         3    999         1          -1.1          94.767   \n",
              "\n",
              "       cons.conf.idx  euribor3m  nr.employed  y  ...  z_edu_new_pre_high  \\\n",
              "0              -36.4      4.857       5191.0  0  ...                   1   \n",
              "1              -36.4      4.857       5191.0  0  ...                   0   \n",
              "2              -36.4      4.857       5191.0  0  ...                   0   \n",
              "3              -36.4      4.857       5191.0  0  ...                   1   \n",
              "4              -36.4      4.857       5191.0  0  ...                   0   \n",
              "...              ...        ...          ... ..  ...                 ...   \n",
              "41183          -50.8      1.028       4963.6  1  ...                   0   \n",
              "41184          -50.8      1.028       4963.6  0  ...                   0   \n",
              "41185          -50.8      1.028       4963.6  0  ...                   0   \n",
              "41186          -50.8      1.028       4963.6  1  ...                   0   \n",
              "41187          -50.8      1.028       4963.6  0  ...                   0   \n",
              "\n",
              "       z_edu_new_unknown  z_job_new_blue_collar  z_job_new_not_working  \\\n",
              "0                      0                      1                      0   \n",
              "1                      0                      1                      0   \n",
              "2                      0                      1                      0   \n",
              "3                      0                      0                      0   \n",
              "4                      0                      1                      0   \n",
              "...                  ...                    ...                    ...   \n",
              "41183                  0                      0                      1   \n",
              "41184                  0                      1                      0   \n",
              "41185                  0                      0                      1   \n",
              "41186                  0                      1                      0   \n",
              "41187                  0                      0                      1   \n",
              "\n",
              "       z_job_new_unknown  z_job_new_white_collar  z_season_fall  \\\n",
              "0                      0                       0              0   \n",
              "1                      0                       0              0   \n",
              "2                      0                       0              0   \n",
              "3                      0                       1              0   \n",
              "4                      0                       0              0   \n",
              "...                  ...                     ...            ...   \n",
              "41183                  0                       0              1   \n",
              "41184                  0                       0              1   \n",
              "41185                  0                       0              1   \n",
              "41186                  0                       0              1   \n",
              "41187                  0                       0              1   \n",
              "\n",
              "       z_season_spring  z_season_summer  z_season_winter  \n",
              "0                    1                0                0  \n",
              "1                    1                0                0  \n",
              "2                    1                0                0  \n",
              "3                    1                0                0  \n",
              "4                    1                0                0  \n",
              "...                ...              ...              ...  \n",
              "41183                0                0                0  \n",
              "41184                0                0                0  \n",
              "41185                0                0                0  \n",
              "41186                0                0                0  \n",
              "41187                0                0                0  \n",
              "\n",
              "[41170 rows x 45 columns]"
            ],
            "text/html": [
              "\n",
              "  <div id=\"df-a98588d8-04ec-4163-8575-c83d59725f30\">\n",
              "    <div class=\"colab-df-container\">\n",
              "      <div>\n",
              "<style scoped>\n",
              "    .dataframe tbody tr th:only-of-type {\n",
              "        vertical-align: middle;\n",
              "    }\n",
              "\n",
              "    .dataframe tbody tr th {\n",
              "        vertical-align: top;\n",
              "    }\n",
              "\n",
              "    .dataframe thead th {\n",
              "        text-align: right;\n",
              "    }\n",
              "</style>\n",
              "<table border=\"1\" class=\"dataframe\">\n",
              "  <thead>\n",
              "    <tr style=\"text-align: right;\">\n",
              "      <th></th>\n",
              "      <th>age</th>\n",
              "      <th>campaign</th>\n",
              "      <th>pdays</th>\n",
              "      <th>previous</th>\n",
              "      <th>emp.var.rate</th>\n",
              "      <th>cons.price.idx</th>\n",
              "      <th>cons.conf.idx</th>\n",
              "      <th>euribor3m</th>\n",
              "      <th>nr.employed</th>\n",
              "      <th>y</th>\n",
              "      <th>...</th>\n",
              "      <th>z_edu_new_pre_high</th>\n",
              "      <th>z_edu_new_unknown</th>\n",
              "      <th>z_job_new_blue_collar</th>\n",
              "      <th>z_job_new_not_working</th>\n",
              "      <th>z_job_new_unknown</th>\n",
              "      <th>z_job_new_white_collar</th>\n",
              "      <th>z_season_fall</th>\n",
              "      <th>z_season_spring</th>\n",
              "      <th>z_season_summer</th>\n",
              "      <th>z_season_winter</th>\n",
              "    </tr>\n",
              "  </thead>\n",
              "  <tbody>\n",
              "    <tr>\n",
              "      <th>0</th>\n",
              "      <td>56</td>\n",
              "      <td>1</td>\n",
              "      <td>999</td>\n",
              "      <td>0</td>\n",
              "      <td>1.1</td>\n",
              "      <td>93.994</td>\n",
              "      <td>-36.4</td>\n",
              "      <td>4.857</td>\n",
              "      <td>5191.0</td>\n",
              "      <td>0</td>\n",
              "      <td>...</td>\n",
              "      <td>1</td>\n",
              "      <td>0</td>\n",
              "      <td>1</td>\n",
              "      <td>0</td>\n",
              "      <td>0</td>\n",
              "      <td>0</td>\n",
              "      <td>0</td>\n",
              "      <td>1</td>\n",
              "      <td>0</td>\n",
              "      <td>0</td>\n",
              "    </tr>\n",
              "    <tr>\n",
              "      <th>1</th>\n",
              "      <td>57</td>\n",
              "      <td>1</td>\n",
              "      <td>999</td>\n",
              "      <td>0</td>\n",
              "      <td>1.1</td>\n",
              "      <td>93.994</td>\n",
              "      <td>-36.4</td>\n",
              "      <td>4.857</td>\n",
              "      <td>5191.0</td>\n",
              "      <td>0</td>\n",
              "      <td>...</td>\n",
              "      <td>0</td>\n",
              "      <td>0</td>\n",
              "      <td>1</td>\n",
              "      <td>0</td>\n",
              "      <td>0</td>\n",
              "      <td>0</td>\n",
              "      <td>0</td>\n",
              "      <td>1</td>\n",
              "      <td>0</td>\n",
              "      <td>0</td>\n",
              "    </tr>\n",
              "    <tr>\n",
              "      <th>2</th>\n",
              "      <td>37</td>\n",
              "      <td>1</td>\n",
              "      <td>999</td>\n",
              "      <td>0</td>\n",
              "      <td>1.1</td>\n",
              "      <td>93.994</td>\n",
              "      <td>-36.4</td>\n",
              "      <td>4.857</td>\n",
              "      <td>5191.0</td>\n",
              "      <td>0</td>\n",
              "      <td>...</td>\n",
              "      <td>0</td>\n",
              "      <td>0</td>\n",
              "      <td>1</td>\n",
              "      <td>0</td>\n",
              "      <td>0</td>\n",
              "      <td>0</td>\n",
              "      <td>0</td>\n",
              "      <td>1</td>\n",
              "      <td>0</td>\n",
              "      <td>0</td>\n",
              "    </tr>\n",
              "    <tr>\n",
              "      <th>3</th>\n",
              "      <td>40</td>\n",
              "      <td>1</td>\n",
              "      <td>999</td>\n",
              "      <td>0</td>\n",
              "      <td>1.1</td>\n",
              "      <td>93.994</td>\n",
              "      <td>-36.4</td>\n",
              "      <td>4.857</td>\n",
              "      <td>5191.0</td>\n",
              "      <td>0</td>\n",
              "      <td>...</td>\n",
              "      <td>1</td>\n",
              "      <td>0</td>\n",
              "      <td>0</td>\n",
              "      <td>0</td>\n",
              "      <td>0</td>\n",
              "      <td>1</td>\n",
              "      <td>0</td>\n",
              "      <td>1</td>\n",
              "      <td>0</td>\n",
              "      <td>0</td>\n",
              "    </tr>\n",
              "    <tr>\n",
              "      <th>4</th>\n",
              "      <td>56</td>\n",
              "      <td>1</td>\n",
              "      <td>999</td>\n",
              "      <td>0</td>\n",
              "      <td>1.1</td>\n",
              "      <td>93.994</td>\n",
              "      <td>-36.4</td>\n",
              "      <td>4.857</td>\n",
              "      <td>5191.0</td>\n",
              "      <td>0</td>\n",
              "      <td>...</td>\n",
              "      <td>0</td>\n",
              "      <td>0</td>\n",
              "      <td>1</td>\n",
              "      <td>0</td>\n",
              "      <td>0</td>\n",
              "      <td>0</td>\n",
              "      <td>0</td>\n",
              "      <td>1</td>\n",
              "      <td>0</td>\n",
              "      <td>0</td>\n",
              "    </tr>\n",
              "    <tr>\n",
              "      <th>...</th>\n",
              "      <td>...</td>\n",
              "      <td>...</td>\n",
              "      <td>...</td>\n",
              "      <td>...</td>\n",
              "      <td>...</td>\n",
              "      <td>...</td>\n",
              "      <td>...</td>\n",
              "      <td>...</td>\n",
              "      <td>...</td>\n",
              "      <td>...</td>\n",
              "      <td>...</td>\n",
              "      <td>...</td>\n",
              "      <td>...</td>\n",
              "      <td>...</td>\n",
              "      <td>...</td>\n",
              "      <td>...</td>\n",
              "      <td>...</td>\n",
              "      <td>...</td>\n",
              "      <td>...</td>\n",
              "      <td>...</td>\n",
              "      <td>...</td>\n",
              "    </tr>\n",
              "    <tr>\n",
              "      <th>41183</th>\n",
              "      <td>73</td>\n",
              "      <td>1</td>\n",
              "      <td>999</td>\n",
              "      <td>0</td>\n",
              "      <td>-1.1</td>\n",
              "      <td>94.767</td>\n",
              "      <td>-50.8</td>\n",
              "      <td>1.028</td>\n",
              "      <td>4963.6</td>\n",
              "      <td>1</td>\n",
              "      <td>...</td>\n",
              "      <td>0</td>\n",
              "      <td>0</td>\n",
              "      <td>0</td>\n",
              "      <td>1</td>\n",
              "      <td>0</td>\n",
              "      <td>0</td>\n",
              "      <td>1</td>\n",
              "      <td>0</td>\n",
              "      <td>0</td>\n",
              "      <td>0</td>\n",
              "    </tr>\n",
              "    <tr>\n",
              "      <th>41184</th>\n",
              "      <td>46</td>\n",
              "      <td>1</td>\n",
              "      <td>999</td>\n",
              "      <td>0</td>\n",
              "      <td>-1.1</td>\n",
              "      <td>94.767</td>\n",
              "      <td>-50.8</td>\n",
              "      <td>1.028</td>\n",
              "      <td>4963.6</td>\n",
              "      <td>0</td>\n",
              "      <td>...</td>\n",
              "      <td>0</td>\n",
              "      <td>0</td>\n",
              "      <td>1</td>\n",
              "      <td>0</td>\n",
              "      <td>0</td>\n",
              "      <td>0</td>\n",
              "      <td>1</td>\n",
              "      <td>0</td>\n",
              "      <td>0</td>\n",
              "      <td>0</td>\n",
              "    </tr>\n",
              "    <tr>\n",
              "      <th>41185</th>\n",
              "      <td>56</td>\n",
              "      <td>2</td>\n",
              "      <td>999</td>\n",
              "      <td>0</td>\n",
              "      <td>-1.1</td>\n",
              "      <td>94.767</td>\n",
              "      <td>-50.8</td>\n",
              "      <td>1.028</td>\n",
              "      <td>4963.6</td>\n",
              "      <td>0</td>\n",
              "      <td>...</td>\n",
              "      <td>0</td>\n",
              "      <td>0</td>\n",
              "      <td>0</td>\n",
              "      <td>1</td>\n",
              "      <td>0</td>\n",
              "      <td>0</td>\n",
              "      <td>1</td>\n",
              "      <td>0</td>\n",
              "      <td>0</td>\n",
              "      <td>0</td>\n",
              "    </tr>\n",
              "    <tr>\n",
              "      <th>41186</th>\n",
              "      <td>44</td>\n",
              "      <td>1</td>\n",
              "      <td>999</td>\n",
              "      <td>0</td>\n",
              "      <td>-1.1</td>\n",
              "      <td>94.767</td>\n",
              "      <td>-50.8</td>\n",
              "      <td>1.028</td>\n",
              "      <td>4963.6</td>\n",
              "      <td>1</td>\n",
              "      <td>...</td>\n",
              "      <td>0</td>\n",
              "      <td>0</td>\n",
              "      <td>1</td>\n",
              "      <td>0</td>\n",
              "      <td>0</td>\n",
              "      <td>0</td>\n",
              "      <td>1</td>\n",
              "      <td>0</td>\n",
              "      <td>0</td>\n",
              "      <td>0</td>\n",
              "    </tr>\n",
              "    <tr>\n",
              "      <th>41187</th>\n",
              "      <td>74</td>\n",
              "      <td>3</td>\n",
              "      <td>999</td>\n",
              "      <td>1</td>\n",
              "      <td>-1.1</td>\n",
              "      <td>94.767</td>\n",
              "      <td>-50.8</td>\n",
              "      <td>1.028</td>\n",
              "      <td>4963.6</td>\n",
              "      <td>0</td>\n",
              "      <td>...</td>\n",
              "      <td>0</td>\n",
              "      <td>0</td>\n",
              "      <td>0</td>\n",
              "      <td>1</td>\n",
              "      <td>0</td>\n",
              "      <td>0</td>\n",
              "      <td>1</td>\n",
              "      <td>0</td>\n",
              "      <td>0</td>\n",
              "      <td>0</td>\n",
              "    </tr>\n",
              "  </tbody>\n",
              "</table>\n",
              "<p>41170 rows × 45 columns</p>\n",
              "</div>\n",
              "      <button class=\"colab-df-convert\" onclick=\"convertToInteractive('df-a98588d8-04ec-4163-8575-c83d59725f30')\"\n",
              "              title=\"Convert this dataframe to an interactive table.\"\n",
              "              style=\"display:none;\">\n",
              "        \n",
              "  <svg xmlns=\"http://www.w3.org/2000/svg\" height=\"24px\"viewBox=\"0 0 24 24\"\n",
              "       width=\"24px\">\n",
              "    <path d=\"M0 0h24v24H0V0z\" fill=\"none\"/>\n",
              "    <path d=\"M18.56 5.44l.94 2.06.94-2.06 2.06-.94-2.06-.94-.94-2.06-.94 2.06-2.06.94zm-11 1L8.5 8.5l.94-2.06 2.06-.94-2.06-.94L8.5 2.5l-.94 2.06-2.06.94zm10 10l.94 2.06.94-2.06 2.06-.94-2.06-.94-.94-2.06-.94 2.06-2.06.94z\"/><path d=\"M17.41 7.96l-1.37-1.37c-.4-.4-.92-.59-1.43-.59-.52 0-1.04.2-1.43.59L10.3 9.45l-7.72 7.72c-.78.78-.78 2.05 0 2.83L4 21.41c.39.39.9.59 1.41.59.51 0 1.02-.2 1.41-.59l7.78-7.78 2.81-2.81c.8-.78.8-2.07 0-2.86zM5.41 20L4 18.59l7.72-7.72 1.47 1.35L5.41 20z\"/>\n",
              "  </svg>\n",
              "      </button>\n",
              "      \n",
              "  <style>\n",
              "    .colab-df-container {\n",
              "      display:flex;\n",
              "      flex-wrap:wrap;\n",
              "      gap: 12px;\n",
              "    }\n",
              "\n",
              "    .colab-df-convert {\n",
              "      background-color: #E8F0FE;\n",
              "      border: none;\n",
              "      border-radius: 50%;\n",
              "      cursor: pointer;\n",
              "      display: none;\n",
              "      fill: #1967D2;\n",
              "      height: 32px;\n",
              "      padding: 0 0 0 0;\n",
              "      width: 32px;\n",
              "    }\n",
              "\n",
              "    .colab-df-convert:hover {\n",
              "      background-color: #E2EBFA;\n",
              "      box-shadow: 0px 1px 2px rgba(60, 64, 67, 0.3), 0px 1px 3px 1px rgba(60, 64, 67, 0.15);\n",
              "      fill: #174EA6;\n",
              "    }\n",
              "\n",
              "    [theme=dark] .colab-df-convert {\n",
              "      background-color: #3B4455;\n",
              "      fill: #D2E3FC;\n",
              "    }\n",
              "\n",
              "    [theme=dark] .colab-df-convert:hover {\n",
              "      background-color: #434B5C;\n",
              "      box-shadow: 0px 1px 3px 1px rgba(0, 0, 0, 0.15);\n",
              "      filter: drop-shadow(0px 1px 2px rgba(0, 0, 0, 0.3));\n",
              "      fill: #FFFFFF;\n",
              "    }\n",
              "  </style>\n",
              "\n",
              "      <script>\n",
              "        const buttonEl =\n",
              "          document.querySelector('#df-a98588d8-04ec-4163-8575-c83d59725f30 button.colab-df-convert');\n",
              "        buttonEl.style.display =\n",
              "          google.colab.kernel.accessAllowed ? 'block' : 'none';\n",
              "\n",
              "        async function convertToInteractive(key) {\n",
              "          const element = document.querySelector('#df-a98588d8-04ec-4163-8575-c83d59725f30');\n",
              "          const dataTable =\n",
              "            await google.colab.kernel.invokeFunction('convertToInteractive',\n",
              "                                                     [key], {});\n",
              "          if (!dataTable) return;\n",
              "\n",
              "          const docLinkHtml = 'Like what you see? Visit the ' +\n",
              "            '<a target=\"_blank\" href=https://colab.research.google.com/notebooks/data_table.ipynb>data table notebook</a>'\n",
              "            + ' to learn more about interactive tables.';\n",
              "          element.innerHTML = '';\n",
              "          dataTable['output_type'] = 'display_data';\n",
              "          await google.colab.output.renderOutput(dataTable, element);\n",
              "          const docLink = document.createElement('div');\n",
              "          docLink.innerHTML = docLinkHtml;\n",
              "          element.appendChild(docLink);\n",
              "        }\n",
              "      </script>\n",
              "    </div>\n",
              "  </div>\n",
              "  "
            ]
          },
          "metadata": {},
          "execution_count": 338
        }
      ]
    },
    {
      "cell_type": "code",
      "source": [
        "After_test_X = df_tran_1[features]\n",
        "After_test_Y = df_tran_1['y']"
      ],
      "metadata": {
        "id": "-0RbsLliM2HS"
      },
      "execution_count": 341,
      "outputs": []
    },
    {
      "cell_type": "code",
      "source": [
        "y_pred_3 = logreg.predict(After_test_X)"
      ],
      "metadata": {
        "id": "0FZzZqSoNBVQ"
      },
      "execution_count": 342,
      "outputs": []
    },
    {
      "cell_type": "code",
      "source": [
        "print('Accuracy of logistic regression classifier on test set: {:.2f}'.format(logreg.score(After_test_X, After_test_Y)))"
      ],
      "metadata": {
        "id": "ukAX0RqmNL2Q",
        "outputId": "13a7e9aa-7a55-47bc-eb1c-f5e40d7ba487",
        "colab": {
          "base_uri": "https://localhost:8080/"
        }
      },
      "execution_count": 343,
      "outputs": [
        {
          "output_type": "stream",
          "name": "stdout",
          "text": [
            "Accuracy of logistic regression classifier on test set: 0.89\n"
          ]
        }
      ]
    }
  ]
}