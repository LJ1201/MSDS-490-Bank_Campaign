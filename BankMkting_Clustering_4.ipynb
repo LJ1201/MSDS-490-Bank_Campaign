{
  "nbformat": 4,
  "nbformat_minor": 0,
  "metadata": {
    "colab": {
      "name": "BankMkting_featureengineering.ipynb",
      "provenance": [],
      "collapsed_sections": [],
      "include_colab_link": true
    },
    "kernelspec": {
      "name": "python3",
      "display_name": "Python 3"
    },
    "language_info": {
      "name": "python"
    }
  },
  "cells": [
    {
      "cell_type": "markdown",
      "metadata": {
        "id": "view-in-github",
        "colab_type": "text"
      },
      "source": [
        "<a href=\"https://colab.research.google.com/github/LJ1201/MSDS-490-Bank_Campaign/blob/main/BankMkting_Clustering_4.ipynb\" target=\"_parent\"><img src=\"https://colab.research.google.com/assets/colab-badge.svg\" alt=\"Open In Colab\"/></a>"
      ]
    },
    {
      "cell_type": "markdown",
      "source": [
        "##Import packages"
      ],
      "metadata": {
        "id": "K_BMC9DkZnvw"
      }
    },
    {
      "cell_type": "code",
      "source": [
        "!pip install gower"
      ],
      "metadata": {
        "id": "m2LsQwrrcC7k",
        "outputId": "a5d0a934-3f2e-4e4b-a405-c459b7a7ab40",
        "colab": {
          "base_uri": "https://localhost:8080/"
        }
      },
      "execution_count": 150,
      "outputs": [
        {
          "output_type": "stream",
          "name": "stdout",
          "text": [
            "Looking in indexes: https://pypi.org/simple, https://us-python.pkg.dev/colab-wheels/public/simple/\n",
            "Requirement already satisfied: gower in /usr/local/lib/python3.7/dist-packages (0.0.5)\n",
            "Requirement already satisfied: numpy in /usr/local/lib/python3.7/dist-packages (from gower) (1.21.6)\n",
            "Requirement already satisfied: scipy in /usr/local/lib/python3.7/dist-packages (from gower) (1.7.3)\n"
          ]
        }
      ]
    },
    {
      "cell_type": "code",
      "execution_count": 151,
      "metadata": {
        "id": "fRRsWXUecCNl"
      },
      "outputs": [],
      "source": [
        "import numpy as np\n",
        "import pandas as pd\n",
        "from sklearn.feature_selection import RFE\n",
        "from sklearn.linear_model import LogisticRegression\n",
        "from sklearn.model_selection import train_test_split\n",
        "from imblearn.over_sampling import SMOTE\n",
        "from sklearn import metrics\n",
        "# Confusion Matrix\n",
        "from sklearn.metrics import confusion_matrix\n",
        "from sklearn.metrics import classification_report\n",
        "from sklearn.metrics import plot_confusion_matrix\n",
        "import statsmodels.api as sm\n",
        "import matplotlib.pyplot as plt\n",
        "import seaborn as sns\n",
        "\n",
        "# Clustering algorithm\n",
        "from sklearn.cluster import AgglomerativeClustering\n",
        "\n",
        "# Rand Index\n",
        "from sklearn.metrics.cluster import rand_score\n",
        "\n",
        "# Encode labels\n",
        "from sklearn import preprocessing\n",
        "\n",
        "\n",
        "import gower"
      ]
    },
    {
      "cell_type": "markdown",
      "source": [
        "## Import dataset\n",
        "\n",
        "Data Source: http://archive.ics.uci.edu/ml/datasets/Bank+Marketing#\n",
        "\n",
        "[Moro et al., 2014] S. Moro, P. Cortez and P. Rita. A Data-Driven Approach to Predict the Success of Bank Telemarketing. Decision Support Systems, Elsevier, 62:22-31, June 2014\n",
        "\n",
        "Data Set Information:\n",
        "\n",
        "The data is related with direct marketing campaigns of a Portuguese banking institution. The marketing campaigns were based on phone calls. Often, more than one contact to the same client was required, in order to access if the product (bank term deposit) would be ('yes') or not ('no') subscribed.\n",
        "\n",
        "There are four datasets:\n",
        "1) bank-additional-full.csv with all examples (41188) and 20 inputs, ordered by date (from May 2008 to November 2010), very close to the data analyzed in [Moro et al., 2014]\n",
        "2) bank-additional.csv with 10% of the examples (4119), randomly selected from 1), and 20 inputs.\n",
        "3) bank-full.csv with all examples and 17 inputs, ordered by date (older version of this dataset with less inputs).\n",
        "4) bank.csv with 10% of the examples and 17 inputs, randomly selected from 3 (older version of this dataset with less inputs).\n",
        "The smallest datasets are provided to test more computationally demanding machine learning algorithms (e.g., SVM).\n",
        "\n",
        "The classification goal is to predict if the client will subscribe (yes/no) a term deposit (variable y).\n",
        "\n",
        "\n",
        "##Attribute Information:\n",
        "\n",
        "Input variables:\n",
        "\n",
        "#Bank client data:\n",
        "\n",
        "1 - age (numeric)\n",
        "\n",
        "2 - job : type of job (categorical: 'admin.','blue-collar','entrepreneur','housemaid','management','retired','self-employed','services','student','technician','unemployed','unknown')\n",
        "\n",
        "3 - marital : marital status (categorical: 'divorced','married','single','unknown'; note: 'divorced' means divorced or widowed)\n",
        "\n",
        "4 - education (categorical: 'basic.4y','basic.6y','basic.9y','high.school','illiterate','professional.course','university.degree','unknown')\n",
        "\n",
        "5 - default: has credit in default? (categorical: 'no','yes','unknown')\n",
        "\n",
        "6 - housing: has housing loan? (categorical: 'no','yes','unknown')\n",
        "\n",
        "7 - loan: has personal loan? (categorical: 'no','yes','unknown')\n",
        "\n",
        "\n",
        "\n",
        "Related with the last contact of the current campaign:\n",
        "\n",
        "8 - contact: contact communication type (categorical: 'cellular','telephone')\n",
        "\n",
        "9 - month: last contact month of year (categorical: 'jan', 'feb', 'mar', ..., 'nov', 'dec')\n",
        "\n",
        "10 - day_of_week: last contact day of the week (categorical: 'mon','tue','wed','thu','fri')\n",
        "\n",
        "11 - duration: last contact duration, in seconds (numeric). Important note: this attribute highly affects the output target (e.g., if duration=0 then y='no'). Yet, the duration is not known before a call is performed. Also, after the end of the call y is obviously known. Thus, this input should only be included for benchmark purposes and should be discarded if the intention is to have a realistic predictive model.\n",
        "\n",
        "#Other attributes:\n",
        "\n",
        "12 - campaign: number of contacts performed during this campaign and for this client (numeric, includes last contact)\n",
        "\n",
        "13 - pdays: number of days that passed by after the client was last contacted from a previous campaign (numeric; 999 means client was not previously contacted)\n",
        "\n",
        "14 - previous: number of contacts performed before this campaign and for this client (numeric)\n",
        "\n",
        "15 - poutcome: outcome of the previous marketing campaign (categorical: 'failure','nonexistent','success')\n",
        "# social and economic context attributes\n",
        "16 - emp.var.rate: employment variation rate - quarterly indicator (numeric)\n",
        "\n",
        "\n",
        "17 - cons.price.idx: consumer price index - monthly indicator (numeric)\n",
        "\n",
        "\n",
        "18 - cons.conf.idx: consumer confidence index - monthly indicator (numeric)\n",
        "\n",
        "\n",
        "19 - euribor3m: euribor 3 month rate - daily indicator (numeric)\n",
        "\n",
        "\n",
        "20 - nr.employed: number of employees - quarterly indicator (numeric)\n",
        "\n",
        "Output variable (desired target):\n",
        "\n",
        "\n",
        "21 - y - has the client subscribed a term deposit? (binary: 'yes','no')\n",
        "\n",
        "\n",
        "\n",
        "\n",
        "#Relevant Papers:\n",
        "\n",
        "S. Moro, P. Cortez and P. Rita. A Data-Driven Approach to Predict the Success of Bank Telemarketing. Decision Support Systems, Elsevier, 62:22-31, June 2014\n",
        "\n",
        "S. Moro, R. Laureano and P. Cortez. Using Data Mining for Bank Direct Marketing: An Application of the CRISP-DM Methodology. In P. Novais et al. (Eds.), Proceedings of the European Simulation and Modelling Conference - ESM'2011, pp. 117-121, Guimaraes, Portugal, October, 2011. EUROSIS. [bank.zip]\n",
        "\n"
      ],
      "metadata": {
        "id": "9iciYz4iZrPf"
      }
    },
    {
      "cell_type": "code",
      "source": [
        "url = 'https://raw.githubusercontent.com/LJ1201/MSDS-490-Bank_Campaign/main/bank-additional-full.csv'\n",
        "data = pd.read_csv(url, sep=';')"
      ],
      "metadata": {
        "id": "1FiIE4lzcJcW"
      },
      "execution_count": 152,
      "outputs": []
    },
    {
      "cell_type": "code",
      "source": [
        "data_full = data.copy()\n",
        "data_full = data.drop(['duration'],axis = 1)"
      ],
      "metadata": {
        "id": "wdmnpsLIbD2N"
      },
      "execution_count": 153,
      "outputs": []
    },
    {
      "cell_type": "code",
      "source": [
        "data_full_tran = data_full.copy()"
      ],
      "metadata": {
        "id": "ZoIFTve4gHj9"
      },
      "execution_count": 154,
      "outputs": []
    },
    {
      "cell_type": "code",
      "source": [
        "np.random.seed(42)"
      ],
      "metadata": {
        "id": "VA1B--YzbD44"
      },
      "execution_count": 155,
      "outputs": []
    },
    {
      "cell_type": "code",
      "source": [
        "data_full_yes = data_full[data_full['y'] == 'yes']\n",
        "data_full_no = data_full[data_full['y'] == 'no']"
      ],
      "metadata": {
        "id": "cSo81JU5U1PY"
      },
      "execution_count": 156,
      "outputs": []
    },
    {
      "cell_type": "code",
      "source": [
        "# data_full_no = data_full_no.sample(frac = 0.15)"
      ],
      "metadata": {
        "id": "NU05hRPUhykC"
      },
      "execution_count": 157,
      "outputs": []
    },
    {
      "cell_type": "code",
      "source": [
        "# data_full_sample = pd.concat([data_full_yes, data_full_no], sort=False)"
      ],
      "metadata": {
        "id": "M575E4QBh4JS"
      },
      "execution_count": 158,
      "outputs": []
    },
    {
      "cell_type": "code",
      "source": [
        "# data_full_sample = data_full_sample.reset_index()\n",
        "# data_full_sample = data_full_sample.drop(['index'], axis = 1)"
      ],
      "metadata": {
        "id": "qDVzg1q4ih-7"
      },
      "execution_count": 159,
      "outputs": []
    },
    {
      "cell_type": "code",
      "source": [
        "# data_full_yes = data_full_yes.reset_index()"
      ],
      "metadata": {
        "id": "51cWptw5htLZ"
      },
      "execution_count": 160,
      "outputs": []
    },
    {
      "cell_type": "code",
      "source": [
        "# data_full_yes= data_full_yes.drop(['index'], axis = 1)"
      ],
      "metadata": {
        "id": "WFlxthbbZBLp"
      },
      "execution_count": 161,
      "outputs": []
    },
    {
      "cell_type": "code",
      "source": [
        "# target = data_full_yes[['y']]\n",
        "# data_no_target = data_full_yes.drop(['y'],axis=1)\n",
        "# data_no_target.head()"
      ],
      "metadata": {
        "id": "DnabYFatbJGF"
      },
      "execution_count": 162,
      "outputs": []
    },
    {
      "cell_type": "code",
      "source": [
        "# target = data_full_sample[['y']]\n",
        "# data_no_target = data_full_sample.drop(['y'],axis=1)\n",
        "# data_no_target.head()"
      ],
      "metadata": {
        "id": "8tKw5a3yaBY-"
      },
      "execution_count": 163,
      "outputs": []
    },
    {
      "cell_type": "code",
      "source": [
        "# data1_no_target = data_full_yes.drop(['y'],axis=1)"
      ],
      "metadata": {
        "id": "Ql8N2gpWbJIq"
      },
      "execution_count": 164,
      "outputs": []
    },
    {
      "cell_type": "markdown",
      "source": [
        "##Numeric Variables Transform"
      ],
      "metadata": {
        "id": "1italCje2OXW"
      }
    },
    {
      "cell_type": "markdown",
      "source": [
        "Age - \n",
        "\n",
        "1 = 10-19\n",
        "2 = 20-30"
      ],
      "metadata": {
        "id": "HAYKh95W2X0_"
      }
    },
    {
      "cell_type": "code",
      "source": [
        "data_full_tran['age'] = data_full_tran['age']//10"
      ],
      "metadata": {
        "id": "1DBQXsV4of_w"
      },
      "execution_count": 165,
      "outputs": []
    },
    {
      "cell_type": "code",
      "source": [
        "data_full_tran.nunique()"
      ],
      "metadata": {
        "colab": {
          "base_uri": "https://localhost:8080/"
        },
        "id": "kgEjLGLxogCk",
        "outputId": "12f58cb4-bbb1-40da-f2bb-67a7a53ac548"
      },
      "execution_count": 166,
      "outputs": [
        {
          "output_type": "execute_result",
          "data": {
            "text/plain": [
              "age                 9\n",
              "job                12\n",
              "marital             4\n",
              "education           8\n",
              "default             3\n",
              "housing             3\n",
              "loan                3\n",
              "contact             2\n",
              "month              10\n",
              "day_of_week         5\n",
              "campaign           42\n",
              "pdays              27\n",
              "previous            8\n",
              "poutcome            3\n",
              "emp.var.rate       10\n",
              "cons.price.idx     26\n",
              "cons.conf.idx      26\n",
              "euribor3m         316\n",
              "nr.employed        11\n",
              "y                   2\n",
              "dtype: int64"
            ]
          },
          "metadata": {},
          "execution_count": 166
        }
      ]
    },
    {
      "cell_type": "code",
      "source": [
        "data_full_tran.head().T"
      ],
      "metadata": {
        "colab": {
          "base_uri": "https://localhost:8080/",
          "height": 677
        },
        "id": "fK5O66SbVUwK",
        "outputId": "818b17df-c466-4e01-f86d-57c18c3c1ef3"
      },
      "execution_count": 167,
      "outputs": [
        {
          "output_type": "execute_result",
          "data": {
            "text/plain": [
              "                          0            1            2            3  \\\n",
              "age                       5            5            3            4   \n",
              "job               housemaid     services     services       admin.   \n",
              "marital             married      married      married      married   \n",
              "education          basic.4y  high.school  high.school     basic.6y   \n",
              "default                  no      unknown           no           no   \n",
              "housing                  no           no          yes           no   \n",
              "loan                     no           no           no           no   \n",
              "contact           telephone    telephone    telephone    telephone   \n",
              "month                   may          may          may          may   \n",
              "day_of_week             mon          mon          mon          mon   \n",
              "campaign                  1            1            1            1   \n",
              "pdays                   999          999          999          999   \n",
              "previous                  0            0            0            0   \n",
              "poutcome        nonexistent  nonexistent  nonexistent  nonexistent   \n",
              "emp.var.rate            1.1          1.1          1.1          1.1   \n",
              "cons.price.idx       93.994       93.994       93.994       93.994   \n",
              "cons.conf.idx         -36.4        -36.4        -36.4        -36.4   \n",
              "euribor3m             4.857        4.857        4.857        4.857   \n",
              "nr.employed          5191.0       5191.0       5191.0       5191.0   \n",
              "y                        no           no           no           no   \n",
              "\n",
              "                          4  \n",
              "age                       5  \n",
              "job                services  \n",
              "marital             married  \n",
              "education       high.school  \n",
              "default                  no  \n",
              "housing                  no  \n",
              "loan                    yes  \n",
              "contact           telephone  \n",
              "month                   may  \n",
              "day_of_week             mon  \n",
              "campaign                  1  \n",
              "pdays                   999  \n",
              "previous                  0  \n",
              "poutcome        nonexistent  \n",
              "emp.var.rate            1.1  \n",
              "cons.price.idx       93.994  \n",
              "cons.conf.idx         -36.4  \n",
              "euribor3m             4.857  \n",
              "nr.employed          5191.0  \n",
              "y                        no  "
            ],
            "text/html": [
              "\n",
              "  <div id=\"df-342a4d39-c4e2-4692-9ae9-3a528c3e07dc\">\n",
              "    <div class=\"colab-df-container\">\n",
              "      <div>\n",
              "<style scoped>\n",
              "    .dataframe tbody tr th:only-of-type {\n",
              "        vertical-align: middle;\n",
              "    }\n",
              "\n",
              "    .dataframe tbody tr th {\n",
              "        vertical-align: top;\n",
              "    }\n",
              "\n",
              "    .dataframe thead th {\n",
              "        text-align: right;\n",
              "    }\n",
              "</style>\n",
              "<table border=\"1\" class=\"dataframe\">\n",
              "  <thead>\n",
              "    <tr style=\"text-align: right;\">\n",
              "      <th></th>\n",
              "      <th>0</th>\n",
              "      <th>1</th>\n",
              "      <th>2</th>\n",
              "      <th>3</th>\n",
              "      <th>4</th>\n",
              "    </tr>\n",
              "  </thead>\n",
              "  <tbody>\n",
              "    <tr>\n",
              "      <th>age</th>\n",
              "      <td>5</td>\n",
              "      <td>5</td>\n",
              "      <td>3</td>\n",
              "      <td>4</td>\n",
              "      <td>5</td>\n",
              "    </tr>\n",
              "    <tr>\n",
              "      <th>job</th>\n",
              "      <td>housemaid</td>\n",
              "      <td>services</td>\n",
              "      <td>services</td>\n",
              "      <td>admin.</td>\n",
              "      <td>services</td>\n",
              "    </tr>\n",
              "    <tr>\n",
              "      <th>marital</th>\n",
              "      <td>married</td>\n",
              "      <td>married</td>\n",
              "      <td>married</td>\n",
              "      <td>married</td>\n",
              "      <td>married</td>\n",
              "    </tr>\n",
              "    <tr>\n",
              "      <th>education</th>\n",
              "      <td>basic.4y</td>\n",
              "      <td>high.school</td>\n",
              "      <td>high.school</td>\n",
              "      <td>basic.6y</td>\n",
              "      <td>high.school</td>\n",
              "    </tr>\n",
              "    <tr>\n",
              "      <th>default</th>\n",
              "      <td>no</td>\n",
              "      <td>unknown</td>\n",
              "      <td>no</td>\n",
              "      <td>no</td>\n",
              "      <td>no</td>\n",
              "    </tr>\n",
              "    <tr>\n",
              "      <th>housing</th>\n",
              "      <td>no</td>\n",
              "      <td>no</td>\n",
              "      <td>yes</td>\n",
              "      <td>no</td>\n",
              "      <td>no</td>\n",
              "    </tr>\n",
              "    <tr>\n",
              "      <th>loan</th>\n",
              "      <td>no</td>\n",
              "      <td>no</td>\n",
              "      <td>no</td>\n",
              "      <td>no</td>\n",
              "      <td>yes</td>\n",
              "    </tr>\n",
              "    <tr>\n",
              "      <th>contact</th>\n",
              "      <td>telephone</td>\n",
              "      <td>telephone</td>\n",
              "      <td>telephone</td>\n",
              "      <td>telephone</td>\n",
              "      <td>telephone</td>\n",
              "    </tr>\n",
              "    <tr>\n",
              "      <th>month</th>\n",
              "      <td>may</td>\n",
              "      <td>may</td>\n",
              "      <td>may</td>\n",
              "      <td>may</td>\n",
              "      <td>may</td>\n",
              "    </tr>\n",
              "    <tr>\n",
              "      <th>day_of_week</th>\n",
              "      <td>mon</td>\n",
              "      <td>mon</td>\n",
              "      <td>mon</td>\n",
              "      <td>mon</td>\n",
              "      <td>mon</td>\n",
              "    </tr>\n",
              "    <tr>\n",
              "      <th>campaign</th>\n",
              "      <td>1</td>\n",
              "      <td>1</td>\n",
              "      <td>1</td>\n",
              "      <td>1</td>\n",
              "      <td>1</td>\n",
              "    </tr>\n",
              "    <tr>\n",
              "      <th>pdays</th>\n",
              "      <td>999</td>\n",
              "      <td>999</td>\n",
              "      <td>999</td>\n",
              "      <td>999</td>\n",
              "      <td>999</td>\n",
              "    </tr>\n",
              "    <tr>\n",
              "      <th>previous</th>\n",
              "      <td>0</td>\n",
              "      <td>0</td>\n",
              "      <td>0</td>\n",
              "      <td>0</td>\n",
              "      <td>0</td>\n",
              "    </tr>\n",
              "    <tr>\n",
              "      <th>poutcome</th>\n",
              "      <td>nonexistent</td>\n",
              "      <td>nonexistent</td>\n",
              "      <td>nonexistent</td>\n",
              "      <td>nonexistent</td>\n",
              "      <td>nonexistent</td>\n",
              "    </tr>\n",
              "    <tr>\n",
              "      <th>emp.var.rate</th>\n",
              "      <td>1.1</td>\n",
              "      <td>1.1</td>\n",
              "      <td>1.1</td>\n",
              "      <td>1.1</td>\n",
              "      <td>1.1</td>\n",
              "    </tr>\n",
              "    <tr>\n",
              "      <th>cons.price.idx</th>\n",
              "      <td>93.994</td>\n",
              "      <td>93.994</td>\n",
              "      <td>93.994</td>\n",
              "      <td>93.994</td>\n",
              "      <td>93.994</td>\n",
              "    </tr>\n",
              "    <tr>\n",
              "      <th>cons.conf.idx</th>\n",
              "      <td>-36.4</td>\n",
              "      <td>-36.4</td>\n",
              "      <td>-36.4</td>\n",
              "      <td>-36.4</td>\n",
              "      <td>-36.4</td>\n",
              "    </tr>\n",
              "    <tr>\n",
              "      <th>euribor3m</th>\n",
              "      <td>4.857</td>\n",
              "      <td>4.857</td>\n",
              "      <td>4.857</td>\n",
              "      <td>4.857</td>\n",
              "      <td>4.857</td>\n",
              "    </tr>\n",
              "    <tr>\n",
              "      <th>nr.employed</th>\n",
              "      <td>5191.0</td>\n",
              "      <td>5191.0</td>\n",
              "      <td>5191.0</td>\n",
              "      <td>5191.0</td>\n",
              "      <td>5191.0</td>\n",
              "    </tr>\n",
              "    <tr>\n",
              "      <th>y</th>\n",
              "      <td>no</td>\n",
              "      <td>no</td>\n",
              "      <td>no</td>\n",
              "      <td>no</td>\n",
              "      <td>no</td>\n",
              "    </tr>\n",
              "  </tbody>\n",
              "</table>\n",
              "</div>\n",
              "      <button class=\"colab-df-convert\" onclick=\"convertToInteractive('df-342a4d39-c4e2-4692-9ae9-3a528c3e07dc')\"\n",
              "              title=\"Convert this dataframe to an interactive table.\"\n",
              "              style=\"display:none;\">\n",
              "        \n",
              "  <svg xmlns=\"http://www.w3.org/2000/svg\" height=\"24px\"viewBox=\"0 0 24 24\"\n",
              "       width=\"24px\">\n",
              "    <path d=\"M0 0h24v24H0V0z\" fill=\"none\"/>\n",
              "    <path d=\"M18.56 5.44l.94 2.06.94-2.06 2.06-.94-2.06-.94-.94-2.06-.94 2.06-2.06.94zm-11 1L8.5 8.5l.94-2.06 2.06-.94-2.06-.94L8.5 2.5l-.94 2.06-2.06.94zm10 10l.94 2.06.94-2.06 2.06-.94-2.06-.94-.94-2.06-.94 2.06-2.06.94z\"/><path d=\"M17.41 7.96l-1.37-1.37c-.4-.4-.92-.59-1.43-.59-.52 0-1.04.2-1.43.59L10.3 9.45l-7.72 7.72c-.78.78-.78 2.05 0 2.83L4 21.41c.39.39.9.59 1.41.59.51 0 1.02-.2 1.41-.59l7.78-7.78 2.81-2.81c.8-.78.8-2.07 0-2.86zM5.41 20L4 18.59l7.72-7.72 1.47 1.35L5.41 20z\"/>\n",
              "  </svg>\n",
              "      </button>\n",
              "      \n",
              "  <style>\n",
              "    .colab-df-container {\n",
              "      display:flex;\n",
              "      flex-wrap:wrap;\n",
              "      gap: 12px;\n",
              "    }\n",
              "\n",
              "    .colab-df-convert {\n",
              "      background-color: #E8F0FE;\n",
              "      border: none;\n",
              "      border-radius: 50%;\n",
              "      cursor: pointer;\n",
              "      display: none;\n",
              "      fill: #1967D2;\n",
              "      height: 32px;\n",
              "      padding: 0 0 0 0;\n",
              "      width: 32px;\n",
              "    }\n",
              "\n",
              "    .colab-df-convert:hover {\n",
              "      background-color: #E2EBFA;\n",
              "      box-shadow: 0px 1px 2px rgba(60, 64, 67, 0.3), 0px 1px 3px 1px rgba(60, 64, 67, 0.15);\n",
              "      fill: #174EA6;\n",
              "    }\n",
              "\n",
              "    [theme=dark] .colab-df-convert {\n",
              "      background-color: #3B4455;\n",
              "      fill: #D2E3FC;\n",
              "    }\n",
              "\n",
              "    [theme=dark] .colab-df-convert:hover {\n",
              "      background-color: #434B5C;\n",
              "      box-shadow: 0px 1px 3px 1px rgba(0, 0, 0, 0.15);\n",
              "      filter: drop-shadow(0px 1px 2px rgba(0, 0, 0, 0.3));\n",
              "      fill: #FFFFFF;\n",
              "    }\n",
              "  </style>\n",
              "\n",
              "      <script>\n",
              "        const buttonEl =\n",
              "          document.querySelector('#df-342a4d39-c4e2-4692-9ae9-3a528c3e07dc button.colab-df-convert');\n",
              "        buttonEl.style.display =\n",
              "          google.colab.kernel.accessAllowed ? 'block' : 'none';\n",
              "\n",
              "        async function convertToInteractive(key) {\n",
              "          const element = document.querySelector('#df-342a4d39-c4e2-4692-9ae9-3a528c3e07dc');\n",
              "          const dataTable =\n",
              "            await google.colab.kernel.invokeFunction('convertToInteractive',\n",
              "                                                     [key], {});\n",
              "          if (!dataTable) return;\n",
              "\n",
              "          const docLinkHtml = 'Like what you see? Visit the ' +\n",
              "            '<a target=\"_blank\" href=https://colab.research.google.com/notebooks/data_table.ipynb>data table notebook</a>'\n",
              "            + ' to learn more about interactive tables.';\n",
              "          element.innerHTML = '';\n",
              "          dataTable['output_type'] = 'display_data';\n",
              "          await google.colab.output.renderOutput(dataTable, element);\n",
              "          const docLink = document.createElement('div');\n",
              "          docLink.innerHTML = docLinkHtml;\n",
              "          element.appendChild(docLink);\n",
              "        }\n",
              "      </script>\n",
              "    </div>\n",
              "  </div>\n",
              "  "
            ]
          },
          "metadata": {},
          "execution_count": 167
        }
      ]
    },
    {
      "cell_type": "markdown",
      "source": [
        "Campaign"
      ],
      "metadata": {
        "id": "JDA9Ajn22NT1"
      }
    },
    {
      "cell_type": "code",
      "source": [
        "# for i in range(0, len(data_full_tran)):\n",
        "#   if data_full_tran['campaign'][i] > 10:\n",
        "#     data_full_tran['campaign'][i] = 11"
      ],
      "metadata": {
        "id": "CjRiGhrpy153"
      },
      "execution_count": 168,
      "outputs": []
    },
    {
      "cell_type": "markdown",
      "source": [
        "Pdays into Pweeks"
      ],
      "metadata": {
        "id": "yDehJgpS91AY"
      }
    },
    {
      "cell_type": "code",
      "source": [
        "# data_full_tran['pweeks'] =data_full_tran['pdays']"
      ],
      "metadata": {
        "id": "-lJjVxZH-WRR"
      },
      "execution_count": 169,
      "outputs": []
    },
    {
      "cell_type": "code",
      "source": [
        "# for i in range(0, len(data_full_tran)):\n",
        "#   if data_full_tran['pweeks'][i] <=28:\n",
        "#     data_full_tran['pweeks'][i] = data_full_tran['pweeks'][i] // 7\n",
        "#   elif data_full_tran['pweeks'][i] >28:\n",
        "#     data_full_tran['pweeks'][i] = 5"
      ],
      "metadata": {
        "id": "KXxZ7xXQ90EI"
      },
      "execution_count": 170,
      "outputs": []
    },
    {
      "cell_type": "code",
      "source": [
        "# data_full_tran = data_full_tran.drop(['pdays'], axis = 1)"
      ],
      "metadata": {
        "id": "1v-KUWNLGiEA"
      },
      "execution_count": 171,
      "outputs": []
    },
    {
      "cell_type": "markdown",
      "source": [
        "euribor3m - euribor 3 month rate"
      ],
      "metadata": {
        "id": "mQHcJMX82sEW"
      }
    },
    {
      "cell_type": "code",
      "source": [
        "# for i in range(0,len(data_full_tran)):\n",
        "#   if (data_full_tran['euribor3m'][i] >= 0) & (data_full_tran['euribor3m'][i] < 1) :\n",
        "#     data_full_tran['euribor3m'][i] ='0 - 1'\n",
        "#   elif (data_full_tran['euribor3m'][i] > 1 ) and (data_full_tran['euribor3m'][i] < 2) :\n",
        "#     data_full_tran['euribor3m'][i] ='1 - 2'\n",
        "#   elif (data_full_tran['euribor3m'][i] >= 2) and (data_full_tran['euribor3m'][i] < 3) :\n",
        "#     data_full_tran['euribor3m'][i] ='2 - 3'\n",
        "#   elif (data_full_tran['euribor3m'][i] >= 3) and (data_full_tran['euribor3m'][i] < 4) :\n",
        "#     data_full_tran['euribor3m'][i] ='3 - 4'\n",
        "#   elif (data_full_tran['euribor3m'][i] >= 4) :\n",
        "#     data_full_tran['euribor3m'][i] ='> 5'\n",
        "\n"
      ],
      "metadata": {
        "id": "J0TK_C-1ogFI"
      },
      "execution_count": 172,
      "outputs": []
    },
    {
      "cell_type": "markdown",
      "source": [
        "cons.price.idx"
      ],
      "metadata": {
        "id": "LpusCq3INNM7"
      }
    },
    {
      "cell_type": "code",
      "source": [
        "# for i in range(0,len(data_full_tran)):\n",
        "#   if (data_full_tran['cons.price.idx'][i] >= 92) & (data_full_tran['cons.price.idx'][i] < 93) :\n",
        "#     data_full_tran['cons.price.idx'][i] = '92 - 93'\n",
        "#   elif (data_full_tran['cons.price.idx'][i] >= 93 ) and (data_full_tran['cons.price.idx'][i] < 94) :\n",
        "#     data_full_tran['cons.price.idx'][i] ='93 - 94'\n",
        "#   elif (data_full_tran['cons.price.idx'][i] >= 94) :\n",
        "#     data_full_tran['cons.price.idx'][i] ='over 94'\n"
      ],
      "metadata": {
        "id": "slPwsZVjMlrg"
      },
      "execution_count": 173,
      "outputs": []
    },
    {
      "cell_type": "markdown",
      "source": [
        "cons.conf.idx"
      ],
      "metadata": {
        "id": "_6yR6sRwNRLI"
      }
    },
    {
      "cell_type": "code",
      "source": [
        "# for i in range(0,len(data_full_tran)):\n",
        "#   if (data_full_tran['cons.conf.idx'][i] >= 40)  :\n",
        "#     data_full_tran['cons.conf.idx'][i] = 'over 40'\n",
        "#   elif (data_full_tran['cons.conf.idx'][i] <40 ) :\n",
        "#     data_full_tran['cons.conf.idx'][i] ='less than 40'\n"
      ],
      "metadata": {
        "id": "d1UEBrbVMgZ_"
      },
      "execution_count": 174,
      "outputs": []
    },
    {
      "cell_type": "code",
      "source": [
        "data_full_tran.nunique()"
      ],
      "metadata": {
        "colab": {
          "base_uri": "https://localhost:8080/"
        },
        "id": "gNiAvbbWqtfC",
        "outputId": "bbf66013-963b-4e1f-a092-8abec3d3a947"
      },
      "execution_count": 175,
      "outputs": [
        {
          "output_type": "execute_result",
          "data": {
            "text/plain": [
              "age                 9\n",
              "job                12\n",
              "marital             4\n",
              "education           8\n",
              "default             3\n",
              "housing             3\n",
              "loan                3\n",
              "contact             2\n",
              "month              10\n",
              "day_of_week         5\n",
              "campaign           42\n",
              "pdays              27\n",
              "previous            8\n",
              "poutcome            3\n",
              "emp.var.rate       10\n",
              "cons.price.idx     26\n",
              "cons.conf.idx      26\n",
              "euribor3m         316\n",
              "nr.employed        11\n",
              "y                   2\n",
              "dtype: int64"
            ]
          },
          "metadata": {},
          "execution_count": 175
        }
      ]
    },
    {
      "cell_type": "code",
      "source": [
        "data_full_tran_test = data_full_tran.copy()"
      ],
      "metadata": {
        "id": "7teuQId-QJwG"
      },
      "execution_count": 254,
      "outputs": []
    },
    {
      "cell_type": "code",
      "source": [
        "data_full_tran_test.shape"
      ],
      "metadata": {
        "colab": {
          "base_uri": "https://localhost:8080/"
        },
        "id": "XuIykDqpRH2l",
        "outputId": "1c8a2071-2a04-445c-f2ce-207df59158b7"
      },
      "execution_count": 177,
      "outputs": [
        {
          "output_type": "execute_result",
          "data": {
            "text/plain": [
              "(41188, 20)"
            ]
          },
          "metadata": {},
          "execution_count": 177
        }
      ]
    },
    {
      "cell_type": "code",
      "source": [
        "data_full_tran_test.head()"
      ],
      "metadata": {
        "id": "-NuUrWdhoFew",
        "outputId": "3b37cb79-53b9-4e67-82a1-5a5775314d82",
        "colab": {
          "base_uri": "https://localhost:8080/",
          "height": 206
        }
      },
      "execution_count": 178,
      "outputs": [
        {
          "output_type": "execute_result",
          "data": {
            "text/plain": [
              "   age        job  marital    education  default housing loan    contact  \\\n",
              "0    5  housemaid  married     basic.4y       no      no   no  telephone   \n",
              "1    5   services  married  high.school  unknown      no   no  telephone   \n",
              "2    3   services  married  high.school       no     yes   no  telephone   \n",
              "3    4     admin.  married     basic.6y       no      no   no  telephone   \n",
              "4    5   services  married  high.school       no      no  yes  telephone   \n",
              "\n",
              "  month day_of_week  campaign  pdays  previous     poutcome  emp.var.rate  \\\n",
              "0   may         mon         1    999         0  nonexistent           1.1   \n",
              "1   may         mon         1    999         0  nonexistent           1.1   \n",
              "2   may         mon         1    999         0  nonexistent           1.1   \n",
              "3   may         mon         1    999         0  nonexistent           1.1   \n",
              "4   may         mon         1    999         0  nonexistent           1.1   \n",
              "\n",
              "   cons.price.idx  cons.conf.idx  euribor3m  nr.employed   y  \n",
              "0          93.994          -36.4      4.857       5191.0  no  \n",
              "1          93.994          -36.4      4.857       5191.0  no  \n",
              "2          93.994          -36.4      4.857       5191.0  no  \n",
              "3          93.994          -36.4      4.857       5191.0  no  \n",
              "4          93.994          -36.4      4.857       5191.0  no  "
            ],
            "text/html": [
              "\n",
              "  <div id=\"df-fad5b72e-6020-42ba-9ff5-d3975276d452\">\n",
              "    <div class=\"colab-df-container\">\n",
              "      <div>\n",
              "<style scoped>\n",
              "    .dataframe tbody tr th:only-of-type {\n",
              "        vertical-align: middle;\n",
              "    }\n",
              "\n",
              "    .dataframe tbody tr th {\n",
              "        vertical-align: top;\n",
              "    }\n",
              "\n",
              "    .dataframe thead th {\n",
              "        text-align: right;\n",
              "    }\n",
              "</style>\n",
              "<table border=\"1\" class=\"dataframe\">\n",
              "  <thead>\n",
              "    <tr style=\"text-align: right;\">\n",
              "      <th></th>\n",
              "      <th>age</th>\n",
              "      <th>job</th>\n",
              "      <th>marital</th>\n",
              "      <th>education</th>\n",
              "      <th>default</th>\n",
              "      <th>housing</th>\n",
              "      <th>loan</th>\n",
              "      <th>contact</th>\n",
              "      <th>month</th>\n",
              "      <th>day_of_week</th>\n",
              "      <th>campaign</th>\n",
              "      <th>pdays</th>\n",
              "      <th>previous</th>\n",
              "      <th>poutcome</th>\n",
              "      <th>emp.var.rate</th>\n",
              "      <th>cons.price.idx</th>\n",
              "      <th>cons.conf.idx</th>\n",
              "      <th>euribor3m</th>\n",
              "      <th>nr.employed</th>\n",
              "      <th>y</th>\n",
              "    </tr>\n",
              "  </thead>\n",
              "  <tbody>\n",
              "    <tr>\n",
              "      <th>0</th>\n",
              "      <td>5</td>\n",
              "      <td>housemaid</td>\n",
              "      <td>married</td>\n",
              "      <td>basic.4y</td>\n",
              "      <td>no</td>\n",
              "      <td>no</td>\n",
              "      <td>no</td>\n",
              "      <td>telephone</td>\n",
              "      <td>may</td>\n",
              "      <td>mon</td>\n",
              "      <td>1</td>\n",
              "      <td>999</td>\n",
              "      <td>0</td>\n",
              "      <td>nonexistent</td>\n",
              "      <td>1.1</td>\n",
              "      <td>93.994</td>\n",
              "      <td>-36.4</td>\n",
              "      <td>4.857</td>\n",
              "      <td>5191.0</td>\n",
              "      <td>no</td>\n",
              "    </tr>\n",
              "    <tr>\n",
              "      <th>1</th>\n",
              "      <td>5</td>\n",
              "      <td>services</td>\n",
              "      <td>married</td>\n",
              "      <td>high.school</td>\n",
              "      <td>unknown</td>\n",
              "      <td>no</td>\n",
              "      <td>no</td>\n",
              "      <td>telephone</td>\n",
              "      <td>may</td>\n",
              "      <td>mon</td>\n",
              "      <td>1</td>\n",
              "      <td>999</td>\n",
              "      <td>0</td>\n",
              "      <td>nonexistent</td>\n",
              "      <td>1.1</td>\n",
              "      <td>93.994</td>\n",
              "      <td>-36.4</td>\n",
              "      <td>4.857</td>\n",
              "      <td>5191.0</td>\n",
              "      <td>no</td>\n",
              "    </tr>\n",
              "    <tr>\n",
              "      <th>2</th>\n",
              "      <td>3</td>\n",
              "      <td>services</td>\n",
              "      <td>married</td>\n",
              "      <td>high.school</td>\n",
              "      <td>no</td>\n",
              "      <td>yes</td>\n",
              "      <td>no</td>\n",
              "      <td>telephone</td>\n",
              "      <td>may</td>\n",
              "      <td>mon</td>\n",
              "      <td>1</td>\n",
              "      <td>999</td>\n",
              "      <td>0</td>\n",
              "      <td>nonexistent</td>\n",
              "      <td>1.1</td>\n",
              "      <td>93.994</td>\n",
              "      <td>-36.4</td>\n",
              "      <td>4.857</td>\n",
              "      <td>5191.0</td>\n",
              "      <td>no</td>\n",
              "    </tr>\n",
              "    <tr>\n",
              "      <th>3</th>\n",
              "      <td>4</td>\n",
              "      <td>admin.</td>\n",
              "      <td>married</td>\n",
              "      <td>basic.6y</td>\n",
              "      <td>no</td>\n",
              "      <td>no</td>\n",
              "      <td>no</td>\n",
              "      <td>telephone</td>\n",
              "      <td>may</td>\n",
              "      <td>mon</td>\n",
              "      <td>1</td>\n",
              "      <td>999</td>\n",
              "      <td>0</td>\n",
              "      <td>nonexistent</td>\n",
              "      <td>1.1</td>\n",
              "      <td>93.994</td>\n",
              "      <td>-36.4</td>\n",
              "      <td>4.857</td>\n",
              "      <td>5191.0</td>\n",
              "      <td>no</td>\n",
              "    </tr>\n",
              "    <tr>\n",
              "      <th>4</th>\n",
              "      <td>5</td>\n",
              "      <td>services</td>\n",
              "      <td>married</td>\n",
              "      <td>high.school</td>\n",
              "      <td>no</td>\n",
              "      <td>no</td>\n",
              "      <td>yes</td>\n",
              "      <td>telephone</td>\n",
              "      <td>may</td>\n",
              "      <td>mon</td>\n",
              "      <td>1</td>\n",
              "      <td>999</td>\n",
              "      <td>0</td>\n",
              "      <td>nonexistent</td>\n",
              "      <td>1.1</td>\n",
              "      <td>93.994</td>\n",
              "      <td>-36.4</td>\n",
              "      <td>4.857</td>\n",
              "      <td>5191.0</td>\n",
              "      <td>no</td>\n",
              "    </tr>\n",
              "  </tbody>\n",
              "</table>\n",
              "</div>\n",
              "      <button class=\"colab-df-convert\" onclick=\"convertToInteractive('df-fad5b72e-6020-42ba-9ff5-d3975276d452')\"\n",
              "              title=\"Convert this dataframe to an interactive table.\"\n",
              "              style=\"display:none;\">\n",
              "        \n",
              "  <svg xmlns=\"http://www.w3.org/2000/svg\" height=\"24px\"viewBox=\"0 0 24 24\"\n",
              "       width=\"24px\">\n",
              "    <path d=\"M0 0h24v24H0V0z\" fill=\"none\"/>\n",
              "    <path d=\"M18.56 5.44l.94 2.06.94-2.06 2.06-.94-2.06-.94-.94-2.06-.94 2.06-2.06.94zm-11 1L8.5 8.5l.94-2.06 2.06-.94-2.06-.94L8.5 2.5l-.94 2.06-2.06.94zm10 10l.94 2.06.94-2.06 2.06-.94-2.06-.94-.94-2.06-.94 2.06-2.06.94z\"/><path d=\"M17.41 7.96l-1.37-1.37c-.4-.4-.92-.59-1.43-.59-.52 0-1.04.2-1.43.59L10.3 9.45l-7.72 7.72c-.78.78-.78 2.05 0 2.83L4 21.41c.39.39.9.59 1.41.59.51 0 1.02-.2 1.41-.59l7.78-7.78 2.81-2.81c.8-.78.8-2.07 0-2.86zM5.41 20L4 18.59l7.72-7.72 1.47 1.35L5.41 20z\"/>\n",
              "  </svg>\n",
              "      </button>\n",
              "      \n",
              "  <style>\n",
              "    .colab-df-container {\n",
              "      display:flex;\n",
              "      flex-wrap:wrap;\n",
              "      gap: 12px;\n",
              "    }\n",
              "\n",
              "    .colab-df-convert {\n",
              "      background-color: #E8F0FE;\n",
              "      border: none;\n",
              "      border-radius: 50%;\n",
              "      cursor: pointer;\n",
              "      display: none;\n",
              "      fill: #1967D2;\n",
              "      height: 32px;\n",
              "      padding: 0 0 0 0;\n",
              "      width: 32px;\n",
              "    }\n",
              "\n",
              "    .colab-df-convert:hover {\n",
              "      background-color: #E2EBFA;\n",
              "      box-shadow: 0px 1px 2px rgba(60, 64, 67, 0.3), 0px 1px 3px 1px rgba(60, 64, 67, 0.15);\n",
              "      fill: #174EA6;\n",
              "    }\n",
              "\n",
              "    [theme=dark] .colab-df-convert {\n",
              "      background-color: #3B4455;\n",
              "      fill: #D2E3FC;\n",
              "    }\n",
              "\n",
              "    [theme=dark] .colab-df-convert:hover {\n",
              "      background-color: #434B5C;\n",
              "      box-shadow: 0px 1px 3px 1px rgba(0, 0, 0, 0.15);\n",
              "      filter: drop-shadow(0px 1px 2px rgba(0, 0, 0, 0.3));\n",
              "      fill: #FFFFFF;\n",
              "    }\n",
              "  </style>\n",
              "\n",
              "      <script>\n",
              "        const buttonEl =\n",
              "          document.querySelector('#df-fad5b72e-6020-42ba-9ff5-d3975276d452 button.colab-df-convert');\n",
              "        buttonEl.style.display =\n",
              "          google.colab.kernel.accessAllowed ? 'block' : 'none';\n",
              "\n",
              "        async function convertToInteractive(key) {\n",
              "          const element = document.querySelector('#df-fad5b72e-6020-42ba-9ff5-d3975276d452');\n",
              "          const dataTable =\n",
              "            await google.colab.kernel.invokeFunction('convertToInteractive',\n",
              "                                                     [key], {});\n",
              "          if (!dataTable) return;\n",
              "\n",
              "          const docLinkHtml = 'Like what you see? Visit the ' +\n",
              "            '<a target=\"_blank\" href=https://colab.research.google.com/notebooks/data_table.ipynb>data table notebook</a>'\n",
              "            + ' to learn more about interactive tables.';\n",
              "          element.innerHTML = '';\n",
              "          dataTable['output_type'] = 'display_data';\n",
              "          await google.colab.output.renderOutput(dataTable, element);\n",
              "          const docLink = document.createElement('div');\n",
              "          docLink.innerHTML = docLinkHtml;\n",
              "          element.appendChild(docLink);\n",
              "        }\n",
              "      </script>\n",
              "    </div>\n",
              "  </div>\n",
              "  "
            ]
          },
          "metadata": {},
          "execution_count": 178
        }
      ]
    },
    {
      "cell_type": "code",
      "source": [
        "data_full_tran_test.dtypes"
      ],
      "metadata": {
        "id": "jXGCGSUkqGor",
        "outputId": "2890d215-5ee2-4562-a419-c4de24dafc84",
        "colab": {
          "base_uri": "https://localhost:8080/"
        }
      },
      "execution_count": 179,
      "outputs": [
        {
          "output_type": "execute_result",
          "data": {
            "text/plain": [
              "age                 int64\n",
              "job                object\n",
              "marital            object\n",
              "education          object\n",
              "default            object\n",
              "housing            object\n",
              "loan               object\n",
              "contact            object\n",
              "month              object\n",
              "day_of_week        object\n",
              "campaign            int64\n",
              "pdays               int64\n",
              "previous            int64\n",
              "poutcome           object\n",
              "emp.var.rate      float64\n",
              "cons.price.idx    float64\n",
              "cons.conf.idx     float64\n",
              "euribor3m         float64\n",
              "nr.employed       float64\n",
              "y                  object\n",
              "dtype: object"
            ]
          },
          "metadata": {},
          "execution_count": 179
        }
      ]
    },
    {
      "cell_type": "code",
      "source": [
        "dt=data_full_tran_test.dtypes\n",
        "objList = []\n",
        "for i in dt.index :\n",
        "    if dt[i] in ([\"object\"]) : objList.append( i )\n"
      ],
      "metadata": {
        "id": "LULhsfHbrt8W"
      },
      "execution_count": 194,
      "outputs": []
    },
    {
      "cell_type": "code",
      "source": [
        "objList.remove('y')"
      ],
      "metadata": {
        "id": "SMJDL3f5rt_I"
      },
      "execution_count": 195,
      "outputs": []
    },
    {
      "cell_type": "code",
      "source": [
        "objList"
      ],
      "metadata": {
        "id": "S-1mIFE3sucl",
        "outputId": "07699554-1996-436f-f31a-23017b70abc4",
        "colab": {
          "base_uri": "https://localhost:8080/"
        }
      },
      "execution_count": 196,
      "outputs": [
        {
          "output_type": "execute_result",
          "data": {
            "text/plain": [
              "['job',\n",
              " 'marital',\n",
              " 'education',\n",
              " 'default',\n",
              " 'housing',\n",
              " 'loan',\n",
              " 'contact',\n",
              " 'month',\n",
              " 'day_of_week',\n",
              " 'poutcome']"
            ]
          },
          "metadata": {},
          "execution_count": 196
        }
      ]
    },
    {
      "cell_type": "code",
      "source": [
        "for i in objList:\n",
        "  data_full_tran_test[i] = data_full_tran_test[i].astype('category')"
      ],
      "metadata": {
        "id": "oxz4PdVxrmlq"
      },
      "execution_count": 197,
      "outputs": []
    },
    {
      "cell_type": "code",
      "source": [
        "for i in objList:\n",
        "  data_full_tran_test[i] = data_full_tran_test[i].cat.codes"
      ],
      "metadata": {
        "id": "432kj_4ju0OT"
      },
      "execution_count": 200,
      "outputs": []
    },
    {
      "cell_type": "code",
      "source": [
        "data_full_tran_test.dtypes"
      ],
      "metadata": {
        "id": "JrdXMsJzuumq",
        "outputId": "345118ba-691b-406a-f2ff-a5b24058e746",
        "colab": {
          "base_uri": "https://localhost:8080/"
        }
      },
      "execution_count": 199,
      "outputs": [
        {
          "output_type": "execute_result",
          "data": {
            "text/plain": [
              "age                  int64\n",
              "job               category\n",
              "marital           category\n",
              "education         category\n",
              "default           category\n",
              "housing           category\n",
              "loan              category\n",
              "contact           category\n",
              "month             category\n",
              "day_of_week       category\n",
              "campaign             int64\n",
              "pdays                int64\n",
              "previous             int64\n",
              "poutcome          category\n",
              "emp.var.rate       float64\n",
              "cons.price.idx     float64\n",
              "cons.conf.idx      float64\n",
              "euribor3m          float64\n",
              "nr.employed        float64\n",
              "y                   object\n",
              "dtype: object"
            ]
          },
          "metadata": {},
          "execution_count": 199
        }
      ]
    },
    {
      "cell_type": "code",
      "source": [
        "data_full_tran_test_0 = data_full_tran_test[data_full_tran_test['y'] ==\"no\"]\n",
        "data_full_tran_test_1 = data_full_tran_test[data_full_tran_test['y'] == \"yes\"]\n"
      ],
      "metadata": {
        "id": "FmQRl0Yagu8N"
      },
      "execution_count": 201,
      "outputs": []
    },
    {
      "cell_type": "code",
      "source": [
        "data_full_tran_test_all = data_full_tran_test.drop(['y'],axis = 1)"
      ],
      "metadata": {
        "id": "a-AZN8yF2iYv"
      },
      "execution_count": 228,
      "outputs": []
    },
    {
      "cell_type": "code",
      "source": [
        "data_full_tran_test_0 = data_full_tran_test_0.drop(['y'],axis = 1)\n",
        "data_full_tran_test_1 = data_full_tran_test_1.drop(['y'],axis = 1)"
      ],
      "metadata": {
        "id": "OJYFJebFrYQy",
        "outputId": "3fffd1e7-7de9-4ede-f322-4a96ed13f6d3",
        "colab": {
          "base_uri": "https://localhost:8080/",
          "height": 329
        }
      },
      "execution_count": 229,
      "outputs": [
        {
          "output_type": "error",
          "ename": "KeyError",
          "evalue": "ignored",
          "traceback": [
            "\u001b[0;31m---------------------------------------------------------------------------\u001b[0m",
            "\u001b[0;31mKeyError\u001b[0m                                  Traceback (most recent call last)",
            "\u001b[0;32m<ipython-input-229-cd8faddb774e>\u001b[0m in \u001b[0;36m<module>\u001b[0;34m()\u001b[0m\n\u001b[0;32m----> 1\u001b[0;31m \u001b[0mdata_full_tran_test_0\u001b[0m \u001b[0;34m=\u001b[0m \u001b[0mdata_full_tran_test_0\u001b[0m\u001b[0;34m.\u001b[0m\u001b[0mdrop\u001b[0m\u001b[0;34m(\u001b[0m\u001b[0;34m[\u001b[0m\u001b[0;34m'y'\u001b[0m\u001b[0;34m]\u001b[0m\u001b[0;34m,\u001b[0m\u001b[0maxis\u001b[0m \u001b[0;34m=\u001b[0m \u001b[0;36m1\u001b[0m\u001b[0;34m)\u001b[0m\u001b[0;34m\u001b[0m\u001b[0;34m\u001b[0m\u001b[0m\n\u001b[0m\u001b[1;32m      2\u001b[0m \u001b[0mdata_full_tran_test_1\u001b[0m \u001b[0;34m=\u001b[0m \u001b[0mdata_full_tran_test_1\u001b[0m\u001b[0;34m.\u001b[0m\u001b[0mdrop\u001b[0m\u001b[0;34m(\u001b[0m\u001b[0;34m[\u001b[0m\u001b[0;34m'y'\u001b[0m\u001b[0;34m]\u001b[0m\u001b[0;34m,\u001b[0m\u001b[0maxis\u001b[0m \u001b[0;34m=\u001b[0m \u001b[0;36m1\u001b[0m\u001b[0;34m)\u001b[0m\u001b[0;34m\u001b[0m\u001b[0;34m\u001b[0m\u001b[0m\n",
            "\u001b[0;32m/usr/local/lib/python3.7/dist-packages/pandas/util/_decorators.py\u001b[0m in \u001b[0;36mwrapper\u001b[0;34m(*args, **kwargs)\u001b[0m\n\u001b[1;32m    309\u001b[0m                     \u001b[0mstacklevel\u001b[0m\u001b[0;34m=\u001b[0m\u001b[0mstacklevel\u001b[0m\u001b[0;34m,\u001b[0m\u001b[0;34m\u001b[0m\u001b[0;34m\u001b[0m\u001b[0m\n\u001b[1;32m    310\u001b[0m                 )\n\u001b[0;32m--> 311\u001b[0;31m             \u001b[0;32mreturn\u001b[0m \u001b[0mfunc\u001b[0m\u001b[0;34m(\u001b[0m\u001b[0;34m*\u001b[0m\u001b[0margs\u001b[0m\u001b[0;34m,\u001b[0m \u001b[0;34m**\u001b[0m\u001b[0mkwargs\u001b[0m\u001b[0;34m)\u001b[0m\u001b[0;34m\u001b[0m\u001b[0;34m\u001b[0m\u001b[0m\n\u001b[0m\u001b[1;32m    312\u001b[0m \u001b[0;34m\u001b[0m\u001b[0m\n\u001b[1;32m    313\u001b[0m         \u001b[0;32mreturn\u001b[0m \u001b[0mwrapper\u001b[0m\u001b[0;34m\u001b[0m\u001b[0;34m\u001b[0m\u001b[0m\n",
            "\u001b[0;32m/usr/local/lib/python3.7/dist-packages/pandas/core/frame.py\u001b[0m in \u001b[0;36mdrop\u001b[0;34m(self, labels, axis, index, columns, level, inplace, errors)\u001b[0m\n\u001b[1;32m   4911\u001b[0m             \u001b[0mlevel\u001b[0m\u001b[0;34m=\u001b[0m\u001b[0mlevel\u001b[0m\u001b[0;34m,\u001b[0m\u001b[0;34m\u001b[0m\u001b[0;34m\u001b[0m\u001b[0m\n\u001b[1;32m   4912\u001b[0m             \u001b[0minplace\u001b[0m\u001b[0;34m=\u001b[0m\u001b[0minplace\u001b[0m\u001b[0;34m,\u001b[0m\u001b[0;34m\u001b[0m\u001b[0;34m\u001b[0m\u001b[0m\n\u001b[0;32m-> 4913\u001b[0;31m             \u001b[0merrors\u001b[0m\u001b[0;34m=\u001b[0m\u001b[0merrors\u001b[0m\u001b[0;34m,\u001b[0m\u001b[0;34m\u001b[0m\u001b[0;34m\u001b[0m\u001b[0m\n\u001b[0m\u001b[1;32m   4914\u001b[0m         )\n\u001b[1;32m   4915\u001b[0m \u001b[0;34m\u001b[0m\u001b[0m\n",
            "\u001b[0;32m/usr/local/lib/python3.7/dist-packages/pandas/core/generic.py\u001b[0m in \u001b[0;36mdrop\u001b[0;34m(self, labels, axis, index, columns, level, inplace, errors)\u001b[0m\n\u001b[1;32m   4148\u001b[0m         \u001b[0;32mfor\u001b[0m \u001b[0maxis\u001b[0m\u001b[0;34m,\u001b[0m \u001b[0mlabels\u001b[0m \u001b[0;32min\u001b[0m \u001b[0maxes\u001b[0m\u001b[0;34m.\u001b[0m\u001b[0mitems\u001b[0m\u001b[0;34m(\u001b[0m\u001b[0;34m)\u001b[0m\u001b[0;34m:\u001b[0m\u001b[0;34m\u001b[0m\u001b[0;34m\u001b[0m\u001b[0m\n\u001b[1;32m   4149\u001b[0m             \u001b[0;32mif\u001b[0m \u001b[0mlabels\u001b[0m \u001b[0;32mis\u001b[0m \u001b[0;32mnot\u001b[0m \u001b[0;32mNone\u001b[0m\u001b[0;34m:\u001b[0m\u001b[0;34m\u001b[0m\u001b[0;34m\u001b[0m\u001b[0m\n\u001b[0;32m-> 4150\u001b[0;31m                 \u001b[0mobj\u001b[0m \u001b[0;34m=\u001b[0m \u001b[0mobj\u001b[0m\u001b[0;34m.\u001b[0m\u001b[0m_drop_axis\u001b[0m\u001b[0;34m(\u001b[0m\u001b[0mlabels\u001b[0m\u001b[0;34m,\u001b[0m \u001b[0maxis\u001b[0m\u001b[0;34m,\u001b[0m \u001b[0mlevel\u001b[0m\u001b[0;34m=\u001b[0m\u001b[0mlevel\u001b[0m\u001b[0;34m,\u001b[0m \u001b[0merrors\u001b[0m\u001b[0;34m=\u001b[0m\u001b[0merrors\u001b[0m\u001b[0;34m)\u001b[0m\u001b[0;34m\u001b[0m\u001b[0;34m\u001b[0m\u001b[0m\n\u001b[0m\u001b[1;32m   4151\u001b[0m \u001b[0;34m\u001b[0m\u001b[0m\n\u001b[1;32m   4152\u001b[0m         \u001b[0;32mif\u001b[0m \u001b[0minplace\u001b[0m\u001b[0;34m:\u001b[0m\u001b[0;34m\u001b[0m\u001b[0;34m\u001b[0m\u001b[0m\n",
            "\u001b[0;32m/usr/local/lib/python3.7/dist-packages/pandas/core/generic.py\u001b[0m in \u001b[0;36m_drop_axis\u001b[0;34m(self, labels, axis, level, errors)\u001b[0m\n\u001b[1;32m   4183\u001b[0m                 \u001b[0mnew_axis\u001b[0m \u001b[0;34m=\u001b[0m \u001b[0maxis\u001b[0m\u001b[0;34m.\u001b[0m\u001b[0mdrop\u001b[0m\u001b[0;34m(\u001b[0m\u001b[0mlabels\u001b[0m\u001b[0;34m,\u001b[0m \u001b[0mlevel\u001b[0m\u001b[0;34m=\u001b[0m\u001b[0mlevel\u001b[0m\u001b[0;34m,\u001b[0m \u001b[0merrors\u001b[0m\u001b[0;34m=\u001b[0m\u001b[0merrors\u001b[0m\u001b[0;34m)\u001b[0m\u001b[0;34m\u001b[0m\u001b[0;34m\u001b[0m\u001b[0m\n\u001b[1;32m   4184\u001b[0m             \u001b[0;32melse\u001b[0m\u001b[0;34m:\u001b[0m\u001b[0;34m\u001b[0m\u001b[0;34m\u001b[0m\u001b[0m\n\u001b[0;32m-> 4185\u001b[0;31m                 \u001b[0mnew_axis\u001b[0m \u001b[0;34m=\u001b[0m \u001b[0maxis\u001b[0m\u001b[0;34m.\u001b[0m\u001b[0mdrop\u001b[0m\u001b[0;34m(\u001b[0m\u001b[0mlabels\u001b[0m\u001b[0;34m,\u001b[0m \u001b[0merrors\u001b[0m\u001b[0;34m=\u001b[0m\u001b[0merrors\u001b[0m\u001b[0;34m)\u001b[0m\u001b[0;34m\u001b[0m\u001b[0;34m\u001b[0m\u001b[0m\n\u001b[0m\u001b[1;32m   4186\u001b[0m             \u001b[0mresult\u001b[0m \u001b[0;34m=\u001b[0m \u001b[0mself\u001b[0m\u001b[0;34m.\u001b[0m\u001b[0mreindex\u001b[0m\u001b[0;34m(\u001b[0m\u001b[0;34m**\u001b[0m\u001b[0;34m{\u001b[0m\u001b[0maxis_name\u001b[0m\u001b[0;34m:\u001b[0m \u001b[0mnew_axis\u001b[0m\u001b[0;34m}\u001b[0m\u001b[0;34m)\u001b[0m\u001b[0;34m\u001b[0m\u001b[0;34m\u001b[0m\u001b[0m\n\u001b[1;32m   4187\u001b[0m \u001b[0;34m\u001b[0m\u001b[0m\n",
            "\u001b[0;32m/usr/local/lib/python3.7/dist-packages/pandas/core/indexes/base.py\u001b[0m in \u001b[0;36mdrop\u001b[0;34m(self, labels, errors)\u001b[0m\n\u001b[1;32m   6015\u001b[0m         \u001b[0;32mif\u001b[0m \u001b[0mmask\u001b[0m\u001b[0;34m.\u001b[0m\u001b[0many\u001b[0m\u001b[0;34m(\u001b[0m\u001b[0;34m)\u001b[0m\u001b[0;34m:\u001b[0m\u001b[0;34m\u001b[0m\u001b[0;34m\u001b[0m\u001b[0m\n\u001b[1;32m   6016\u001b[0m             \u001b[0;32mif\u001b[0m \u001b[0merrors\u001b[0m \u001b[0;34m!=\u001b[0m \u001b[0;34m\"ignore\"\u001b[0m\u001b[0;34m:\u001b[0m\u001b[0;34m\u001b[0m\u001b[0;34m\u001b[0m\u001b[0m\n\u001b[0;32m-> 6017\u001b[0;31m                 \u001b[0;32mraise\u001b[0m \u001b[0mKeyError\u001b[0m\u001b[0;34m(\u001b[0m\u001b[0;34mf\"{labels[mask]} not found in axis\"\u001b[0m\u001b[0;34m)\u001b[0m\u001b[0;34m\u001b[0m\u001b[0;34m\u001b[0m\u001b[0m\n\u001b[0m\u001b[1;32m   6018\u001b[0m             \u001b[0mindexer\u001b[0m \u001b[0;34m=\u001b[0m \u001b[0mindexer\u001b[0m\u001b[0;34m[\u001b[0m\u001b[0;34m~\u001b[0m\u001b[0mmask\u001b[0m\u001b[0;34m]\u001b[0m\u001b[0;34m\u001b[0m\u001b[0;34m\u001b[0m\u001b[0m\n\u001b[1;32m   6019\u001b[0m         \u001b[0;32mreturn\u001b[0m \u001b[0mself\u001b[0m\u001b[0;34m.\u001b[0m\u001b[0mdelete\u001b[0m\u001b[0;34m(\u001b[0m\u001b[0mindexer\u001b[0m\u001b[0;34m)\u001b[0m\u001b[0;34m\u001b[0m\u001b[0;34m\u001b[0m\u001b[0m\n",
            "\u001b[0;31mKeyError\u001b[0m: \"['y'] not found in axis\""
          ]
        }
      ]
    },
    {
      "cell_type": "code",
      "source": [
        "data_full_tran_test_0"
      ],
      "metadata": {
        "id": "HSErUjnwoEON",
        "outputId": "a4cc043e-835a-4679-b2db-54b10b034aa6",
        "colab": {
          "base_uri": "https://localhost:8080/",
          "height": 424
        }
      },
      "execution_count": 203,
      "outputs": [
        {
          "output_type": "execute_result",
          "data": {
            "text/plain": [
              "       age  job  marital  education  default  housing  loan  contact  month  \\\n",
              "0        5    3        1          0        0        0     0        1      6   \n",
              "1        5    7        1          3        1        0     0        1      6   \n",
              "2        3    7        1          3        0        2     0        1      6   \n",
              "3        4    0        1          1        0        0     0        1      6   \n",
              "4        5    7        1          3        0        0     2        1      6   \n",
              "...    ...  ...      ...        ...      ...      ...   ...      ...    ...   \n",
              "41180    3    0        1          6        0        0     0        0      7   \n",
              "41182    2   10        2          0        0        2     0        0      7   \n",
              "41184    4    1        1          5        0        0     0        0      7   \n",
              "41185    5    5        1          6        0        2     0        0      7   \n",
              "41187    7    5        1          5        0        2     0        0      7   \n",
              "\n",
              "       day_of_week  campaign  pdays  previous  poutcome  emp.var.rate  \\\n",
              "0                1         1    999         0         1           1.1   \n",
              "1                1         1    999         0         1           1.1   \n",
              "2                1         1    999         0         1           1.1   \n",
              "3                1         1    999         0         1           1.1   \n",
              "4                1         1    999         0         1           1.1   \n",
              "...            ...       ...    ...       ...       ...           ...   \n",
              "41180            0         2    999         0         1          -1.1   \n",
              "41182            0         1      9         1         2          -1.1   \n",
              "41184            0         1    999         0         1          -1.1   \n",
              "41185            0         2    999         0         1          -1.1   \n",
              "41187            0         3    999         1         0          -1.1   \n",
              "\n",
              "       cons.price.idx  cons.conf.idx  euribor3m  nr.employed  \n",
              "0              93.994          -36.4      4.857       5191.0  \n",
              "1              93.994          -36.4      4.857       5191.0  \n",
              "2              93.994          -36.4      4.857       5191.0  \n",
              "3              93.994          -36.4      4.857       5191.0  \n",
              "4              93.994          -36.4      4.857       5191.0  \n",
              "...               ...            ...        ...          ...  \n",
              "41180          94.767          -50.8      1.028       4963.6  \n",
              "41182          94.767          -50.8      1.028       4963.6  \n",
              "41184          94.767          -50.8      1.028       4963.6  \n",
              "41185          94.767          -50.8      1.028       4963.6  \n",
              "41187          94.767          -50.8      1.028       4963.6  \n",
              "\n",
              "[36548 rows x 19 columns]"
            ],
            "text/html": [
              "\n",
              "  <div id=\"df-aa0fbb85-94e7-4ce1-8948-47f0bbe81ef5\">\n",
              "    <div class=\"colab-df-container\">\n",
              "      <div>\n",
              "<style scoped>\n",
              "    .dataframe tbody tr th:only-of-type {\n",
              "        vertical-align: middle;\n",
              "    }\n",
              "\n",
              "    .dataframe tbody tr th {\n",
              "        vertical-align: top;\n",
              "    }\n",
              "\n",
              "    .dataframe thead th {\n",
              "        text-align: right;\n",
              "    }\n",
              "</style>\n",
              "<table border=\"1\" class=\"dataframe\">\n",
              "  <thead>\n",
              "    <tr style=\"text-align: right;\">\n",
              "      <th></th>\n",
              "      <th>age</th>\n",
              "      <th>job</th>\n",
              "      <th>marital</th>\n",
              "      <th>education</th>\n",
              "      <th>default</th>\n",
              "      <th>housing</th>\n",
              "      <th>loan</th>\n",
              "      <th>contact</th>\n",
              "      <th>month</th>\n",
              "      <th>day_of_week</th>\n",
              "      <th>campaign</th>\n",
              "      <th>pdays</th>\n",
              "      <th>previous</th>\n",
              "      <th>poutcome</th>\n",
              "      <th>emp.var.rate</th>\n",
              "      <th>cons.price.idx</th>\n",
              "      <th>cons.conf.idx</th>\n",
              "      <th>euribor3m</th>\n",
              "      <th>nr.employed</th>\n",
              "    </tr>\n",
              "  </thead>\n",
              "  <tbody>\n",
              "    <tr>\n",
              "      <th>0</th>\n",
              "      <td>5</td>\n",
              "      <td>3</td>\n",
              "      <td>1</td>\n",
              "      <td>0</td>\n",
              "      <td>0</td>\n",
              "      <td>0</td>\n",
              "      <td>0</td>\n",
              "      <td>1</td>\n",
              "      <td>6</td>\n",
              "      <td>1</td>\n",
              "      <td>1</td>\n",
              "      <td>999</td>\n",
              "      <td>0</td>\n",
              "      <td>1</td>\n",
              "      <td>1.1</td>\n",
              "      <td>93.994</td>\n",
              "      <td>-36.4</td>\n",
              "      <td>4.857</td>\n",
              "      <td>5191.0</td>\n",
              "    </tr>\n",
              "    <tr>\n",
              "      <th>1</th>\n",
              "      <td>5</td>\n",
              "      <td>7</td>\n",
              "      <td>1</td>\n",
              "      <td>3</td>\n",
              "      <td>1</td>\n",
              "      <td>0</td>\n",
              "      <td>0</td>\n",
              "      <td>1</td>\n",
              "      <td>6</td>\n",
              "      <td>1</td>\n",
              "      <td>1</td>\n",
              "      <td>999</td>\n",
              "      <td>0</td>\n",
              "      <td>1</td>\n",
              "      <td>1.1</td>\n",
              "      <td>93.994</td>\n",
              "      <td>-36.4</td>\n",
              "      <td>4.857</td>\n",
              "      <td>5191.0</td>\n",
              "    </tr>\n",
              "    <tr>\n",
              "      <th>2</th>\n",
              "      <td>3</td>\n",
              "      <td>7</td>\n",
              "      <td>1</td>\n",
              "      <td>3</td>\n",
              "      <td>0</td>\n",
              "      <td>2</td>\n",
              "      <td>0</td>\n",
              "      <td>1</td>\n",
              "      <td>6</td>\n",
              "      <td>1</td>\n",
              "      <td>1</td>\n",
              "      <td>999</td>\n",
              "      <td>0</td>\n",
              "      <td>1</td>\n",
              "      <td>1.1</td>\n",
              "      <td>93.994</td>\n",
              "      <td>-36.4</td>\n",
              "      <td>4.857</td>\n",
              "      <td>5191.0</td>\n",
              "    </tr>\n",
              "    <tr>\n",
              "      <th>3</th>\n",
              "      <td>4</td>\n",
              "      <td>0</td>\n",
              "      <td>1</td>\n",
              "      <td>1</td>\n",
              "      <td>0</td>\n",
              "      <td>0</td>\n",
              "      <td>0</td>\n",
              "      <td>1</td>\n",
              "      <td>6</td>\n",
              "      <td>1</td>\n",
              "      <td>1</td>\n",
              "      <td>999</td>\n",
              "      <td>0</td>\n",
              "      <td>1</td>\n",
              "      <td>1.1</td>\n",
              "      <td>93.994</td>\n",
              "      <td>-36.4</td>\n",
              "      <td>4.857</td>\n",
              "      <td>5191.0</td>\n",
              "    </tr>\n",
              "    <tr>\n",
              "      <th>4</th>\n",
              "      <td>5</td>\n",
              "      <td>7</td>\n",
              "      <td>1</td>\n",
              "      <td>3</td>\n",
              "      <td>0</td>\n",
              "      <td>0</td>\n",
              "      <td>2</td>\n",
              "      <td>1</td>\n",
              "      <td>6</td>\n",
              "      <td>1</td>\n",
              "      <td>1</td>\n",
              "      <td>999</td>\n",
              "      <td>0</td>\n",
              "      <td>1</td>\n",
              "      <td>1.1</td>\n",
              "      <td>93.994</td>\n",
              "      <td>-36.4</td>\n",
              "      <td>4.857</td>\n",
              "      <td>5191.0</td>\n",
              "    </tr>\n",
              "    <tr>\n",
              "      <th>...</th>\n",
              "      <td>...</td>\n",
              "      <td>...</td>\n",
              "      <td>...</td>\n",
              "      <td>...</td>\n",
              "      <td>...</td>\n",
              "      <td>...</td>\n",
              "      <td>...</td>\n",
              "      <td>...</td>\n",
              "      <td>...</td>\n",
              "      <td>...</td>\n",
              "      <td>...</td>\n",
              "      <td>...</td>\n",
              "      <td>...</td>\n",
              "      <td>...</td>\n",
              "      <td>...</td>\n",
              "      <td>...</td>\n",
              "      <td>...</td>\n",
              "      <td>...</td>\n",
              "      <td>...</td>\n",
              "    </tr>\n",
              "    <tr>\n",
              "      <th>41180</th>\n",
              "      <td>3</td>\n",
              "      <td>0</td>\n",
              "      <td>1</td>\n",
              "      <td>6</td>\n",
              "      <td>0</td>\n",
              "      <td>0</td>\n",
              "      <td>0</td>\n",
              "      <td>0</td>\n",
              "      <td>7</td>\n",
              "      <td>0</td>\n",
              "      <td>2</td>\n",
              "      <td>999</td>\n",
              "      <td>0</td>\n",
              "      <td>1</td>\n",
              "      <td>-1.1</td>\n",
              "      <td>94.767</td>\n",
              "      <td>-50.8</td>\n",
              "      <td>1.028</td>\n",
              "      <td>4963.6</td>\n",
              "    </tr>\n",
              "    <tr>\n",
              "      <th>41182</th>\n",
              "      <td>2</td>\n",
              "      <td>10</td>\n",
              "      <td>2</td>\n",
              "      <td>0</td>\n",
              "      <td>0</td>\n",
              "      <td>2</td>\n",
              "      <td>0</td>\n",
              "      <td>0</td>\n",
              "      <td>7</td>\n",
              "      <td>0</td>\n",
              "      <td>1</td>\n",
              "      <td>9</td>\n",
              "      <td>1</td>\n",
              "      <td>2</td>\n",
              "      <td>-1.1</td>\n",
              "      <td>94.767</td>\n",
              "      <td>-50.8</td>\n",
              "      <td>1.028</td>\n",
              "      <td>4963.6</td>\n",
              "    </tr>\n",
              "    <tr>\n",
              "      <th>41184</th>\n",
              "      <td>4</td>\n",
              "      <td>1</td>\n",
              "      <td>1</td>\n",
              "      <td>5</td>\n",
              "      <td>0</td>\n",
              "      <td>0</td>\n",
              "      <td>0</td>\n",
              "      <td>0</td>\n",
              "      <td>7</td>\n",
              "      <td>0</td>\n",
              "      <td>1</td>\n",
              "      <td>999</td>\n",
              "      <td>0</td>\n",
              "      <td>1</td>\n",
              "      <td>-1.1</td>\n",
              "      <td>94.767</td>\n",
              "      <td>-50.8</td>\n",
              "      <td>1.028</td>\n",
              "      <td>4963.6</td>\n",
              "    </tr>\n",
              "    <tr>\n",
              "      <th>41185</th>\n",
              "      <td>5</td>\n",
              "      <td>5</td>\n",
              "      <td>1</td>\n",
              "      <td>6</td>\n",
              "      <td>0</td>\n",
              "      <td>2</td>\n",
              "      <td>0</td>\n",
              "      <td>0</td>\n",
              "      <td>7</td>\n",
              "      <td>0</td>\n",
              "      <td>2</td>\n",
              "      <td>999</td>\n",
              "      <td>0</td>\n",
              "      <td>1</td>\n",
              "      <td>-1.1</td>\n",
              "      <td>94.767</td>\n",
              "      <td>-50.8</td>\n",
              "      <td>1.028</td>\n",
              "      <td>4963.6</td>\n",
              "    </tr>\n",
              "    <tr>\n",
              "      <th>41187</th>\n",
              "      <td>7</td>\n",
              "      <td>5</td>\n",
              "      <td>1</td>\n",
              "      <td>5</td>\n",
              "      <td>0</td>\n",
              "      <td>2</td>\n",
              "      <td>0</td>\n",
              "      <td>0</td>\n",
              "      <td>7</td>\n",
              "      <td>0</td>\n",
              "      <td>3</td>\n",
              "      <td>999</td>\n",
              "      <td>1</td>\n",
              "      <td>0</td>\n",
              "      <td>-1.1</td>\n",
              "      <td>94.767</td>\n",
              "      <td>-50.8</td>\n",
              "      <td>1.028</td>\n",
              "      <td>4963.6</td>\n",
              "    </tr>\n",
              "  </tbody>\n",
              "</table>\n",
              "<p>36548 rows × 19 columns</p>\n",
              "</div>\n",
              "      <button class=\"colab-df-convert\" onclick=\"convertToInteractive('df-aa0fbb85-94e7-4ce1-8948-47f0bbe81ef5')\"\n",
              "              title=\"Convert this dataframe to an interactive table.\"\n",
              "              style=\"display:none;\">\n",
              "        \n",
              "  <svg xmlns=\"http://www.w3.org/2000/svg\" height=\"24px\"viewBox=\"0 0 24 24\"\n",
              "       width=\"24px\">\n",
              "    <path d=\"M0 0h24v24H0V0z\" fill=\"none\"/>\n",
              "    <path d=\"M18.56 5.44l.94 2.06.94-2.06 2.06-.94-2.06-.94-.94-2.06-.94 2.06-2.06.94zm-11 1L8.5 8.5l.94-2.06 2.06-.94-2.06-.94L8.5 2.5l-.94 2.06-2.06.94zm10 10l.94 2.06.94-2.06 2.06-.94-2.06-.94-.94-2.06-.94 2.06-2.06.94z\"/><path d=\"M17.41 7.96l-1.37-1.37c-.4-.4-.92-.59-1.43-.59-.52 0-1.04.2-1.43.59L10.3 9.45l-7.72 7.72c-.78.78-.78 2.05 0 2.83L4 21.41c.39.39.9.59 1.41.59.51 0 1.02-.2 1.41-.59l7.78-7.78 2.81-2.81c.8-.78.8-2.07 0-2.86zM5.41 20L4 18.59l7.72-7.72 1.47 1.35L5.41 20z\"/>\n",
              "  </svg>\n",
              "      </button>\n",
              "      \n",
              "  <style>\n",
              "    .colab-df-container {\n",
              "      display:flex;\n",
              "      flex-wrap:wrap;\n",
              "      gap: 12px;\n",
              "    }\n",
              "\n",
              "    .colab-df-convert {\n",
              "      background-color: #E8F0FE;\n",
              "      border: none;\n",
              "      border-radius: 50%;\n",
              "      cursor: pointer;\n",
              "      display: none;\n",
              "      fill: #1967D2;\n",
              "      height: 32px;\n",
              "      padding: 0 0 0 0;\n",
              "      width: 32px;\n",
              "    }\n",
              "\n",
              "    .colab-df-convert:hover {\n",
              "      background-color: #E2EBFA;\n",
              "      box-shadow: 0px 1px 2px rgba(60, 64, 67, 0.3), 0px 1px 3px 1px rgba(60, 64, 67, 0.15);\n",
              "      fill: #174EA6;\n",
              "    }\n",
              "\n",
              "    [theme=dark] .colab-df-convert {\n",
              "      background-color: #3B4455;\n",
              "      fill: #D2E3FC;\n",
              "    }\n",
              "\n",
              "    [theme=dark] .colab-df-convert:hover {\n",
              "      background-color: #434B5C;\n",
              "      box-shadow: 0px 1px 3px 1px rgba(0, 0, 0, 0.15);\n",
              "      filter: drop-shadow(0px 1px 2px rgba(0, 0, 0, 0.3));\n",
              "      fill: #FFFFFF;\n",
              "    }\n",
              "  </style>\n",
              "\n",
              "      <script>\n",
              "        const buttonEl =\n",
              "          document.querySelector('#df-aa0fbb85-94e7-4ce1-8948-47f0bbe81ef5 button.colab-df-convert');\n",
              "        buttonEl.style.display =\n",
              "          google.colab.kernel.accessAllowed ? 'block' : 'none';\n",
              "\n",
              "        async function convertToInteractive(key) {\n",
              "          const element = document.querySelector('#df-aa0fbb85-94e7-4ce1-8948-47f0bbe81ef5');\n",
              "          const dataTable =\n",
              "            await google.colab.kernel.invokeFunction('convertToInteractive',\n",
              "                                                     [key], {});\n",
              "          if (!dataTable) return;\n",
              "\n",
              "          const docLinkHtml = 'Like what you see? Visit the ' +\n",
              "            '<a target=\"_blank\" href=https://colab.research.google.com/notebooks/data_table.ipynb>data table notebook</a>'\n",
              "            + ' to learn more about interactive tables.';\n",
              "          element.innerHTML = '';\n",
              "          dataTable['output_type'] = 'display_data';\n",
              "          await google.colab.output.renderOutput(dataTable, element);\n",
              "          const docLink = document.createElement('div');\n",
              "          docLink.innerHTML = docLinkHtml;\n",
              "          element.appendChild(docLink);\n",
              "        }\n",
              "      </script>\n",
              "    </div>\n",
              "  </div>\n",
              "  "
            ]
          },
          "metadata": {},
          "execution_count": 203
        }
      ]
    },
    {
      "cell_type": "markdown",
      "source": [
        "clustering"
      ],
      "metadata": {
        "id": "PgFCtLgmhnJm"
      }
    },
    {
      "cell_type": "code",
      "source": [
        "# % pip install kneed"
      ],
      "metadata": {
        "id": "-g1jIO8CnPWV"
      },
      "execution_count": 204,
      "outputs": []
    },
    {
      "cell_type": "code",
      "source": [
        "import matplotlib.pyplot as plt\n",
        "from kneed import KneeLocator\n",
        "from sklearn.datasets import make_blobs\n",
        "from sklearn.cluster import KMeans\n",
        "from sklearn.metrics import silhouette_score\n",
        "from sklearn.preprocessing import StandardScaler"
      ],
      "metadata": {
        "id": "Nh5di8vWmkUC"
      },
      "execution_count": 205,
      "outputs": []
    },
    {
      "cell_type": "code",
      "source": [
        "# features_0 = data_full_tran_test_0\n",
        "# features_1 = data_full_tran_test_1\n",
        "features_all = data_full_tran_test_all\n"
      ],
      "metadata": {
        "id": "YunRtdCgmX6q"
      },
      "execution_count": 230,
      "outputs": []
    },
    {
      "cell_type": "code",
      "source": [
        "scaler = StandardScaler()\n",
        "scaled_features = scaler.fit_transform(features_all)"
      ],
      "metadata": {
        "id": "Nb_B-TEhmX_V"
      },
      "execution_count": 231,
      "outputs": []
    },
    {
      "cell_type": "code",
      "source": [
        "kmeans_kwargs = {\"init\": \"random\",\"n_init\": 10, \"max_iter\": 300,\"random_state\": 42,}\n",
        "\n",
        "# A list holds the SSE values for each k\n",
        "sse = []\n",
        "for k in range(1, 11):\n",
        "  kmeans = KMeans(n_clusters=k, **kmeans_kwargs)\n",
        "  kmeans.fit(scaled_features)\n",
        "  sse.append(kmeans.inertia_)"
      ],
      "metadata": {
        "id": "89BgHKV6nsWn"
      },
      "execution_count": 232,
      "outputs": []
    },
    {
      "cell_type": "code",
      "source": [
        "plt.style.use(\"fivethirtyeight\")\n",
        "plt.plot(range(1, 11), sse)\n",
        "plt.xticks(range(1, 11))\n",
        "plt.xlabel(\"Number of Clusters\")\n",
        "plt.ylabel(\"SSE\")\n",
        "plt.show()"
      ],
      "metadata": {
        "id": "HsemJw9_nsZD",
        "outputId": "84d63430-951e-4172-b47b-7aa4ad5d0f6e",
        "colab": {
          "base_uri": "https://localhost:8080/",
          "height": 308
        }
      },
      "execution_count": 233,
      "outputs": [
        {
          "output_type": "display_data",
          "data": {
            "text/plain": [
              "<Figure size 432x288 with 1 Axes>"
            ],
            "image/png": "[encoded data removed]"
          },
          "metadata": {}
        }
      ]
    },
    {
      "cell_type": "code",
      "source": [
        "kl = KneeLocator(range(1, 11), sse, curve=\"convex\", direction=\"decreasing\")\n",
        "\n",
        "kl.elbow"
      ],
      "metadata": {
        "id": "_xAmyajLnsbC",
        "outputId": "825af2b2-15b6-4d08-f271-b2951aba08d0",
        "colab": {
          "base_uri": "https://localhost:8080/"
        }
      },
      "execution_count": 234,
      "outputs": [
        {
          "output_type": "execute_result",
          "data": {
            "text/plain": [
              "3"
            ]
          },
          "metadata": {},
          "execution_count": 234
        }
      ]
    },
    {
      "cell_type": "code",
      "source": [
        ""
      ],
      "metadata": {
        "id": "hAeE-HED0kfc"
      },
      "execution_count": 234,
      "outputs": []
    },
    {
      "cell_type": "code",
      "source": [
        "# A list holds the silhouette coefficients for each k\n",
        "silhouette_coefficients = []\n",
        "\n",
        "# Notice you start at 2 clusters for silhouette coefficient\n",
        "for k in range(2, 11):\n",
        "  kmeans = KMeans(n_clusters=k, **kmeans_kwargs)\n",
        "  kmeans.fit(scaled_features)\n",
        "  score = silhouette_score(scaled_features, kmeans.labels_)\n",
        "  silhouette_coefficients.append(score)"
      ],
      "metadata": {
        "id": "8slCwZiSwtpB"
      },
      "execution_count": 235,
      "outputs": []
    },
    {
      "cell_type": "code",
      "source": [
        "plt.style.use(\"fivethirtyeight\")\n",
        "plt.plot(range(2, 11), silhouette_coefficients)\n",
        "plt.xticks(range(2, 11))\n",
        "plt.xlabel(\"Number of Clusters\")\n",
        "plt.ylabel(\"Silhouette Coefficient\")\n",
        "plt.show()"
      ],
      "metadata": {
        "id": "_ER4Fugzx-Zl",
        "outputId": "e5e8095f-1c12-4787-c016-f8be948cdc3a",
        "colab": {
          "base_uri": "https://localhost:8080/",
          "height": 304
        }
      },
      "execution_count": 236,
      "outputs": [
        {
          "output_type": "display_data",
          "data": {
            "text/plain": [
              "<Figure size 432x288 with 1 Axes>"
            ],
            "image/png": "[encoded data removed]"
          },
          "metadata": {}
        }
      ]
    },
    {
      "cell_type": "code",
      "source": [
        "kmeans = KMeans(init=\"random\",n_clusters=5,n_init=10,max_iter=300,random_state=30)"
      ],
      "metadata": {
        "id": "fLfM1l5XmYBu"
      },
      "execution_count": 257,
      "outputs": []
    },
    {
      "cell_type": "code",
      "source": [
        "kmeans.fit(scaled_features)"
      ],
      "metadata": {
        "id": "xGvf2I32mYD9",
        "outputId": "db5c98c8-0be7-4db2-93af-a2e64ee6a768",
        "colab": {
          "base_uri": "https://localhost:8080/"
        }
      },
      "execution_count": 258,
      "outputs": [
        {
          "output_type": "execute_result",
          "data": {
            "text/plain": [
              "KMeans(init='random', n_clusters=5, random_state=30)"
            ]
          },
          "metadata": {},
          "execution_count": 258
        }
      ]
    },
    {
      "cell_type": "code",
      "source": [
        "kmeans.inertia_"
      ],
      "metadata": {
        "id": "vro5xvs0nsPS",
        "outputId": "b6ddf9fd-68b4-42a1-a9ba-51eb637c2a0a",
        "colab": {
          "base_uri": "https://localhost:8080/"
        }
      },
      "execution_count": 259,
      "outputs": [
        {
          "output_type": "execute_result",
          "data": {
            "text/plain": [
              "484961.40050262597"
            ]
          },
          "metadata": {},
          "execution_count": 259
        }
      ]
    },
    {
      "cell_type": "code",
      "source": [
        "kmeans.cluster_centers_"
      ],
      "metadata": {
        "id": "fWiqLfZJnsUP",
        "outputId": "b1eb86e8-d223-47b0-93b3-334c7ce43007",
        "colab": {
          "base_uri": "https://localhost:8080/"
        }
      },
      "execution_count": 260,
      "outputs": [
        {
          "output_type": "execute_result",
          "data": {
            "text/plain": [
              "array([[-1.14297933e-02, -3.02822628e-03,  4.94364091e-02,\n",
              "         1.21061553e-02, -2.06757254e-01,  6.64496525e-02,\n",
              "         9.92997546e-04, -6.12064598e-01,  3.02584402e-01,\n",
              "        -4.95989682e-02, -2.02186216e-01,  1.94126779e-01,\n",
              "         1.91640352e+00, -2.56309793e+00, -1.11493937e+00,\n",
              "        -8.98664438e-01, -5.15681726e-01, -1.12066093e+00,\n",
              "        -9.93715981e-01],\n",
              "       [ 1.67307470e-01,  1.44978255e-01,  1.93550797e-01,\n",
              "         2.38905926e-01, -4.09655641e-01,  5.45776375e-02,\n",
              "        -1.57196457e-03, -6.03561440e-01,  2.44974127e-01,\n",
              "         4.96317270e-02, -2.69766953e-01, -5.11727855e+00,\n",
              "         3.00576641e+00,  2.43505737e+00, -1.38663339e+00,\n",
              "        -4.02236057e-01,  4.68636188e-01, -1.51968035e+00,\n",
              "        -1.90776641e+00],\n",
              "       [-7.26077227e-02, -8.79189389e-03,  1.44424418e-01,\n",
              "         1.91796741e-02, -2.47870091e-01,  9.23772459e-02,\n",
              "         1.32014658e-03, -5.21354589e-01,  1.23116596e-02,\n",
              "        -7.24039491e-02, -1.46827895e-01,  1.95413900e-01,\n",
              "        -3.49494284e-01,  1.92622072e-01, -1.34972002e+00,\n",
              "        -1.03948366e+00, -5.87412904e-01, -1.39003554e+00,\n",
              "        -1.21838259e+00],\n",
              "       [ 9.44844246e-03, -4.39467050e-02, -9.70265726e-02,\n",
              "        -1.68533992e-01,  2.32240949e-01, -1.33315100e-01,\n",
              "        -1.24053218e-02,  1.31826996e+00,  3.89105980e-01,\n",
              "        -1.39685950e-02,  1.14159910e-01,  1.95413900e-01,\n",
              "        -3.49494284e-01,  1.92622072e-01,  7.03253742e-01,\n",
              "         9.33353579e-01,  3.80763765e-01,  7.22142657e-01,\n",
              "         5.39801897e-01],\n",
              "       [ 2.17934226e-02,  3.50339380e-02, -3.14560103e-02,\n",
              "         1.28866935e-01,  3.32587596e-02,  4.97737297e-02,\n",
              "         1.16888344e-02, -7.52183047e-01, -5.26473693e-01,\n",
              "         7.07107212e-02,  7.12673028e-02,  1.95413900e-01,\n",
              "        -3.49494284e-01,  1.92622072e-01,  6.55206550e-01,\n",
              "         4.12544468e-02,  9.64997844e-02,  6.78839999e-01,\n",
              "         7.59072016e-01]])"
            ]
          },
          "metadata": {},
          "execution_count": 260
        }
      ]
    },
    {
      "cell_type": "code",
      "source": [
        "df_1 = data_full_tran_test.copy()"
      ],
      "metadata": {
        "id": "I4WaiznI_Gd2"
      },
      "execution_count": 262,
      "outputs": []
    },
    {
      "cell_type": "code",
      "source": [
        "df_1.insert(19, \"Cluster\", kmeans.labels_, True)"
      ],
      "metadata": {
        "id": "10gr36Ae96yn"
      },
      "execution_count": 263,
      "outputs": []
    },
    {
      "cell_type": "code",
      "source": [
        "df_2 = df_1.groupby(['Cluster','y'])['y'].count()"
      ],
      "metadata": {
        "id": "s5br1pb5961g"
      },
      "execution_count": 264,
      "outputs": []
    },
    {
      "cell_type": "code",
      "source": [
        "df_2"
      ],
      "metadata": {
        "id": "aAkG1V3g-x84",
        "outputId": "1fe6ea29-4f32-4eb0-d72b-f4f030bc00e0",
        "colab": {
          "base_uri": "https://localhost:8080/"
        }
      },
      "execution_count": 265,
      "outputs": [
        {
          "output_type": "execute_result",
          "data": {
            "text/plain": [
              "Cluster  y  \n",
              "0        no      3578\n",
              "         yes      533\n",
              "1        no       548\n",
              "         yes      966\n",
              "2        no      6785\n",
              "         yes     1830\n",
              "3        no     13083\n",
              "         yes      533\n",
              "4        no     12554\n",
              "         yes      778\n",
              "Name: y, dtype: int64"
            ]
          },
          "metadata": {},
          "execution_count": 265
        }
      ]
    },
    {
      "cell_type": "code",
      "source": [
        ""
      ],
      "metadata": {
        "id": "3ljzb7Jd_pAd"
      },
      "execution_count": null,
      "outputs": []
    },
    {
      "cell_type": "code",
      "source": [
        "kmeans = KMeans(init=\"random\",n_clusters=7,n_init=10,max_iter=300,random_state=42)"
      ],
      "metadata": {
        "id": "xkf6rFiC_Rbu"
      },
      "execution_count": 303,
      "outputs": []
    },
    {
      "cell_type": "code",
      "source": [
        "kmeans.fit(scaled_features)"
      ],
      "metadata": {
        "id": "TFh-ZXT7_Ret",
        "outputId": "6b15c5d0-bbaa-43a7-c369-5070cdbf721f",
        "colab": {
          "base_uri": "https://localhost:8080/"
        }
      },
      "execution_count": 304,
      "outputs": [
        {
          "output_type": "execute_result",
          "data": {
            "text/plain": [
              "KMeans(init='random', n_clusters=7, random_state=42)"
            ]
          },
          "metadata": {},
          "execution_count": 304
        }
      ]
    },
    {
      "cell_type": "code",
      "source": [
        "kmeans.inertia_"
      ],
      "metadata": {
        "id": "GR85v2c1_YaT",
        "outputId": "b9e36066-5fcf-4196-8e3d-bfec1a368eed",
        "colab": {
          "base_uri": "https://localhost:8080/"
        }
      },
      "execution_count": 305,
      "outputs": [
        {
          "output_type": "execute_result",
          "data": {
            "text/plain": [
              "447056.6717007663"
            ]
          },
          "metadata": {},
          "execution_count": 305
        }
      ]
    },
    {
      "cell_type": "code",
      "source": [
        "kmeans.cluster_centers_"
      ],
      "metadata": {
        "id": "TCRb5efF_Yc6",
        "outputId": "e3a34c56-37c2-4385-fd61-0eb92f1e4da8",
        "colab": {
          "base_uri": "https://localhost:8080/"
        }
      },
      "execution_count": 306,
      "outputs": [
        {
          "output_type": "execute_result",
          "data": {
            "text/plain": [
              "array([[ 3.37569883e-01, -4.13424538e-02, -1.83141499e-01,\n",
              "        -3.68937268e-01,  1.94642349e+00, -5.81530011e-02,\n",
              "         1.38408793e-03,  4.67278160e-01, -3.90802327e-02,\n",
              "         5.42267329e-03, -6.34767043e-02,  1.95413900e-01,\n",
              "        -3.49193863e-01,  1.92212360e-01,  7.23379881e-01,\n",
              "         6.26719174e-01,  2.82287354e-01,  7.23637641e-01,\n",
              "         6.39400612e-01],\n",
              "       [-1.11297213e-01, -4.24311176e-02, -7.97458470e-02,\n",
              "        -6.00178678e-02, -5.13599691e-01, -1.36664117e-01,\n",
              "        -1.07386416e-02,  1.31804024e+00,  4.12809678e-01,\n",
              "        -4.96275998e-03, -9.68959861e-02,  1.95413900e-01,\n",
              "        -3.49494284e-01,  1.92622072e-01,  6.91815810e-01,\n",
              "         9.15191772e-01,  3.80159121e-01,  7.18005526e-01,\n",
              "         5.32974687e-01],\n",
              "       [ 6.54105750e-02, -8.11833259e-02, -3.49052259e-02,\n",
              "         5.27344401e-02,  1.03460445e-01, -9.00895042e-02,\n",
              "        -4.92232168e-03,  3.93918854e-01, -3.34214168e-01,\n",
              "        -8.05458679e-02,  4.48382200e+00,  1.95413900e-01,\n",
              "        -3.47580808e-01,  1.90012488e-01,  7.73174146e-01,\n",
              "         6.93421745e-01,  5.88555748e-02,  7.30281355e-01,\n",
              "         7.31960721e-01],\n",
              "       [ 1.67307470e-01,  1.44978255e-01,  1.93550797e-01,\n",
              "         2.38905926e-01, -4.09655641e-01,  5.45776375e-02,\n",
              "        -1.57196457e-03, -6.03561440e-01,  2.44974127e-01,\n",
              "         4.96317270e-02, -2.69766953e-01, -5.11727855e+00,\n",
              "         3.00576641e+00,  2.43505737e+00, -1.38663339e+00,\n",
              "        -4.02236057e-01,  4.68636188e-01, -1.51968035e+00,\n",
              "        -1.90776641e+00],\n",
              "       [-1.20966313e-02, -3.54093292e-03,  4.99982673e-02,\n",
              "         1.19405380e-02, -2.07804752e-01,  6.70114226e-02,\n",
              "         1.21372454e-03, -6.11993288e-01,  3.02780117e-01,\n",
              "        -4.96215032e-02, -2.03414920e-01,  1.94126152e-01,\n",
              "         1.91652290e+00, -2.56309793e+00, -1.11517783e+00,\n",
              "        -8.99133666e-01, -5.15969810e-01, -1.12089790e+00,\n",
              "        -9.93705611e-01],\n",
              "       [-4.91396956e-02, -9.00186184e-03,  9.39980166e-02,\n",
              "         5.41976489e-02, -3.03099999e-01,  9.43367454e-02,\n",
              "         1.24530551e-03, -5.71401755e-01,  2.57644673e-01,\n",
              "        -4.08181389e-02, -1.76099307e-01,  1.95413900e-01,\n",
              "        -3.49494284e-01,  1.92622072e-01, -1.09411002e+00,\n",
              "        -9.58795925e-01, -5.32117435e-01, -1.04379138e+00,\n",
              "        -8.83540951e-01],\n",
              "       [-1.27207221e-01,  8.11355501e-02,  5.97093262e-02,\n",
              "         2.49617986e-01, -4.80876335e-01,  4.31088776e-02,\n",
              "         9.74085679e-03, -7.40933938e-01, -9.54043448e-01,\n",
              "         8.43045138e-02, -3.50629093e-02,  1.95413900e-01,\n",
              "        -3.49494284e-01,  1.92622072e-01,  8.38818611e-01,\n",
              "         1.88411110e-01,  2.26528305e-01,  7.73629627e-01,\n",
              "         8.45056771e-01]])"
            ]
          },
          "metadata": {},
          "execution_count": 306
        }
      ]
    },
    {
      "cell_type": "code",
      "source": [
        "df_3 = data_full_tran_test.copy()"
      ],
      "metadata": {
        "id": "mfzb5YXt_Yfk"
      },
      "execution_count": 307,
      "outputs": []
    },
    {
      "cell_type": "code",
      "source": [
        "df_3.insert(19, \"Cluster\", kmeans.labels_, True)"
      ],
      "metadata": {
        "id": "KmhkKR4i_YiP"
      },
      "execution_count": 308,
      "outputs": []
    },
    {
      "cell_type": "code",
      "source": [
        "df_4 = df_3.groupby(['Cluster','y'])['y'].count()\n",
        "df_4"
      ],
      "metadata": {
        "id": "-xlXlLww_yLM",
        "outputId": "b0f52978-0a86-40a4-f7a9-926a74f44e61",
        "colab": {
          "base_uri": "https://localhost:8080/"
        }
      },
      "execution_count": 309,
      "outputs": [
        {
          "output_type": "execute_result",
          "data": {
            "text/plain": [
              "Cluster  y  \n",
              "0        no     6438\n",
              "         yes     295\n",
              "1        no     8672\n",
              "         yes     369\n",
              "2        no     1019\n",
              "         yes      37\n",
              "3        no      548\n",
              "         yes     966\n",
              "4        no     3576\n",
              "         yes     533\n",
              "5        no     8903\n",
              "         yes    1949\n",
              "6        no     7392\n",
              "         yes     491\n",
              "Name: y, dtype: int64"
            ]
          },
          "metadata": {},
          "execution_count": 309
        }
      ]
    },
    {
      "cell_type": "markdown",
      "source": [
        "DBSCAN"
      ],
      "metadata": {
        "id": "-GIaXM7kzygG"
      }
    },
    {
      "cell_type": "code",
      "source": [
        "from sklearn.cluster import DBSCAN\n",
        "from sklearn.datasets import make_moons\n",
        "from sklearn.metrics import adjusted_rand_score"
      ],
      "metadata": {
        "id": "dYgrg46Tzwcm"
      },
      "execution_count": 311,
      "outputs": []
    },
    {
      "cell_type": "code",
      "source": [
        "# Instantiate k-means and dbscan algorithms\n",
        "kmeans = KMeans(n_clusters=9)\n",
        "dbscan = DBSCAN(eps=0.3)\n",
        "\n",
        "# Fit the algorithms to the features\n",
        "kmeans.fit(scaled_features)\n",
        "dbscan.fit(scaled_features)\n",
        "\n",
        "# Compute the silhouette scores for each algorithm\n",
        "kmeans_silhouette = silhouette_score(scaled_features, kmeans.labels_).round(2)\n",
        "\n",
        "dbscan_silhouette = silhouette_score(scaled_features, dbscan.labels_).round (2)"
      ],
      "metadata": {
        "id": "rdRu9y4kzwfC"
      },
      "execution_count": 312,
      "outputs": []
    },
    {
      "cell_type": "code",
      "source": [
        "[fte_colors[label] for label in kmeans.labels_]"
      ],
      "metadata": {
        "id": "i9pqimjUHEd4",
        "outputId": "5afb11f1-0bfc-4f53-8b8a-19d5b68bd810",
        "colab": {
          "base_uri": "https://localhost:8080/",
          "height": 218
        }
      },
      "execution_count": 317,
      "outputs": [
        {
          "output_type": "error",
          "ename": "KeyError",
          "evalue": "ignored",
          "traceback": [
            "\u001b[0;31m---------------------------------------------------------------------------\u001b[0m",
            "\u001b[0;31mKeyError\u001b[0m                                  Traceback (most recent call last)",
            "\u001b[0;32m<ipython-input-317-d953f9e4aa7c>\u001b[0m in \u001b[0;36m<module>\u001b[0;34m()\u001b[0m\n\u001b[0;32m----> 1\u001b[0;31m \u001b[0;34m[\u001b[0m\u001b[0mfte_colors\u001b[0m\u001b[0;34m[\u001b[0m\u001b[0mlabel\u001b[0m\u001b[0;34m]\u001b[0m \u001b[0;32mfor\u001b[0m \u001b[0mlabel\u001b[0m \u001b[0;32min\u001b[0m \u001b[0mkmeans\u001b[0m\u001b[0;34m.\u001b[0m\u001b[0mlabels_\u001b[0m\u001b[0;34m]\u001b[0m\u001b[0;34m\u001b[0m\u001b[0;34m\u001b[0m\u001b[0m\n\u001b[0m",
            "\u001b[0;32m<ipython-input-317-d953f9e4aa7c>\u001b[0m in \u001b[0;36m<listcomp>\u001b[0;34m(.0)\u001b[0m\n\u001b[0;32m----> 1\u001b[0;31m \u001b[0;34m[\u001b[0m\u001b[0mfte_colors\u001b[0m\u001b[0;34m[\u001b[0m\u001b[0mlabel\u001b[0m\u001b[0;34m]\u001b[0m \u001b[0;32mfor\u001b[0m \u001b[0mlabel\u001b[0m \u001b[0;32min\u001b[0m \u001b[0mkmeans\u001b[0m\u001b[0;34m.\u001b[0m\u001b[0mlabels_\u001b[0m\u001b[0;34m]\u001b[0m\u001b[0;34m\u001b[0m\u001b[0;34m\u001b[0m\u001b[0m\n\u001b[0m",
            "\u001b[0;31mKeyError\u001b[0m: 2"
          ]
        }
      ]
    },
    {
      "cell_type": "code",
      "source": [
        "kmeans.labels_"
      ],
      "metadata": {
        "id": "_2SiUgurHRrX",
        "outputId": "e8ae2df6-baa4-4263-d7ac-3ed77046c4ab",
        "colab": {
          "base_uri": "https://localhost:8080/"
        }
      },
      "execution_count": 318,
      "outputs": [
        {
          "output_type": "execute_result",
          "data": {
            "text/plain": [
              "array([2, 6, 2, ..., 3, 3, 7], dtype=int32)"
            ]
          },
          "metadata": {},
          "execution_count": 318
        }
      ]
    },
    {
      "cell_type": "code",
      "source": [
        "# Plot the data and cluster silhouette comparison\n",
        "fig, (ax1, ax2) = plt.subplots(\n",
        "    1, 2, figsize=(8, 6), sharex=True, sharey=True\n",
        ")\n",
        "fig.suptitle(f\"Clustering Algorithm Comparison: Crescents\", fontsize=16)\n",
        "fte_colors = {\n",
        "0: \"#008fd5\",\n",
        "1: \"#fc4f30\",\n",
        "}\n",
        "# The k-means plot\n",
        "# km_colors = [fte_colors[label] for label in kmeans.labels_]\n",
        "# ax1.scatter(scaled_features[:, 0], scaled_features[:, 1], c=km_colors)\n",
        "\n",
        "ax1.scatter(scaled_features[:, 0], scaled_features[:, 1])\n",
        "ax1.set_title(f\"k-means\\nSilhouette: {kmeans_silhouette}\", fontdict={\"fontsize\": 12})\n",
        "\n",
        "# The dbscan plot\n",
        "# db_colors = [fte_colors[label] for label in dbscan.labels_]\n",
        "# ax2.scatter(scaled_features[:, 0], scaled_features[:, 1], c=db_colors)\n",
        "ax2.scatter(scaled_features[:, 0], scaled_features[:, 1])\n",
        "ax2.set_title(\n",
        "f\"DBSCAN\\nSilhouette: {dbscan_silhouette}\", fontdict={\"fontsize\": 12}\n",
        ")\n",
        "plt.show()"
      ],
      "metadata": {
        "id": "IT3_0HWyzwjJ",
        "outputId": "d967f0fb-cf00-43ec-a24f-80848390dee3",
        "colab": {
          "base_uri": "https://localhost:8080/",
          "height": 442
        }
      },
      "execution_count": 323,
      "outputs": [
        {
          "output_type": "display_data",
          "data": {
            "text/plain": [
              "<Figure size 576x432 with 2 Axes>"
            ],
            "image/png": "[encoded data removed]"
          },
          "metadata": {}
        }
      ]
    },
    {
      "cell_type": "code",
      "source": [
        "ari_kmeans = adjusted_rand_score(data_full_tran_test['y'], kmeans.labels_)\n",
        "ari_dbscan = adjusted_rand_score(data_full_tran_test['y'], dbscan.labels_)\n",
        "\n",
        "round(ari_kmeans, 2)\n"
      ],
      "metadata": {
        "id": "Ieg8nq3Tzwm7",
        "outputId": "f7766f43-ca81-4053-c9d2-c451bd198e77",
        "colab": {
          "base_uri": "https://localhost:8080/"
        }
      },
      "execution_count": 328,
      "outputs": [
        {
          "output_type": "execute_result",
          "data": {
            "text/plain": [
              "0.02"
            ]
          },
          "metadata": {},
          "execution_count": 328
        }
      ]
    },
    {
      "cell_type": "code",
      "source": [
        "\n",
        "round(ari_dbscan, 2)"
      ],
      "metadata": {
        "id": "lWpeI3rBzwqe",
        "outputId": "d38a8e7c-baa8-40a2-8f6d-72afef128aff",
        "colab": {
          "base_uri": "https://localhost:8080/"
        }
      },
      "execution_count": 329,
      "outputs": [
        {
          "output_type": "execute_result",
          "data": {
            "text/plain": [
              "-0.04"
            ]
          },
          "metadata": {},
          "execution_count": 329
        }
      ]
    },
    {
      "cell_type": "code",
      "source": [
        "import numpy as np\n",
        "from sklearn.neighbors import NearestNeighbors\n",
        "\n",
        "\n",
        "df_5 = data_full_tran_test_all.copy()\n",
        "# n_neighbors = 5 as kneighbors function returns distance of point to itself (i.e. first column will be zeros) \n",
        "nbrs = NearestNeighbors(n_neighbors=5).fit(df_5)\n",
        "# Find the k-neighbors of a point\n",
        "neigh_dist, neigh_ind = nbrs.kneighbors(df_5)\n",
        "# sort the neighbor distances (lengths to points) in ascending order\n",
        "# axis = 0 represents sort along first axis i.e. sort along row\n",
        "sort_neigh_dist = np.sort(neigh_dist, axis=0)"
      ],
      "metadata": {
        "id": "xFOfqnxbzwuA"
      },
      "execution_count": 330,
      "outputs": []
    },
    {
      "cell_type": "code",
      "source": [
        "import matplotlib.pyplot as plt\n",
        "k_dist = sort_neigh_dist[:, 4]\n",
        "plt.plot(k_dist)\n",
        "plt.axhline(y=4.5, linewidth=1, linestyle='dashed', color='k')\n",
        "plt.ylabel(\"k-NN distance\")\n",
        "plt.xlabel(\"Sorted observations (4th NN)\")\n",
        "plt.show()"
      ],
      "metadata": {
        "id": "WLj6ko6FKl7K",
        "outputId": "f9792d0c-d8a2-4925-e046-466b618657a8",
        "colab": {
          "base_uri": "https://localhost:8080/",
          "height": 304
        }
      },
      "execution_count": 334,
      "outputs": [
        {
          "output_type": "display_data",
          "data": {
            "text/plain": [
              "<Figure size 432x288 with 1 Axes>"
            ],
            "image/png": "[encoded data removed]"
          },
          "metadata": {}
        }
      ]
    },
    {
      "cell_type": "code",
      "source": [
        "from sklearn.cluster import DBSCAN\n",
        "clusters = DBSCAN(eps=2.5, min_samples=4.5).fit(df_5)\n",
        "# get cluster labels\n",
        "clusters.labels_\n",
        "\n"
      ],
      "metadata": {
        "id": "74As_m1PKl92",
        "outputId": "fc9239c3-cba6-4787-fbc2-b70152b52577",
        "colab": {
          "base_uri": "https://localhost:8080/"
        }
      },
      "execution_count": 345,
      "outputs": [
        {
          "output_type": "execute_result",
          "data": {
            "text/plain": [
              "array([ 0,  0,  0, ..., 94, 91, 94])"
            ]
          },
          "metadata": {},
          "execution_count": 345
        }
      ]
    },
    {
      "cell_type": "code",
      "source": [
        "\n",
        "# check unique clusters\n",
        "set(clusters.labels_)\n",
        "{0, 1, 2, 3, 4, 5, 6, 7, 8, 9, 10, 11, 12, 13, 14, 15, 16, 17, 18, 19, 20, 21, 22, -1}\n",
        "# -1 value represents noisy points could not assigned to any cluster"
      ],
      "metadata": {
        "id": "6kl-IiyZKmAZ",
        "outputId": "b0658ffa-95a1-4349-8a3c-07ca45ed87c0",
        "colab": {
          "base_uri": "https://localhost:8080/"
        }
      },
      "execution_count": 346,
      "outputs": [
        {
          "output_type": "execute_result",
          "data": {
            "text/plain": [
              "{-1,\n",
              " 0,\n",
              " 1,\n",
              " 2,\n",
              " 3,\n",
              " 4,\n",
              " 5,\n",
              " 6,\n",
              " 7,\n",
              " 8,\n",
              " 9,\n",
              " 10,\n",
              " 11,\n",
              " 12,\n",
              " 13,\n",
              " 14,\n",
              " 15,\n",
              " 16,\n",
              " 17,\n",
              " 18,\n",
              " 19,\n",
              " 20,\n",
              " 21,\n",
              " 22}"
            ]
          },
          "metadata": {},
          "execution_count": 346
        }
      ]
    },
    {
      "cell_type": "code",
      "source": [
        "from collections import Counter\n",
        "Counter(clusters.labels_)"
      ],
      "metadata": {
        "id": "Fq9ARgLwKmC_",
        "outputId": "4e0ae597-9d68-425b-a4c9-b67bd1bc1f72",
        "colab": {
          "base_uri": "https://localhost:8080/"
        }
      },
      "execution_count": 347,
      "outputs": [
        {
          "output_type": "execute_result",
          "data": {
            "text/plain": [
              "Counter({-1: 3426,\n",
              "         0: 7596,\n",
              "         1: 10574,\n",
              "         2: 10,\n",
              "         3: 5,\n",
              "         4: 5,\n",
              "         5: 5,\n",
              "         6: 5,\n",
              "         7: 5043,\n",
              "         8: 8,\n",
              "         9: 5,\n",
              "         10: 3531,\n",
              "         11: 77,\n",
              "         12: 89,\n",
              "         13: 36,\n",
              "         14: 12,\n",
              "         15: 2336,\n",
              "         16: 2,\n",
              "         17: 10,\n",
              "         18: 5,\n",
              "         19: 5547,\n",
              "         20: 9,\n",
              "         21: 7,\n",
              "         22: 23,\n",
              "         23: 588,\n",
              "         24: 6,\n",
              "         25: 15,\n",
              "         26: 49,\n",
              "         27: 34,\n",
              "         28: 12,\n",
              "         29: 16,\n",
              "         30: 569,\n",
              "         31: 11,\n",
              "         32: 10,\n",
              "         33: 17,\n",
              "         34: 7,\n",
              "         35: 197,\n",
              "         36: 14,\n",
              "         37: 68,\n",
              "         38: 37,\n",
              "         39: 236,\n",
              "         40: 95,\n",
              "         41: 5,\n",
              "         42: 8,\n",
              "         43: 4,\n",
              "         44: 10,\n",
              "         45: 5,\n",
              "         46: 5,\n",
              "         47: 4,\n",
              "         48: 5,\n",
              "         49: 20,\n",
              "         50: 8,\n",
              "         51: 12,\n",
              "         52: 7,\n",
              "         53: 50,\n",
              "         54: 8,\n",
              "         55: 18,\n",
              "         56: 4,\n",
              "         57: 7,\n",
              "         58: 5,\n",
              "         59: 5,\n",
              "         60: 15,\n",
              "         61: 20,\n",
              "         62: 6,\n",
              "         63: 12,\n",
              "         64: 13,\n",
              "         65: 16,\n",
              "         66: 7,\n",
              "         67: 56,\n",
              "         68: 50,\n",
              "         69: 86,\n",
              "         70: 8,\n",
              "         71: 8,\n",
              "         72: 18,\n",
              "         73: 4,\n",
              "         74: 4,\n",
              "         75: 5,\n",
              "         76: 5,\n",
              "         77: 5,\n",
              "         78: 16,\n",
              "         79: 32,\n",
              "         80: 10,\n",
              "         81: 7,\n",
              "         82: 5,\n",
              "         83: 52,\n",
              "         84: 45,\n",
              "         85: 7,\n",
              "         86: 14,\n",
              "         87: 9,\n",
              "         88: 5,\n",
              "         89: 6,\n",
              "         90: 38,\n",
              "         91: 38,\n",
              "         92: 7,\n",
              "         93: 5,\n",
              "         94: 10,\n",
              "         95: 7})"
            ]
          },
          "metadata": {},
          "execution_count": 347
        }
      ]
    },
    {
      "cell_type": "code",
      "source": [
        ""
      ],
      "metadata": {
        "id": "WFXPuJ1NKmE4"
      },
      "execution_count": null,
      "outputs": []
    },
    {
      "cell_type": "code",
      "source": [
        ""
      ],
      "metadata": {
        "id": "_tGP7YobKmHX"
      },
      "execution_count": null,
      "outputs": []
    },
    {
      "cell_type": "code",
      "source": [
        ""
      ],
      "metadata": {
        "id": "cFrelBmSzwxQ"
      },
      "execution_count": null,
      "outputs": []
    },
    {
      "cell_type": "code",
      "source": [
        ""
      ],
      "metadata": {
        "id": "mlHN5lmbnseF"
      },
      "execution_count": null,
      "outputs": []
    },
    {
      "cell_type": "code",
      "source": [
        "distance_matrix = gower.gower_matrix(data_full_tran_test_0)\n",
        "\n",
        "distance_matrix"
      ],
      "metadata": {
        "id": "tMHa-1VpbD9r"
      },
      "execution_count": null,
      "outputs": []
    },
    {
      "cell_type": "code",
      "source": [
        "encoder = preprocessing.LabelEncoder()\n",
        "\n",
        "encoded_target = target.apply(encoder.fit_transform)\n",
        "\n",
        "print(f'in this encoding, {encoded_target.iloc[0].values} represents {target.iloc[0].values}')\n",
        "\n",
        "labels = pd.DataFrame()\n",
        "labels['target'] = encoded_target.values.reshape(1, -1).tolist()[0]"
      ],
      "metadata": {
        "id": "bSpvfuUeXo7J"
      },
      "execution_count": null,
      "outputs": []
    },
    {
      "cell_type": "code",
      "source": [
        "model_complete = AgglomerativeClustering(n_clusters=2, linkage='complete', affinity='precomputed')\n",
        "clusters_complete = model_complete.fit_predict(distance_matrix)"
      ],
      "metadata": {
        "id": "AM_6jepWbEAR"
      },
      "execution_count": null,
      "outputs": []
    },
    {
      "cell_type": "code",
      "source": [
        "labels['complete-predictions'] = clusters_complete"
      ],
      "metadata": {
        "id": "OXV7IZfYbECT"
      },
      "execution_count": null,
      "outputs": []
    },
    {
      "cell_type": "code",
      "source": [
        "cri = rand_score(encoded_target.values.reshape(1, -1)[0], clusters_complete)\n",
        "print(f'Rand Index: {cri}')"
      ],
      "metadata": {
        "id": "eRw5gkExbEEg"
      },
      "execution_count": null,
      "outputs": []
    },
    {
      "cell_type": "code",
      "source": [
        "labels[['complete-predictions']].value_counts().plot.pie(autopct='%1.0f%%', pctdistance=0.7, labeldistance=1.1)"
      ],
      "metadata": {
        "id": "c9EGCHheXXYg"
      },
      "execution_count": null,
      "outputs": []
    },
    {
      "cell_type": "code",
      "source": [
        "# labels.value_counts([\"target\", \"complete-predictions\"])"
      ],
      "metadata": {
        "id": "7u4Za9GlXaEC"
      },
      "execution_count": null,
      "outputs": []
    },
    {
      "cell_type": "markdown",
      "source": [
        "The prediction seems to predict the class the other way around so we need to swap the classes."
      ],
      "metadata": {
        "id": "VfXh1gfbAqqC"
      }
    },
    {
      "cell_type": "code",
      "source": [
        "labels['aligned-clusters'] = labels['complete-predictions'].apply(lambda x: int(not x))"
      ],
      "metadata": {
        "id": "9dzBvS-JXbnP"
      },
      "execution_count": null,
      "outputs": []
    },
    {
      "cell_type": "code",
      "source": [
        "labels"
      ],
      "metadata": {
        "id": "AF9Zu4ikzS5a"
      },
      "execution_count": null,
      "outputs": []
    },
    {
      "cell_type": "code",
      "source": [
        "labels.value_counts([\"target\", 'aligned-clusters'])"
      ],
      "metadata": {
        "id": "ZhMUFAGsXcwL"
      },
      "execution_count": null,
      "outputs": []
    },
    {
      "cell_type": "code",
      "source": [
        "cf_matrix = confusion_matrix(encoded_target.values.reshape(1, -1)[0], labels[[\"aligned-clusters\"]].values.reshape(1, -1)[0])\n",
        "cf_labels = ['True Neg','False Pos','False Neg','True Pos']\n",
        "cf_labels = np.asarray(cf_labels).reshape(2,2)\n",
        "fig, ax = plt.subplots(1, 1)\n",
        "sns.heatmap(cf_matrix/np.sum(cf_matrix), annot=cf_labels, fmt='', cmap='Blues')\n",
        "ax.set_ylabel('Target Labels')    \n",
        "ax.set_xlabel('Predicted Labels')"
      ],
      "metadata": {
        "id": "qrJlLuroXdtK"
      },
      "execution_count": null,
      "outputs": []
    },
    {
      "cell_type": "code",
      "source": [
        "cf_matrix"
      ],
      "metadata": {
        "id": "CMI-jC2q3c23"
      },
      "execution_count": null,
      "outputs": []
    },
    {
      "cell_type": "code",
      "source": [
        "True_neg = cf_matrix[0,0]\n",
        "False_pos = cf_matrix[0,1]\n",
        "True_pos = cf_matrix[1,1]\n",
        "False_neg = cf_matrix[1,0]\n",
        "\n",
        "accuracy = (True_neg + True_pos)/(True_neg + False_neg + True_pos + False_pos)\n",
        "recall = (True_pos)/(False_neg+True_pos)\n",
        "precision = (True_pos)/(False_pos + True_pos)\n",
        "F1_score = 2 * ((precision*recall)/(precision+recall))"
      ],
      "metadata": {
        "id": "DaiZi7G9DDsd"
      },
      "execution_count": null,
      "outputs": []
    },
    {
      "cell_type": "code",
      "source": [
        "print(f'Accuracy: {accuracy}')\n",
        "print(f'Recall: {recall}')\n",
        "print(f'Precision: {precision}')\n",
        "print(f'F1_score: {F1_score}')"
      ],
      "metadata": {
        "id": "il0SAzncDDvl"
      },
      "execution_count": null,
      "outputs": []
    },
    {
      "cell_type": "markdown",
      "source": [
        "Attach prediction back to orginal data"
      ],
      "metadata": {
        "id": "Ts4aqlq5H-aQ"
      }
    },
    {
      "cell_type": "code",
      "source": [
        "data_full_sample['prediction_y'] = labels['aligned-clusters']"
      ],
      "metadata": {
        "id": "H4QW6athDDyA"
      },
      "execution_count": null,
      "outputs": []
    },
    {
      "cell_type": "code",
      "source": [
        "data_full_sample.head().T"
      ],
      "metadata": {
        "id": "PzxVo7bYDD0v"
      },
      "execution_count": null,
      "outputs": []
    },
    {
      "cell_type": "code",
      "source": [
        "data_full_sample[data_full_sample['prediction_y'] == 1]"
      ],
      "metadata": {
        "id": "8NiTK9nzIR1a"
      },
      "execution_count": null,
      "outputs": []
    },
    {
      "cell_type": "code",
      "source": [
        "data_full_sample.info()"
      ],
      "metadata": {
        "id": "GIA0ibKXIbOC"
      },
      "execution_count": null,
      "outputs": []
    },
    {
      "cell_type": "code",
      "source": [
        ""
      ],
      "metadata": {
        "id": "05_ut4BCIu4L"
      },
      "execution_count": null,
      "outputs": []
    }
  ]
}